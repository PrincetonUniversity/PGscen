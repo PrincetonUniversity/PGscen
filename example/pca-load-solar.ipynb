{
 "cells": [
  {
   "cell_type": "code",
   "execution_count": null,
   "id": "dcb23f30",
   "metadata": {},
   "outputs": [],
   "source": [
    "import pandas as pd\n",
    "import numpy as np\n",
    "import matplotlib.pyplot as plt\n",
    "from pgscen.engine import GeminiEngine, GeminiModel\n",
    "from pgscen.utils.data_utils import split_actuals_hist_future, split_forecasts_hist_future\n",
    "from pathlib import Path\n",
    "from pgscen.pca import PCAGeminiEngine, PCAGeminiModel, standardize\n",
    "from pgscen.utils.solar_utils import get_yearly_date_range\n",
    "from pgscen.utils.r_utils import gemini, graphical_lasso, qdist\n",
    "import random\n",
    "from typing import List, Dict, Tuple, Iterable, Optional\n",
    "from scipy.linalg import sqrtm\n",
    "from scipy.stats import norm\n",
    "from scipy.linalg import null_space\n",
    "from sklearn.decomposition import PCA\n",
    "from mpl_toolkits.mplot3d import Axes3D\n",
    "from astral.sun import sun\n",
    "from astral import LocationInfo "
   ]
  },
  {
   "cell_type": "code",
   "execution_count": null,
   "id": "5167e82f",
   "metadata": {},
   "outputs": [],
   "source": [
    "def load_wind_data(data_path):\n",
    "    wind_site_actual_df = pd.read_csv(\n",
    "        Path(data_path, 'Wind', 'NREL', 'Actual',\n",
    "             'wind_actual_1h_site_2017_2018_utc.csv'),\n",
    "        parse_dates=['Time'], index_col='Time'\n",
    "        )\n",
    "\n",
    "    wind_site_forecast_df = pd.read_csv(\n",
    "        Path(data_path, 'Wind', 'NREL', 'Day-ahead', 'PF',\n",
    "             'wind_day_ahead_forecast_site_2018_utc.csv'),\n",
    "        parse_dates=['Issue_time', 'Forecast_time']\n",
    "        )\n",
    "\n",
    "    wind_meta_df = pd.read_excel(\n",
    "        Path(data_path, 'MetaData', 'wind_meta.xlsx'))\n",
    "\n",
    "    return wind_site_actual_df, wind_site_forecast_df, wind_meta_df"
   ]
  },
  {
   "cell_type": "code",
   "execution_count": null,
   "id": "2efd582e",
   "metadata": {},
   "outputs": [],
   "source": [
    "def load_solar_data(data_path):\n",
    "    solar_site_actual_df = pd.read_csv(\n",
    "        Path(data_path, 'Solar', 'NREL', 'Actual',\n",
    "             'solar_actual_1h_site_2017_2018_utc.csv'),\n",
    "        parse_dates=['Time'], index_col='Time'\n",
    "        )\n",
    "\n",
    "    solar_site_forecast_df = pd.read_csv(\n",
    "        Path(data_path, 'Solar', 'NREL', 'Day-ahead',\n",
    "             'solar_day_ahead_forecast_site_2017_2018_utc.csv'),\n",
    "        parse_dates=['Issue_time', 'Forecast_time']\n",
    "        )\n",
    "\n",
    "    solar_meta_df = pd.read_excel(\n",
    "        Path(data_path, 'MetaData', 'solar_meta.xlsx'))\n",
    "\n",
    "    return solar_site_actual_df, solar_site_forecast_df, solar_meta_df"
   ]
  },
  {
   "cell_type": "code",
   "execution_count": null,
   "id": "8db34bd7",
   "metadata": {},
   "outputs": [],
   "source": [
    "def load_load_data(data_path):\n",
    "    load_zone_actual_df = pd.read_csv(\n",
    "        Path(data_path, 'Load', 'ERCOT', 'Actual',\n",
    "             'load_actual_1h_zone_2017_2018_utc.csv'),\n",
    "        parse_dates=['Time'], index_col='Time'\n",
    "        )\n",
    "\n",
    "    load_zone_forecast_df = pd.read_csv(\n",
    "        Path(data_path, 'Load', 'ERCOT', 'Day-ahead',\n",
    "             'load_day_ahead_forecast_zone_2017_2018_utc.csv'),\n",
    "        parse_dates=['Issue_time', 'Forecast_time']\n",
    "        )\n",
    "\n",
    "    return load_zone_actual_df, load_zone_forecast_df\n"
   ]
  },
  {
   "cell_type": "code",
   "execution_count": null,
   "id": "ba7f06c2",
   "metadata": {},
   "outputs": [],
   "source": [
    "scen_start_time = pd.to_datetime('2018-08-01 06:00:00',utc=True)\n",
    "nscen = 1000"
   ]
  },
  {
   "cell_type": "code",
   "execution_count": null,
   "id": "437bf33d",
   "metadata": {},
   "outputs": [],
   "source": [
    "load_zone_actual_df, load_zone_forecast_df = load_load_data('../data/')\n",
    "solar_site_actual_df, solar_site_forecast_df, solar_meta_df = load_solar_data('../data/')\n",
    "wind_site_actual_df, wind_site_forecast_df, wind_meta_df = load_wind_data('../data/')"
   ]
  },
  {
   "cell_type": "code",
   "execution_count": null,
   "id": "3fa7abf1",
   "metadata": {},
   "outputs": [],
   "source": [
    "scen_timesteps = pd.date_range(start=scen_start_time,periods=24, freq='H')\n",
    "\n",
    "(load_zone_actual_hists,\n",
    "            load_zone_actual_futures) = split_actuals_hist_future(\n",
    "                    load_zone_actual_df, scen_timesteps, in_sample=True)\n",
    "\n",
    "(load_zone_forecast_hists,\n",
    "            load_zone_forecast_futures) = split_forecasts_hist_future(\n",
    "                    load_zone_forecast_df, scen_timesteps, in_sample=True)\n",
    "\n",
    "\n",
    "(solar_site_actual_hists,\n",
    "            solar_site_actual_futures) = split_actuals_hist_future(\n",
    "                    solar_site_actual_df, scen_timesteps, in_sample=True)\n",
    "\n",
    "(solar_site_forecast_hists,\n",
    "            solar_site_forecast_futures) = split_forecasts_hist_future(\n",
    "                    solar_site_forecast_df, scen_timesteps, in_sample=True)\n",
    "\n",
    "(wind_site_actual_hists,\n",
    "            wind_site_actual_futures) = split_actuals_hist_future(\n",
    "                    wind_site_actual_df, scen_timesteps, in_sample=True)\n",
    "\n",
    "(wind_site_forecast_hists,\n",
    "            wind_site_forecast_futures) = split_forecasts_hist_future(\n",
    "                    wind_site_forecast_df, scen_timesteps, in_sample=True)"
   ]
  },
  {
   "cell_type": "code",
   "execution_count": null,
   "id": "c651a85f",
   "metadata": {},
   "outputs": [],
   "source": [
    "pge = PCAGeminiEngine(solar_site_actual_hists, \n",
    "                      solar_site_forecast_hists, \n",
    "                      scen_start_time, \n",
    "                      solar_meta_df)"
   ]
  },
  {
   "cell_type": "markdown",
   "id": "22c3285c",
   "metadata": {},
   "source": [
    "# Fit solar model"
   ]
  },
  {
   "cell_type": "code",
   "execution_count": null,
   "id": "1199eeda",
   "metadata": {},
   "outputs": [],
   "source": [
    "dist = pge.asset_distance().values\n",
    "\n",
    "pge.fit(num_of_components=12, asset_rho=dist/(10*dist.max()), horizon_rho=5e-2)"
   ]
  },
  {
   "cell_type": "code",
   "execution_count": null,
   "id": "cde1b0fe",
   "metadata": {},
   "outputs": [],
   "source": [
    "pge.create_scenario(nscen, solar_site_forecast_futures)"
   ]
  },
  {
   "cell_type": "code",
   "execution_count": null,
   "id": "f3952494",
   "metadata": {},
   "outputs": [],
   "source": [
    "# pge.model.asset_cov.to_csv('/Users/xy3134/Research/PERFORM/notebooks/visualization/ERCOT/data/solar_asset_cov.csv',\n",
    "#                           index=False)"
   ]
  },
  {
   "cell_type": "code",
   "execution_count": null,
   "id": "cad46bf4",
   "metadata": {},
   "outputs": [],
   "source": [
    "pge.write_to_csv('/Users/xy3134/Research/PERFORM/Data/scenario/test/', \n",
    "                 {'solar':solar_site_actual_futures})"
   ]
  },
  {
   "cell_type": "markdown",
   "id": "6b353dbb",
   "metadata": {},
   "source": [
    "# Fit load and solar joint model"
   ]
  },
  {
   "cell_type": "code",
   "execution_count": null,
   "id": "9db2e04c",
   "metadata": {},
   "outputs": [],
   "source": [
    "dist = pge.asset_distance().values\n",
    "\n",
    "pge.fit_load_solar_joint_model(num_of_components=12, asset_rho=dist/(10*dist.max()), \n",
    "                               horizon_rho=5e-2, load_hist_actual_df=load_zone_actual_hists, \n",
    "                               load_hist_forecast_df=load_zone_forecast_hists)"
   ]
  },
  {
   "cell_type": "code",
   "execution_count": null,
   "id": "dbdd3830",
   "metadata": {},
   "outputs": [],
   "source": [
    "pge.create_load_solar_joint_scenario(nscen, load_zone_forecast_futures, solar_site_forecast_futures)"
   ]
  },
  {
   "cell_type": "code",
   "execution_count": null,
   "id": "ac957c3c",
   "metadata": {},
   "outputs": [],
   "source": [
    "pge.write_to_csv('/Users/xy3134/Research/PERFORM/Data/scenario/test/', \n",
    "                 {'load':load_zone_actual_futures, 'solar':solar_site_actual_futures})"
   ]
  },
  {
   "cell_type": "code",
   "execution_count": null,
   "id": "a527b7b3",
   "metadata": {},
   "outputs": [],
   "source": [
    "pge.joint_md.asset_cov.to_csv('/Users/xy3134/Research/PERFORM/notebooks/visualization/ERCOT/data/joint_load_solar_cov.csv',\n",
    "                             index=False)"
   ]
  },
  {
   "cell_type": "code",
   "execution_count": null,
   "id": "d643b750",
   "metadata": {},
   "outputs": [],
   "source": []
  },
  {
   "cell_type": "markdown",
   "id": "3ff4f14d",
   "metadata": {},
   "source": [
    "# Wind"
   ]
  },
  {
   "cell_type": "code",
   "execution_count": null,
   "id": "0c63e8c8",
   "metadata": {},
   "outputs": [],
   "source": [
    "ge = GeminiEngine(wind_site_actual_hists, wind_site_forecast_hists, \n",
    "                 scen_start_time, wind_meta_df, 'wind')"
   ]
  },
  {
   "cell_type": "code",
   "execution_count": null,
   "id": "0e7b2303",
   "metadata": {},
   "outputs": [],
   "source": [
    "dist = ge.asset_distance().values\n",
    "\n",
    "ge.fit(asset_rho=dist/(10*dist.max()), horizon_rho=5e-2)"
   ]
  },
  {
   "cell_type": "code",
   "execution_count": null,
   "id": "c3a975d4",
   "metadata": {},
   "outputs": [],
   "source": [
    "ge.create_scenario(nscen, wind_site_forecast_futures)"
   ]
  },
  {
   "cell_type": "code",
   "execution_count": null,
   "id": "06eb63b1",
   "metadata": {},
   "outputs": [],
   "source": [
    "ge.write_to_csv('/Users/xy3134/Research/PERFORM/Data/scenario/test/', {'wind':wind_site_actual_futures})"
   ]
  },
  {
   "cell_type": "code",
   "execution_count": null,
   "id": "d980b2ee",
   "metadata": {},
   "outputs": [],
   "source": [
    "ge.model.asset_cov.to_csv('/Users/xy3134/Research/PERFORM/notebooks/visualization/ERCOT/data/wind_asset_cov.csv',\n",
    "                         index=False)"
   ]
  }
 ],
 "metadata": {
  "kernelspec": {
   "display_name": "Python 3 (ipykernel)",
   "language": "python",
   "name": "python3"
  },
  "language_info": {
   "codemirror_mode": {
    "name": "ipython",
    "version": 3
   },
   "file_extension": ".py",
   "mimetype": "text/x-python",
   "name": "python",
   "nbconvert_exporter": "python",
   "pygments_lexer": "ipython3",
   "version": "3.8.12"
  }
 },
 "nbformat": 4,
 "nbformat_minor": 5
}
