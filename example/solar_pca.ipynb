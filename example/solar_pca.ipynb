{
 "cells": [
  {
   "cell_type": "code",
   "execution_count": null,
   "id": "3c871738",
   "metadata": {},
   "outputs": [],
   "source": [
    "import pandas as pd\n",
    "import numpy as np\n",
    "import matplotlib.pyplot as plt\n",
    "from pgscen.engine import GeminiEngine\n",
    "from pgscen.utils.data_utils import split_actuals_hist_future, split_forecasts_hist_future\n",
    "from pathlib import Path\n",
    "from pgscen.pca import PCAGeminiEngine, PCAGeminiModel\n",
    "from pgscen.utils.solar_utils import get_yearly_date_range"
   ]
  },
  {
   "cell_type": "code",
   "execution_count": null,
   "id": "c06a19b3",
   "metadata": {},
   "outputs": [],
   "source": [
    "!ls ../data/MetaData"
   ]
  },
  {
   "cell_type": "code",
   "execution_count": null,
   "id": "0aedd057",
   "metadata": {},
   "outputs": [],
   "source": [
    "def load_solar_data(data_path):\n",
    "    solar_site_actual_df = pd.read_csv(\n",
    "        Path(data_path, 'Solar', 'NREL', 'Actual',\n",
    "             'solar_actual_1h_site_2017_2018_utc.csv'),\n",
    "        parse_dates=['Time'], index_col='Time'\n",
    "        )\n",
    "\n",
    "    solar_site_forecast_df = pd.read_csv(\n",
    "        Path(data_path, 'Solar', 'NREL', 'Day-ahead',\n",
    "             'solar_day_ahead_forecast_site_2017_2018_utc.csv'),\n",
    "        parse_dates=['Issue_time', 'Forecast_time']\n",
    "        )\n",
    "\n",
    "    solar_meta_df = pd.read_excel(\n",
    "        Path(data_path, 'MetaData', 'solar_meta.xlsx'))\n",
    "\n",
    "    return solar_site_actual_df, solar_site_forecast_df, solar_meta_df"
   ]
  },
  {
   "cell_type": "code",
   "execution_count": null,
   "id": "1434af8b",
   "metadata": {},
   "outputs": [],
   "source": [
    "scen_start_time = pd.to_datetime('2018-07-01 06:00:00',utc=True)\n",
    "nscen = 1000"
   ]
  },
  {
   "cell_type": "code",
   "execution_count": null,
   "id": "908b0350",
   "metadata": {},
   "outputs": [],
   "source": [
    "solar_site_actual_df, solar_site_forecast_df, solar_meta_df = load_solar_data('../data/')"
   ]
  },
  {
   "cell_type": "code",
   "execution_count": null,
   "id": "d244f742",
   "metadata": {},
   "outputs": [],
   "source": [
    "scen_timesteps = pd.date_range(start=scen_start_time,periods=24, freq='H')\n",
    "\n",
    "(solar_site_actual_hists,\n",
    "            solar_site_actual_futures) = split_actuals_hist_future(\n",
    "                    solar_site_actual_df, scen_timesteps)\n",
    "\n",
    "(solar_site_forecast_hists,\n",
    "            solar_site_forecast_futures) = split_forecasts_hist_future(\n",
    "                    solar_site_forecast_df, scen_timesteps)"
   ]
  },
  {
   "cell_type": "code",
   "execution_count": null,
   "id": "85e25f5e",
   "metadata": {},
   "outputs": [],
   "source": [
    "hist_dates = sorted(get_yearly_date_range(date=scen_start_time,num_of_days=50,\n",
    "                      start=str(solar_site_actual_hists.index.min().date()),\n",
    "                      end=str(solar_site_actual_hists.index.max().date())))[:-1]\n",
    "hist_fcst_issue_times = [t-pd.Timedelta(6,unit='H') for t in hist_dates]"
   ]
  },
  {
   "cell_type": "code",
   "execution_count": null,
   "id": "2eeab509",
   "metadata": {},
   "outputs": [],
   "source": [
    "solar_site_forecast_hists = solar_site_forecast_hists[solar_site_forecast_hists['Issue_time'].isin(hist_fcst_issue_times)]\n",
    "hist_start = solar_site_forecast_hists['Forecast_time'].min()\n",
    "hist_end = solar_site_forecast_hists['Forecast_time'].max()\n",
    "solar_site_actual_hists = solar_site_actual_hists[(solar_site_actual_hists.index>=hist_start) & \\\n",
    "                                                  (solar_site_actual_hists.index<=hist_end)]"
   ]
  },
  {
   "cell_type": "code",
   "execution_count": null,
   "id": "5f74417d",
   "metadata": {},
   "outputs": [],
   "source": [
    "solar_site_actual_hists"
   ]
  },
  {
   "cell_type": "code",
   "execution_count": null,
   "id": "52aff229",
   "metadata": {},
   "outputs": [],
   "source": [
    "pge = PCAGeminiEngine(solar_site_actual_hists, solar_site_forecast_hists, scen_start_time, solar_meta_df)\n",
    "dist = pge.asset_distance().values\n",
    "pge.fit(10, dist / (10 * dist.max()), 5e-2)"
   ]
  },
  {
   "cell_type": "code",
   "execution_count": null,
   "id": "dc733b5e",
   "metadata": {},
   "outputs": [],
   "source": [
    "pge.model.pca_dict"
   ]
  },
  {
   "cell_type": "code",
   "execution_count": null,
   "id": "30f2e261",
   "metadata": {},
   "outputs": [],
   "source": [
    "pge.create_scenario(1000, solar_site_forecast_futures)"
   ]
  },
  {
   "cell_type": "code",
   "execution_count": null,
   "id": "73d741fe",
   "metadata": {
    "scrolled": true
   },
   "outputs": [],
   "source": [
    "pge.model.scen_df.round(2)"
   ]
  },
  {
   "cell_type": "code",
   "execution_count": null,
   "id": "5ce6ea9b",
   "metadata": {},
   "outputs": [],
   "source": [
    "pge.model.hist_dev_df"
   ]
  },
  {
   "cell_type": "code",
   "execution_count": null,
   "id": "af533d3e",
   "metadata": {},
   "outputs": [],
   "source": [
    "pge.model.asset_cov.to_csv('/Users/xy3134/Research/PERFORM/notebooks/NREL/solar_pca/data/asset_cov.csv',index=False)"
   ]
  },
  {
   "cell_type": "code",
   "execution_count": null,
   "id": "f04eea90",
   "metadata": {},
   "outputs": [],
   "source": [
    "save_dir = '/Users/xy3134/Research/PERFORM/Data/Outputs/PGscen/PCA'\n",
    "\n",
    "pge.write_to_csv(save_dir,solar_site_actual_futures,write_forecasts=True)"
   ]
  },
  {
   "cell_type": "code",
   "execution_count": null,
   "id": "c5782b9c",
   "metadata": {},
   "outputs": [],
   "source": [
    "datadir = '/Users/xy3134/Research/PERFORM/Data/Outputs/PGscen/PCA/20180102/solar/'\n",
    "pd.read_csv(datadir+'Adamstown_Solar.csv')"
   ]
  },
  {
   "cell_type": "code",
   "execution_count": null,
   "id": "4d4b1488",
   "metadata": {},
   "outputs": [],
   "source": [
    "pge.model.fit(1e-2, 1e-2)"
   ]
  },
  {
   "cell_type": "code",
   "execution_count": null,
   "id": "edf8f5d0",
   "metadata": {},
   "outputs": [],
   "source": [
    "# pge.model.asset_cov\n",
    "pge.model.horizon_cov"
   ]
  },
  {
   "cell_type": "code",
   "execution_count": null,
   "id": "471bac4b",
   "metadata": {},
   "outputs": [],
   "source": [
    "md = pge.model"
   ]
  },
  {
   "cell_type": "code",
   "execution_count": null,
   "id": "f26a39da",
   "metadata": {},
   "outputs": [],
   "source": [
    "nscen = 1000\n",
    "md.get_forecast(solar_site_forecast_futures)\n",
    "md.generate_gauss_pca_scenarios(nscen)"
   ]
  },
  {
   "cell_type": "code",
   "execution_count": null,
   "id": "bfcb0fa1",
   "metadata": {},
   "outputs": [],
   "source": [
    "plt.hist(md.scen_df.round(2).values[:,8],bins=30)"
   ]
  },
  {
   "cell_type": "code",
   "execution_count": null,
   "id": "c1eb9b78",
   "metadata": {},
   "outputs": [],
   "source": [
    "scen_df = pd.DataFrame()\n",
    "\n",
    "for asset in md.asset_list:\n",
    "    pca_cols = [(asset,t) for t in md.pca_scen_timesteps]\n",
    "#     cols = \n",
    "    md.pca.inverse_transform(md.scen_pca_df[pca_cols].values)"
   ]
  },
  {
   "cell_type": "code",
   "execution_count": null,
   "id": "1dd75ebb",
   "metadata": {},
   "outputs": [],
   "source": [
    "arr = md.pca.inverse_transform(md.scen_pca_df[pca_cols].values)"
   ]
  },
  {
   "cell_type": "code",
   "execution_count": null,
   "id": "79a5c542",
   "metadata": {},
   "outputs": [],
   "source": [
    "(arr+md.hist_dev_mean_dict['Adamstown Solar']['mean'])[0,:]"
   ]
  },
  {
   "cell_type": "code",
   "execution_count": null,
   "id": "2495f13f",
   "metadata": {},
   "outputs": [],
   "source": [
    "md.hist_dev_mean_dict['Adamstown Solar']['mean']"
   ]
  },
  {
   "cell_type": "code",
   "execution_count": null,
   "id": "436bd863",
   "metadata": {},
   "outputs": [],
   "source": [
    "arr[0,:]"
   ]
  },
  {
   "cell_type": "code",
   "execution_count": null,
   "id": "0dd22760",
   "metadata": {},
   "outputs": [],
   "source": []
  }
 ],
 "metadata": {
  "kernelspec": {
   "display_name": "Python 3 (ipykernel)",
   "language": "python",
   "name": "python3"
  },
  "language_info": {
   "codemirror_mode": {
    "name": "ipython",
    "version": 3
   },
   "file_extension": ".py",
   "mimetype": "text/x-python",
   "name": "python",
   "nbconvert_exporter": "python",
   "pygments_lexer": "ipython3",
   "version": "3.8.12"
  }
 },
 "nbformat": 4,
 "nbformat_minor": 5
}
