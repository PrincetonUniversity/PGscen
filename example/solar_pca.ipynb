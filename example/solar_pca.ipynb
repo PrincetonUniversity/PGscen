{
 "cells": [
  {
   "cell_type": "code",
   "execution_count": null,
   "id": "3c871738",
   "metadata": {},
   "outputs": [],
   "source": [
    "import pandas as pd\n",
    "import numpy as np\n",
    "import matplotlib.pyplot as plt\n",
    "from pgscen.engine import GeminiEngine\n",
    "from pgscen.utils.data_utils import split_actuals_hist_future, split_forecasts_hist_future\n",
    "from pathlib import Path\n",
    "from pgscen.pca import PCAGeminiEngine, PCAGeminiModel\n",
    "from pgscen.spca import SPCAGeminiEngine, SPCAGeminiModel\n",
    "from pgscen.utils.solar_utils import get_yearly_date_range\n",
    "import random"
   ]
  },
  {
   "cell_type": "code",
   "execution_count": null,
   "id": "46693b6a",
   "metadata": {},
   "outputs": [],
   "source": [
    "from pgscen.spca import spca"
   ]
  },
  {
   "cell_type": "code",
   "execution_count": null,
   "id": "c06a19b3",
   "metadata": {},
   "outputs": [],
   "source": [
    "!ls ../data/MetaData"
   ]
  },
  {
   "cell_type": "code",
   "execution_count": null,
   "id": "0aedd057",
   "metadata": {},
   "outputs": [],
   "source": [
    "def load_solar_data(data_path):\n",
    "    solar_site_actual_df = pd.read_csv(\n",
    "        Path(data_path, 'Solar', 'NREL', 'Actual',\n",
    "             'solar_actual_1h_site_2017_2018_utc.csv'),\n",
    "        parse_dates=['Time'], index_col='Time'\n",
    "        )\n",
    "\n",
    "    solar_site_forecast_df = pd.read_csv(\n",
    "        Path(data_path, 'Solar', 'NREL', 'Day-ahead',\n",
    "             'solar_day_ahead_forecast_site_2017_2018_utc.csv'),\n",
    "        parse_dates=['Issue_time', 'Forecast_time']\n",
    "        )\n",
    "\n",
    "    solar_meta_df = pd.read_excel(\n",
    "        Path(data_path, 'MetaData', 'solar_meta.xlsx'))\n",
    "\n",
    "    return solar_site_actual_df, solar_site_forecast_df, solar_meta_df"
   ]
  },
  {
   "cell_type": "code",
   "execution_count": null,
   "id": "1434af8b",
   "metadata": {},
   "outputs": [],
   "source": [
    "scen_start_time = pd.to_datetime('2018-02-07 06:00:00',utc=True)\n",
    "nscen = 1000"
   ]
  },
  {
   "cell_type": "code",
   "execution_count": null,
   "id": "908b0350",
   "metadata": {},
   "outputs": [],
   "source": [
    "solar_site_actual_df, solar_site_forecast_df, solar_meta_df = load_solar_data('../data/')"
   ]
  },
  {
   "cell_type": "code",
   "execution_count": null,
   "id": "d244f742",
   "metadata": {},
   "outputs": [],
   "source": [
    "scen_timesteps = pd.date_range(start=scen_start_time,periods=24, freq='H')\n",
    "\n",
    "(solar_site_actual_hists,\n",
    "            solar_site_actual_futures) = split_actuals_hist_future(\n",
    "                    solar_site_actual_df, scen_timesteps)\n",
    "\n",
    "(solar_site_forecast_hists,\n",
    "            solar_site_forecast_futures) = split_forecasts_hist_future(\n",
    "                    solar_site_forecast_df, scen_timesteps)"
   ]
  },
  {
   "cell_type": "code",
   "execution_count": null,
   "id": "85e25f5e",
   "metadata": {},
   "outputs": [],
   "source": [
    "hist_dates = sorted(get_yearly_date_range(date=scen_start_time,num_of_days=50,\n",
    "                      start=str(solar_site_actual_hists.index.min().date()),\n",
    "                      end=str(solar_site_actual_hists.index.max().date())))[:-1]\n",
    "hist_fcst_issue_times = [t-pd.Timedelta(6,unit='H') for t in hist_dates]"
   ]
  },
  {
   "cell_type": "code",
   "execution_count": null,
   "id": "2eeab509",
   "metadata": {},
   "outputs": [],
   "source": [
    "solar_site_forecast_hists = solar_site_forecast_hists[solar_site_forecast_hists['Issue_time'].isin(hist_fcst_issue_times)]\n",
    "hist_start = solar_site_forecast_hists['Forecast_time'].min()\n",
    "hist_end = solar_site_forecast_hists['Forecast_time'].max()\n",
    "solar_site_actual_hists = solar_site_actual_hists[(solar_site_actual_hists.index>=hist_start) & \\\n",
    "                                                  (solar_site_actual_hists.index<=hist_end)]"
   ]
  },
  {
   "cell_type": "code",
   "execution_count": null,
   "id": "52aff229",
   "metadata": {},
   "outputs": [],
   "source": [
    "pge = PCAGeminiEngine(solar_site_actual_hists, solar_site_forecast_hists, scen_start_time, solar_meta_df)\n",
    "dist = pge.asset_distance().values\n",
    "pge.fit(10, dist / (10 * dist.max()), 5e-2)"
   ]
  },
  {
   "cell_type": "code",
   "execution_count": null,
   "id": "30f2e261",
   "metadata": {},
   "outputs": [],
   "source": [
    "pge.create_scenario(1000, solar_site_forecast_futures)\n",
    "pge.model.scen_df.round(2)"
   ]
  },
  {
   "cell_type": "code",
   "execution_count": null,
   "id": "af533d3e",
   "metadata": {},
   "outputs": [],
   "source": [
    "# pge.model.asset_cov.to_csv('/Users/xy3134/Research/PERFORM/notebooks/NREL/solar_pca/data/asset_cov.csv',index=False)"
   ]
  },
  {
   "cell_type": "code",
   "execution_count": null,
   "id": "f04eea90",
   "metadata": {},
   "outputs": [],
   "source": [
    "save_dir = '/Users/xy3134/Research/PERFORM/Data/Outputs/PGscen/PCA'\n",
    "\n",
    "pge.write_to_csv(save_dir,solar_site_actual_futures,write_forecasts=True)"
   ]
  },
  {
   "cell_type": "code",
   "execution_count": null,
   "id": "c5782b9c",
   "metadata": {},
   "outputs": [],
   "source": [
    "datadir = '/Users/xy3134/Research/PERFORM/Data/Outputs/PGscen/PCA/20180102/solar/'\n",
    "pd.read_csv(datadir+'Adamstown_Solar.csv')"
   ]
  },
  {
   "cell_type": "code",
   "execution_count": null,
   "id": "0dd22760",
   "metadata": {},
   "outputs": [],
   "source": [
    "pge.scenarios['solar']"
   ]
  },
  {
   "cell_type": "code",
   "execution_count": null,
   "id": "41f27529",
   "metadata": {},
   "outputs": [],
   "source": [
    "idx = random.sample(range(0, 1000), 1)[0]\n",
    "\n",
    "asset_list = ['solar288','solar289','solar290','solar291']\n",
    "\n",
    "\n",
    "plt.figure(figsize=(16,8))\n",
    "for (i,asset) in enumerate(asset_list):\n",
    "    cols = [(asset,ts) for ts in pge.scen_timesteps]\n",
    "    df = pge.scenarios['solar'][cols]\n",
    "    plt.subplot(2,2,i+1)\n",
    "    plt.plot(df.loc[idx].values)"
   ]
  },
  {
   "cell_type": "code",
   "execution_count": null,
   "id": "946d24f9",
   "metadata": {},
   "outputs": [],
   "source": [
    "df.loc[idx]"
   ]
  },
  {
   "cell_type": "code",
   "execution_count": null,
   "id": "453c1acc",
   "metadata": {},
   "outputs": [],
   "source": [
    "pge.model.horizon_cov"
   ]
  },
  {
   "cell_type": "code",
   "execution_count": null,
   "id": "4b8c91f6",
   "metadata": {},
   "outputs": [],
   "source": [
    "cov = pge.model.asset_cov.values\n",
    "corr = np.diag(1/np.sqrt(np.diag(cov)))@cov@np.diag(1/np.sqrt(np.diag(cov)))\n",
    "corr_df = pd.DataFrame(data=corr,index=pge.model.asset_cov.columns,columns=pge.model.asset_cov.columns)"
   ]
  },
  {
   "cell_type": "code",
   "execution_count": null,
   "id": "92aec332",
   "metadata": {},
   "outputs": [],
   "source": [
    "corr_df"
   ]
  },
  {
   "cell_type": "code",
   "execution_count": null,
   "id": "e712179f",
   "metadata": {},
   "outputs": [],
   "source": [
    "corr_df[asset_list].loc[asset_list]"
   ]
  },
  {
   "cell_type": "code",
   "execution_count": null,
   "id": "25aa4afe",
   "metadata": {},
   "outputs": [],
   "source": [
    "ncomp = 3\n",
    "\n",
    "plt.figure(figsize=(16,8))\n",
    "for (i,asset) in enumerate(asset_list):\n",
    "    plt.subplot(2,2,i+1)\n",
    "    plt.plot(pge.model.pca_dict[asset]['pca'].components_[ncomp,:])"
   ]
  },
  {
   "cell_type": "markdown",
   "id": "2a62e828",
   "metadata": {},
   "source": [
    "# Test SparsePCA"
   ]
  },
  {
   "cell_type": "code",
   "execution_count": null,
   "id": "2bb1d945",
   "metadata": {},
   "outputs": [],
   "source": [
    "from sklearn.decomposition import SparsePCA"
   ]
  },
  {
   "cell_type": "code",
   "execution_count": null,
   "id": "6e62e4fe",
   "metadata": {},
   "outputs": [],
   "source": [
    "df = pge.model.hist_dev_df\n",
    "\n",
    "n = df.shape[0]\n",
    "arr = np.zeros((n*226, 24))\n",
    "\n",
    "for i in range(226):\n",
    "    arr[i*n:(i+1)*n,:] = df.values[:,i*24:(i+1)*24]\n",
    "    \n",
    "arr = arr-np.mean(arr,axis=0)"
   ]
  },
  {
   "cell_type": "code",
   "execution_count": null,
   "id": "5e39e362",
   "metadata": {},
   "outputs": [],
   "source": [
    "pca = SparsePCA(n_components=10,random_state=0, ridge_alpha=0.)\n",
    "Y = pca.fit_transform(arr)"
   ]
  },
  {
   "cell_type": "code",
   "execution_count": null,
   "id": "13b7b8b4",
   "metadata": {},
   "outputs": [],
   "source": [
    "Y.shape"
   ]
  },
  {
   "cell_type": "code",
   "execution_count": null,
   "id": "0589820c",
   "metadata": {},
   "outputs": [],
   "source": [
    "for i in range(10):\n",
    "    plt.figure()\n",
    "    plt.plot(pca.components_[i,:])"
   ]
  },
  {
   "cell_type": "code",
   "execution_count": null,
   "id": "8e24339d",
   "metadata": {},
   "outputs": [],
   "source": [
    "pca.components_@arr[0,:]"
   ]
  },
  {
   "cell_type": "code",
   "execution_count": null,
   "id": "fe90ec5e",
   "metadata": {},
   "outputs": [],
   "source": [
    "# pca.components_@pca.components_.T"
   ]
  },
  {
   "cell_type": "code",
   "execution_count": null,
   "id": "cb1f697a",
   "metadata": {},
   "outputs": [],
   "source": [
    "np.linalg.inv(pca.components_@pca.components_.T)@Y[0,:]"
   ]
  },
  {
   "cell_type": "code",
   "execution_count": null,
   "id": "c4b5725a",
   "metadata": {},
   "outputs": [],
   "source": [
    "np.linalg.lstsq(pca.components_.T,arr[0,:])"
   ]
  },
  {
   "cell_type": "code",
   "execution_count": null,
   "id": "6ac10a8d",
   "metadata": {},
   "outputs": [],
   "source": [
    "(np.linalg.inv(pca.components_@pca.components_.T))"
   ]
  },
  {
   "cell_type": "code",
   "execution_count": null,
   "id": "0d379f2a",
   "metadata": {},
   "outputs": [],
   "source": [
    "pca.components_.T@Y[0,:]"
   ]
  },
  {
   "cell_type": "code",
   "execution_count": null,
   "id": "cdef509b",
   "metadata": {},
   "outputs": [],
   "source": [
    "arr[0,:]"
   ]
  },
  {
   "cell_type": "code",
   "execution_count": null,
   "id": "7798fee9",
   "metadata": {},
   "outputs": [],
   "source": [
    "pd.DataFrame(data=arr).to_csv('/Users/xy3134/Desktop/temp_files/test.csv',index=False)"
   ]
  },
  {
   "cell_type": "markdown",
   "id": "e505429e",
   "metadata": {},
   "source": [
    "# Sparse PCA"
   ]
  },
  {
   "cell_type": "code",
   "execution_count": null,
   "id": "15da39e6",
   "metadata": {},
   "outputs": [],
   "source": [
    "sge = SPCAGeminiEngine(solar_site_actual_hists, solar_site_forecast_hists, scen_start_time, solar_meta_df)\n",
    "dist = sge.asset_distance().values\n",
    "sge.fit(10, dist / (10 * dist.max()), 5e-2)"
   ]
  },
  {
   "cell_type": "code",
   "execution_count": null,
   "id": "74ee5d9b",
   "metadata": {},
   "outputs": [],
   "source": [
    "sge.create_scenario(1000, solar_site_forecast_futures)\n",
    "sge.model.scen_df.round(2)"
   ]
  },
  {
   "cell_type": "code",
   "execution_count": null,
   "id": "7dae51ee",
   "metadata": {},
   "outputs": [],
   "source": [
    "for i in range(10):\n",
    "    plt.figure()\n",
    "    plt.plot(pge.model.pca.components_[i,:],sge.model.pca['loadings'][:,i],'o')"
   ]
  },
  {
   "cell_type": "code",
   "execution_count": null,
   "id": "21a90098",
   "metadata": {},
   "outputs": [],
   "source": []
  }
 ],
 "metadata": {
  "kernelspec": {
   "display_name": "Python 3 (ipykernel)",
   "language": "python",
   "name": "python3"
  },
  "language_info": {
   "codemirror_mode": {
    "name": "ipython",
    "version": 3
   },
   "file_extension": ".py",
   "mimetype": "text/x-python",
   "name": "python",
   "nbconvert_exporter": "python",
   "pygments_lexer": "ipython3",
   "version": "3.8.12"
  }
 },
 "nbformat": 4,
 "nbformat_minor": 5
}
