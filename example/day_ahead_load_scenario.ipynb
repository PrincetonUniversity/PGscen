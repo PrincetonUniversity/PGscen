{
 "cells": [
  {
   "cell_type": "code",
   "execution_count": 1,
   "id": "c6354a74",
   "metadata": {},
   "outputs": [],
   "source": [
    "import pandas as pd\n",
    "import numpy as np\n",
    "import matplotlib.pyplot as plt\n",
    "from pgscen.iso.ercot import create_day_ahead_load_scenario"
   ]
  },
  {
   "cell_type": "code",
   "execution_count": 2,
   "id": "6bf00961",
   "metadata": {},
   "outputs": [],
   "source": [
    "load_zone_actual_df = pd.read_csv('../data/Load/ERCOT/Actual/load_actual_1h_zone_2017_2018_utc.csv',\n",
    "                                 parse_dates=['Time'],index_col='Time')\n",
    "load_zone_forecast_df = pd.read_csv('../data/Load/ERCOT/Day-ahead/load_day_ahead_forecast_zone_2017_2018_utc.csv',\n",
    "                                   parse_dates=['Issue_time','Forecast_time'])\n",
    "load_zone_list = load_zone_actual_df.columns.tolist()"
   ]
  },
  {
   "cell_type": "code",
   "execution_count": 3,
   "id": "5c4eb027",
   "metadata": {},
   "outputs": [],
   "source": [
    "scenario_start_time = pd.to_datetime('2018-02-10 06:00:00',utc=True)\n",
    "nscen = 1000\n",
    "output_dir = '/Users/xy3134/Research/PERFORM/Data/GEMINI_scenario/test/'"
   ]
  },
  {
   "cell_type": "code",
   "execution_count": 4,
   "id": "eaac98ea",
   "metadata": {},
   "outputs": [],
   "source": [
    "load_zone_hist_actual_df = load_zone_actual_df[load_zone_actual_df.index<scenario_start_time]\n",
    "load_zone_hist_forecast_df = load_zone_forecast_df[load_zone_forecast_df['Forecast_time']<scenario_start_time]\n",
    "\n",
    "load_zone_future_actual_df = load_zone_actual_df[load_zone_actual_df.index>=scenario_start_time]\n",
    "load_zone_future_forecast_df = load_zone_forecast_df[load_zone_forecast_df['Forecast_time']>=scenario_start_time]"
   ]
  },
  {
   "cell_type": "code",
   "execution_count": 5,
   "id": "01f81fc8",
   "metadata": {},
   "outputs": [],
   "source": [
    "md,gen = create_day_ahead_load_scenario(nscen,scenario_start_time,load_zone_list,load_zone_hist_actual_df,\n",
    "            load_zone_hist_forecast_df,load_zone_future_actual_df,load_zone_future_forecast_df,output_dir,\n",
    "            return_model=True,return_generator=True)"
   ]
  },
  {
   "cell_type": "code",
   "execution_count": 27,
   "id": "1c073178",
   "metadata": {},
   "outputs": [
    {
     "data": {
      "text/plain": [
       "(array([  1.,   0.,   1.,   3.,   5.,   8.,  11.,  32.,  55.,  74., 111.,\n",
       "        146., 131., 147., 111.,  65.,  45.,  19.,   7.,   8.,   4.,   3.,\n",
       "          5.,   2.,   3.,   0.,   1.,   1.,   0.,   1.]),\n",
       " array([ 8899.13583232,  9089.64579235,  9280.15575237,  9470.66571239,\n",
       "         9661.17567242,  9851.68563244, 10042.19559246, 10232.70555249,\n",
       "        10423.21551251, 10613.72547253, 10804.23543256, 10994.74539258,\n",
       "        11185.2553526 , 11375.76531262, 11566.27527265, 11756.78523267,\n",
       "        11947.29519269, 12137.80515272, 12328.31511274, 12518.82507276,\n",
       "        12709.33503279, 12899.84499281, 13090.35495283, 13280.86491286,\n",
       "        13471.37487288, 13661.8848329 , 13852.39479292, 14042.90475295,\n",
       "        14233.41471297, 14423.92467299, 14614.43463302]),\n",
       " <BarContainer object of 30 artists>)"
      ]
     },
     "execution_count": 27,
     "metadata": {},
     "output_type": "execute_result"
    },
    {
     "data": {
      "image/png": "[encoded data removed]",
      "text/plain": [
       "<Figure size 432x288 with 1 Axes>"
      ]
     },
     "metadata": {
      "needs_background": "light"
     },
     "output_type": "display_data"
    }
   ],
   "source": [
    "plt.hist(gen.scen_dict['North_Central']['1800'],bins=30)"
   ]
  },
  {
   "cell_type": "code",
   "execution_count": 21,
   "id": "820f26f8",
   "metadata": {},
   "outputs": [
    {
     "data": {
      "text/plain": [
       "(array([ 2.,  1.,  4.,  5.,  8., 12., 17., 22., 28., 32., 36., 38., 37.,\n",
       "        36., 31., 27., 21., 16., 11.,  8.,  5.,  3.,  2.,  1.,  0.,  0.,\n",
       "         0.,  0.,  0.,  1.]),\n",
       " array([-2.81023752, -2.57439991, -2.3385623 , -2.10272469, -1.86688708,\n",
       "        -1.63104947, -1.39521186, -1.15937425, -0.92353664, -0.68769903,\n",
       "        -0.45186142, -0.21602381,  0.0198138 ,  0.25565142,  0.49148903,\n",
       "         0.72732664,  0.96316425,  1.19900186,  1.43483947,  1.67067708,\n",
       "         1.90651469,  2.1423523 ,  2.37818991,  2.61402752,  2.84986513,\n",
       "         3.08570274,  3.32154035,  3.55737796,  3.79321557,  4.02905318,\n",
       "         4.26489079]),\n",
       " <BarContainer object of 30 artists>)"
      ]
     },
     "execution_count": 21,
     "metadata": {},
     "output_type": "execute_result"
    },
    {
     "data": {
      "image/png": "[encoded data removed]",
      "text/plain": [
       "<Figure size 432x288 with 1 Axes>"
      ]
     },
     "metadata": {
      "needs_background": "light"
     },
     "output_type": "display_data"
    }
   ],
   "source": [
    "plt.hist(md.gauss_df['Coast_5'],bins=30)"
   ]
  },
  {
   "cell_type": "code",
   "execution_count": null,
   "id": "c919fa6e",
   "metadata": {},
   "outputs": [],
   "source": []
  }
 ],
 "metadata": {
  "kernelspec": {
   "display_name": "Python 3 (ipykernel)",
   "language": "python",
   "name": "python3"
  },
  "language_info": {
   "codemirror_mode": {
    "name": "ipython",
    "version": 3
   },
   "file_extension": ".py",
   "mimetype": "text/x-python",
   "name": "python",
   "nbconvert_exporter": "python",
   "pygments_lexer": "ipython3",
   "version": "3.8.10"
  }
 },
 "nbformat": 4,
 "nbformat_minor": 5
}
