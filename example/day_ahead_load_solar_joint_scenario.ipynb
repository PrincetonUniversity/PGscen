{
 "cells": [
  {
   "cell_type": "code",
   "execution_count": 1,
   "id": "3e712b53",
   "metadata": {},
   "outputs": [],
   "source": [
    "import pandas as pd\n",
    "import numpy as np\n",
    "import matplotlib.pyplot as plt\n",
    "from pgscen.iso.ercot import create_day_ahead_load_solar_joint_scenario"
   ]
  },
  {
   "cell_type": "code",
   "execution_count": 2,
   "id": "e90c0089",
   "metadata": {},
   "outputs": [],
   "source": [
    "load_zone_actual_df = pd.read_csv('../data/Load/ERCOT/Actual/load_actual_1h_zone_2017_2018_utc.csv',\n",
    "                                 parse_dates=['Time'],index_col='Time')\n",
    "load_zone_forecast_df = pd.read_csv('../data/Load/ERCOT/Day-ahead/load_day_ahead_forecast_zone_2017_2018_utc.csv',\n",
    "                                   parse_dates=['Issue_time','Forecast_time'])\n",
    "load_zone_list = load_zone_actual_df.columns.tolist()"
   ]
  },
  {
   "cell_type": "code",
   "execution_count": 3,
   "id": "12483d8c",
   "metadata": {},
   "outputs": [],
   "source": [
    "solar_meta_df = pd.read_excel('../data/MetaData/solar_meta.xlsx')"
   ]
  },
  {
   "cell_type": "code",
   "execution_count": 4,
   "id": "ebd6870b",
   "metadata": {},
   "outputs": [],
   "source": [
    "solar_site_actual_df = pd.read_csv('../data/Solar/NREL/Actual/solar_actual_1h_site_2017_2018_utc.csv',\n",
    "                                  parse_dates=['Time'],index_col='Time')\n",
    "\n",
    "solar_site_forecast_df = pd.read_csv('../data/Solar/NREL/Day-ahead/solar_day_ahead_forecast_site_2017_2018_utc.csv',\n",
    "                                  parse_dates=['Issue_time','Forecast_time'])\n",
    "\n",
    "solar_site_list = solar_site_actual_df.columns.tolist()"
   ]
  },
  {
   "cell_type": "code",
   "execution_count": 5,
   "id": "87a9fb74",
   "metadata": {},
   "outputs": [],
   "source": [
    "nscen = 1000\n",
    "scenario_start_time = pd.to_datetime('2018-10-01 06:00:00',utc=True)\n",
    "output_dir = '/Users/xy3134/Research/PERFORM/Data/GEMINI_scenario/test/'"
   ]
  },
  {
   "cell_type": "code",
   "execution_count": 6,
   "id": "fb8585f7",
   "metadata": {},
   "outputs": [],
   "source": [
    "load_zone_hist_actual_df = load_zone_actual_df[load_zone_actual_df.index<scenario_start_time]\n",
    "load_zone_hist_forecast_df = load_zone_forecast_df[load_zone_forecast_df['Forecast_time']<scenario_start_time]\n",
    "\n",
    "load_zone_future_actual_df = load_zone_actual_df[load_zone_actual_df.index>=scenario_start_time]\n",
    "load_zone_future_forecast_df = load_zone_forecast_df[load_zone_forecast_df['Forecast_time']>=scenario_start_time]"
   ]
  },
  {
   "cell_type": "code",
   "execution_count": 7,
   "id": "2a73d40b",
   "metadata": {},
   "outputs": [],
   "source": [
    "solar_site_hist_actual_df = solar_site_actual_df[solar_site_actual_df.index<scenario_start_time]\n",
    "solar_site_hist_forecast_df = solar_site_forecast_df[solar_site_forecast_df['Forecast_time']<scenario_start_time]\n",
    "\n",
    "solar_site_future_actual_df = solar_site_actual_df[solar_site_actual_df.index>=scenario_start_time]\n",
    "solar_site_future_forecast_df = solar_site_forecast_df[solar_site_forecast_df['Forecast_time']>=scenario_start_time]"
   ]
  },
  {
   "cell_type": "code",
   "execution_count": 8,
   "id": "7b3c3032",
   "metadata": {},
   "outputs": [
    {
     "name": "stdout",
     "output_type": "stream",
     "text": [
      "(1000, 88)\n",
      "7 17\n"
     ]
    }
   ],
   "source": [
    "se = create_day_ahead_load_solar_joint_scenario(nscen,scenario_start_time,load_zone_list,\n",
    "        load_zone_hist_forecast_df,load_zone_hist_actual_df,solar_meta_df,solar_site_list,\n",
    "        solar_site_hist_forecast_df,solar_site_hist_actual_df,load_zone_future_forecast_df,\n",
    "        solar_site_future_forecast_df,load_future_actual_df=load_zone_future_actual_df,\n",
    "        solar_future_actual_df=solar_site_future_actual_df,output_dir=output_dir,return_engine=True)"
   ]
  },
  {
   "cell_type": "code",
   "execution_count": 11,
   "id": "f87acb3e",
   "metadata": {},
   "outputs": [
    {
     "name": "stdout",
     "output_type": "stream",
     "text": [
      "Adamstown_Solar.csv               Mustang_Creek_Solar.csv\r\n",
      "Agate_Solar.csv                   Myrtle_Solar.csv\r\n",
      "Angelina_Solar.csv                Nazareth_Solar.csv\r\n",
      "Angelo_Solar.csv                  Neeley_Solar.csv\r\n",
      "Angus_Solar.csv                   Noble_Solar.csv\r\n",
      "Anson_Solar.csv                   Normande_Solar_Farm.csv\r\n",
      "Anson_Solar_Center,_Phase_II.csv  Norton_Solar.csv\r\n",
      "Anson_Solar_Center,_Phase_III.csv Oberon_Solar.csv\r\n",
      "Aragorn_Solar.csv                 Obsidian_Solar.csv\r\n",
      "Arroyo_Del_Bisonte_Solar.csv      Opal_Solar.csv\r\n",
      "Arroyo_Solar.csv                  Owego_Solar.csv\r\n",
      "Atascosa_I_Solar.csv              Owens_Solar.csv\r\n",
      "Bacon_Switch_Solar.csv            Oxbow_Solar.csv\r\n",
      "Basalt_Solar.csv                  Oxy_Solar.csv\r\n",
      "Bestla_Solar.csv                  Pflugerville_2_Solar.csv\r\n",
      "Blackwater_Draw_Solar.csv         Pflugerville_Solar.csv\r\n",
      "BlueBell_Solar.csv                Phoebe_Solar.csv\r\n",
      "Blue_Bell_Solar_II.csv            Phoenix_Solar.csv\r\n",
      "Blue_Jay_Solar.csv                Pine_Forest_Solar.csv\r\n",
      "Bluebonnet_Solar.csv              Pitts_Dudik_Solar.csv\r\n",
      "Bravepost_Solar.csv               Ponwar_Solar_Farm.csv\r\n",
      "Brightside_Solar.csv              Prickly_Pear.csv\r\n",
      "Brushy_Creek_Solar.csv            Prospero_Solar.csv\r\n",
      "Castro_Solar.csv                  Prospero_Solar_II.csv\r\n",
      "Charbray_Solar.csv                Quantum.csv\r\n",
      "Chatee_Solar.csv                  Quantum_Increase.csv\r\n",
      "Citrine_Solar.csv                 Queen_Solar.csv\r\n",
      "Concho_Valley_Solar.csv           RE_Maplewood_2a_Solar.csv\r\n",
      "Coniglio_Solar.csv                RE_Maplewood_2b_Solar.csv\r\n",
      "Corazon_Solar.csv                 RE_Maplewood_2c_Solar.csv\r\n",
      "Cottonwood_Bayou.csv              Radian.csv\r\n",
      "County_Line_Solar.csv             Radian_Increase.csv\r\n",
      "Crowded_Star_Solar.csv            Rambler_Solar.csv\r\n",
      "Cutlass_Solar.csv                 Ramsey_Solar.csv\r\n",
      "Danciger_Solar.csv                Rayos_Del_Sol.csv\r\n",
      "Danish_Fields_II.csv              Red_Holly_Solar.csv\r\n",
      "Danish_Fields_III.csv             Reiher_Solar.csv\r\n",
      "Danish_Fields_Solar.csv           Rippey_Solar.csv\r",
      "\r\n",
      "Dawn_Solar.csv                    Robles_Solar.csv\r\n",
      "Delilah_Solar_1.csv               Rodeo_Solar.csv\r\n",
      "Delilah_Solar_2.csv               Roseland.csv\r\n",
      "Delilah_Solar_3.csv               SP-Pecos_Bend_Solar_A.csv\r\n",
      "Desert_Rose.csv                   SP-Pecos_Bend_Solar_B.csv\r\n",
      "Dexter_Solar.csv                  SP_TX-12B_Phase_II.csv\r\n",
      "Diamondback_Solar.csv             SP_TX-12B_Phase_III.csv\r\n",
      "Double_R_Solar.csv                Samson_Solar.csv\r\n",
      "Dove_Run.csv                      Samson_Solar_2.csv\r\n",
      "EK_Tipton_Solar.csv               Samson_Solar_3.csv\r\n",
      "El_Zorro_Solar.csv                San_Bernard_Solar.csv\r\n",
      "Elara_Solar.csv                   Sandine_Solar.csv\r\n",
      "Elrond.csv                        Santa_Rita_Solar.csv\r\n",
      "Emerald_Grove_Solar.csv           Shakes_Solar.csv\r\n",
      "Eunice_Solar.csv                  Shorthorn_2_Solar.csv\r\n",
      "Fighting_Jays_Solar.csv           Signal_Ranch.csv\r\n",
      "Flag_City.csv                     Sisters_Solar.csv\r\n",
      "Flatland_Solar.csv                Smithland_Texas_Solar.csv\r\n",
      "Fluorite_Solar.csv                Soda_Lake_Solar_1.csv\r\n",
      "Fort_Bend_Solar.csv               Soda_Lake_Solar_2.csv\r\n",
      "Fowler_Ranch.csv                  Solemio.csv\r\n",
      "French_Goldston_Solar.csv         Space_City_Solar.csv\r\n",
      "Fronton_Solar.csv                 Spanish_Crown.csv\r\n",
      "Frye_Solar.csv                    Spectrum.csv\r\n",
      "GSE_Eleven.csv                    Spinel_Solar.csv\r\n",
      "Galloway_Solar.csv                Starr_Solar_Ranch.csv\r\n",
      "Garnet_Solar.csv                  Stillwater_Solar.csv\r\n",
      "Gold_Creek_Solar.csv              Strategic_Energy.csv\r\n",
      "Goodranch_Solar.csv               Sun_Valley.csv\r\n",
      "Greasewood_II.csv                 Sun_Valley_2.csv\r\n",
      "Greasewood_Solar.csv              Sunshine_Solar.csv\r\n",
      "Green_Holly_Solar.csv             Taygete_II_Solar.csv\r\n",
      "Greyhound_Solar.csv               Taygete_Solar.csv\r\n",
      "Greyhound_Solar_2.csv             Texana_Solar.csv\r\n",
      "HOVEY.csv                         Texas_Solar_Nova.csv\r\n",
      "Half_Moon_Solar.csv               Thickgrass_Solar.csv\r\n",
      "Hallmark_Solar.csv                Timberwolf_POI_A.csv\r\n",
      "Hecate_Solar.csv                  Tom_Green_Solar.csv\r\n",
      "Hill_Solar.csv                    Trevino_Solar.csv\r\n",
      "Holstein_2_Solar.csv              Tri-County_Solar.csv\r\n",
      "Holstein_Solar.csv                Tulsita_Solar.csv\r\n",
      "Hopkins.csv                       Tyson_Nick_Solar.csv\r\n",
      "Horizon_Solar.csv                 Ulysses_Solar.csv\r\n",
      "Horseshoe_Bend_Solar.csv          Upton_Solar.csv\r\n",
      "Howle_Solar.csv                   Vancourt.csv\r\n",
      "IP_Titan.csv                      Vision_Solar.csv\r\n",
      "Impact_Solar.csv                  Wagyu_Solar.csv\r\n",
      "Indigo_Solar.csv                  Wake_Solar.csv\r\n",
      "Inverter_Field_Solar.csv          Wang_Solar.csv\r\n",
      "Juno_Solar.csv                    West_of_Pecos_Solar.csv\r\n",
      "Kellam_Solar.csv                  Westoria_Solar.csv\r\n",
      "King_Mountain_Solar.csv           Whatley_Solar.csv\r\n",
      "Knickerbocker_Road_Solar.csv      Zier_Solar.csv\r\n",
      "Kochab_Solar.csv                  solar109.csv\r\n",
      "Lapetus_Solar_2.csv               solar21.csv\r\n",
      "Lily_Solar.csv                    solar22.csv\r\n",
      "Long_Draw_Solar.csv               solar286.csv\r\n",
      "Long_Point_Solar.csv              solar287.csv\r\n",
      "Longbow_Solar.csv                 solar288.csv\r\n",
      "Lueders_Solar.csv                 solar289.csv\r\n",
      "Lumina.csv                        solar290.csv\r\n",
      "Lunis_Creek_Solar_1.csv           solar291.csv\r\n",
      "Lunis_Creek_Solar_2.csv           solar3.csv\r\n",
      "M-Bar_Solar.csv                   solar362.csv\r\n",
      "Maleza_Solar.csv                  solar363.csv\r\n",
      "March_Road_Solar.csv              solar364.csv\r\n",
      "Markum_Solar.csv                  solar365.csv\r\n",
      "Mercury_Solar.csv                 solar433.csv\r\n",
      "Millhouse_Solar.csv               solar434.csv\r\n",
      "Misae_Solar.csv                   solar435.csv\r\n",
      "Misae_Solar_II.csv                solar436.csv\r\n",
      "Morada_Del_Sol_Solar.csv          solar437.csv\r\n",
      "Morrow_Lake_Solar.csv             solar438.csv\r\n",
      "Morrow_Lake_Solar_II.csv          solar509.csv\r\n",
      "Murphy_Lake_Solar.csv             solar530.csv\r\n"
     ]
    }
   ],
   "source": [
    "!ls /Users/xy3134/Research/PERFORM/Data/GEMINI_scenario/test/20181001/solar/"
   ]
  },
  {
   "cell_type": "code",
   "execution_count": 23,
   "id": "e8a31fa1",
   "metadata": {},
   "outputs": [],
   "source": [
    "df = pd.read_csv('/Users/xy3134/Research/PERFORM/Data/GEMINI_scenario/test/20181001/solar/Adamstown_Solar.csv')"
   ]
  },
  {
   "cell_type": "code",
   "execution_count": 26,
   "id": "e813ba6b",
   "metadata": {},
   "outputs": [
    {
     "data": {
      "text/plain": [
       "(array([ 13.,  19.,   8.,  19.,  18.,  28.,  19.,  22.,  28.,  19.,  31.,\n",
       "         31.,  20.,  30.,  59.,  53.,  74., 123.,  92.,  48.,  68.,  46.,\n",
       "         37.,  27.,  35.,  16.,   8.,   7.,   0.,   4.]),\n",
       " array([  0.        ,   8.33333333,  16.66666667,  25.        ,\n",
       "         33.33333333,  41.66666667,  50.        ,  58.33333333,\n",
       "         66.66666667,  75.        ,  83.33333333,  91.66666667,\n",
       "        100.        , 108.33333333, 116.66666667, 125.        ,\n",
       "        133.33333333, 141.66666667, 150.        , 158.33333333,\n",
       "        166.66666667, 175.        , 183.33333333, 191.66666667,\n",
       "        200.        , 208.33333333, 216.66666667, 225.        ,\n",
       "        233.33333333, 241.66666667, 250.        ]),\n",
       " <BarContainer object of 30 artists>)"
      ]
     },
     "execution_count": 26,
     "metadata": {},
     "output_type": "execute_result"
    },
    {
     "data": {
      "image/png": "[encoded data removed]",
      "text/plain": [
       "<Figure size 432x288 with 1 Axes>"
      ]
     },
     "metadata": {
      "needs_background": "light"
     },
     "output_type": "display_data"
    }
   ],
   "source": [
    "plt.hist(df['1700'],bins=30)"
   ]
  },
  {
   "cell_type": "code",
   "execution_count": 35,
   "id": "7dd92e8d",
   "metadata": {},
   "outputs": [
    {
     "data": {
      "text/plain": [
       "(array([ 9.,  3.,  6., 14., 12., 13., 10., 11., 18., 14., 16., 15., 15.,\n",
       "        17., 30., 33., 46., 72., 45., 40., 28., 23., 21., 17.,  8., 10.,\n",
       "         4.,  5.,  1.,  2.]),\n",
       " array([-140.67248775, -132.1551777 , -123.63786765, -115.1205576 ,\n",
       "        -106.60324755,  -98.0859375 ,  -89.56862745,  -81.0513174 ,\n",
       "         -72.53400735,  -64.0166973 ,  -55.49938725,  -46.98207721,\n",
       "         -38.46476716,  -29.94745711,  -21.43014706,  -12.91283701,\n",
       "          -4.39552696,    4.12178309,   12.63909314,   21.15640319,\n",
       "          29.67371324,   38.19102328,   46.70833333,   55.22564338,\n",
       "          63.74295343,   72.26026348,   80.77757353,   89.29488358,\n",
       "          97.81219363,  106.32950368,  114.84681373]),\n",
       " <BarContainer object of 30 artists>)"
      ]
     },
     "execution_count": 35,
     "metadata": {},
     "output_type": "execute_result"
    },
    {
     "data": {
      "image/png": "[encoded data removed]",
      "text/plain": [
       "<Figure size 432x288 with 1 Axes>"
      ]
     },
     "metadata": {
      "needs_background": "light"
     },
     "output_type": "display_data"
    }
   ],
   "source": [
    "plt.hist(se.gemini_dict[0]['solar_generator'].conditional_gpd_dict['Adamstown Solar_4'].slots['data'],bins=30)"
   ]
  },
  {
   "cell_type": "code",
   "execution_count": 44,
   "id": "9efad15e",
   "metadata": {},
   "outputs": [],
   "source": [
    "from statsmodels.distributions.empirical_distribution import ECDF\n",
    "from scipy.stats import norm"
   ]
  },
  {
   "cell_type": "code",
   "execution_count": 38,
   "id": "3fba04db",
   "metadata": {},
   "outputs": [],
   "source": [
    "arr = np.random.randn(1000)"
   ]
  },
  {
   "cell_type": "code",
   "execution_count": 40,
   "id": "7474cc2f",
   "metadata": {},
   "outputs": [],
   "source": [
    "f = ECDF(arr)"
   ]
  },
  {
   "cell_type": "code",
   "execution_count": 46,
   "id": "225c77dc",
   "metadata": {},
   "outputs": [
    {
     "ename": "ValueError",
     "evalue": "supplied range of [-3.090232306167813, inf] is not finite",
     "output_type": "error",
     "traceback": [
      "\u001b[0;31m---------------------------------------------------------------------------\u001b[0m",
      "\u001b[0;31mValueError\u001b[0m                                Traceback (most recent call last)",
      "\u001b[0;32m/var/folders/s_/n1m3rnq56951j2vyslszl3640000gp/T/ipykernel_62575/768231791.py\u001b[0m in \u001b[0;36m<module>\u001b[0;34m\u001b[0m\n\u001b[0;32m----> 1\u001b[0;31m \u001b[0mplt\u001b[0m\u001b[0;34m.\u001b[0m\u001b[0mhist\u001b[0m\u001b[0;34m(\u001b[0m\u001b[0mnorm\u001b[0m\u001b[0;34m.\u001b[0m\u001b[0mppf\u001b[0m\u001b[0;34m(\u001b[0m\u001b[0mf\u001b[0m\u001b[0;34m(\u001b[0m\u001b[0marr\u001b[0m\u001b[0;34m)\u001b[0m\u001b[0;34m)\u001b[0m\u001b[0;34m,\u001b[0m\u001b[0mbins\u001b[0m\u001b[0;34m=\u001b[0m\u001b[0;36m100\u001b[0m\u001b[0;34m)\u001b[0m\u001b[0;34m\u001b[0m\u001b[0;34m\u001b[0m\u001b[0m\n\u001b[0m",
      "\u001b[0;32m~/opt/anaconda3/envs/powscen/lib/python3.8/site-packages/matplotlib/pyplot.py\u001b[0m in \u001b[0;36mhist\u001b[0;34m(x, bins, range, density, weights, cumulative, bottom, histtype, align, orientation, rwidth, log, color, label, stacked, data, **kwargs)\u001b[0m\n\u001b[1;32m   2851\u001b[0m         \u001b[0morientation\u001b[0m\u001b[0;34m=\u001b[0m\u001b[0;34m'vertical'\u001b[0m\u001b[0;34m,\u001b[0m \u001b[0mrwidth\u001b[0m\u001b[0;34m=\u001b[0m\u001b[0;32mNone\u001b[0m\u001b[0;34m,\u001b[0m \u001b[0mlog\u001b[0m\u001b[0;34m=\u001b[0m\u001b[0;32mFalse\u001b[0m\u001b[0;34m,\u001b[0m \u001b[0mcolor\u001b[0m\u001b[0;34m=\u001b[0m\u001b[0;32mNone\u001b[0m\u001b[0;34m,\u001b[0m\u001b[0;34m\u001b[0m\u001b[0;34m\u001b[0m\u001b[0m\n\u001b[1;32m   2852\u001b[0m         label=None, stacked=False, *, data=None, **kwargs):\n\u001b[0;32m-> 2853\u001b[0;31m     return gca().hist(\n\u001b[0m\u001b[1;32m   2854\u001b[0m         \u001b[0mx\u001b[0m\u001b[0;34m,\u001b[0m \u001b[0mbins\u001b[0m\u001b[0;34m=\u001b[0m\u001b[0mbins\u001b[0m\u001b[0;34m,\u001b[0m \u001b[0mrange\u001b[0m\u001b[0;34m=\u001b[0m\u001b[0mrange\u001b[0m\u001b[0;34m,\u001b[0m \u001b[0mdensity\u001b[0m\u001b[0;34m=\u001b[0m\u001b[0mdensity\u001b[0m\u001b[0;34m,\u001b[0m \u001b[0mweights\u001b[0m\u001b[0;34m=\u001b[0m\u001b[0mweights\u001b[0m\u001b[0;34m,\u001b[0m\u001b[0;34m\u001b[0m\u001b[0;34m\u001b[0m\u001b[0m\n\u001b[1;32m   2855\u001b[0m         \u001b[0mcumulative\u001b[0m\u001b[0;34m=\u001b[0m\u001b[0mcumulative\u001b[0m\u001b[0;34m,\u001b[0m \u001b[0mbottom\u001b[0m\u001b[0;34m=\u001b[0m\u001b[0mbottom\u001b[0m\u001b[0;34m,\u001b[0m \u001b[0mhisttype\u001b[0m\u001b[0;34m=\u001b[0m\u001b[0mhisttype\u001b[0m\u001b[0;34m,\u001b[0m\u001b[0;34m\u001b[0m\u001b[0;34m\u001b[0m\u001b[0m\n",
      "\u001b[0;32m~/opt/anaconda3/envs/powscen/lib/python3.8/site-packages/matplotlib/__init__.py\u001b[0m in \u001b[0;36minner\u001b[0;34m(ax, data, *args, **kwargs)\u001b[0m\n\u001b[1;32m   1359\u001b[0m     \u001b[0;32mdef\u001b[0m \u001b[0minner\u001b[0m\u001b[0;34m(\u001b[0m\u001b[0max\u001b[0m\u001b[0;34m,\u001b[0m \u001b[0;34m*\u001b[0m\u001b[0margs\u001b[0m\u001b[0;34m,\u001b[0m \u001b[0mdata\u001b[0m\u001b[0;34m=\u001b[0m\u001b[0;32mNone\u001b[0m\u001b[0;34m,\u001b[0m \u001b[0;34m**\u001b[0m\u001b[0mkwargs\u001b[0m\u001b[0;34m)\u001b[0m\u001b[0;34m:\u001b[0m\u001b[0;34m\u001b[0m\u001b[0;34m\u001b[0m\u001b[0m\n\u001b[1;32m   1360\u001b[0m         \u001b[0;32mif\u001b[0m \u001b[0mdata\u001b[0m \u001b[0;32mis\u001b[0m \u001b[0;32mNone\u001b[0m\u001b[0;34m:\u001b[0m\u001b[0;34m\u001b[0m\u001b[0;34m\u001b[0m\u001b[0m\n\u001b[0;32m-> 1361\u001b[0;31m             \u001b[0;32mreturn\u001b[0m \u001b[0mfunc\u001b[0m\u001b[0;34m(\u001b[0m\u001b[0max\u001b[0m\u001b[0;34m,\u001b[0m \u001b[0;34m*\u001b[0m\u001b[0mmap\u001b[0m\u001b[0;34m(\u001b[0m\u001b[0msanitize_sequence\u001b[0m\u001b[0;34m,\u001b[0m \u001b[0margs\u001b[0m\u001b[0;34m)\u001b[0m\u001b[0;34m,\u001b[0m \u001b[0;34m**\u001b[0m\u001b[0mkwargs\u001b[0m\u001b[0;34m)\u001b[0m\u001b[0;34m\u001b[0m\u001b[0;34m\u001b[0m\u001b[0m\n\u001b[0m\u001b[1;32m   1362\u001b[0m \u001b[0;34m\u001b[0m\u001b[0m\n\u001b[1;32m   1363\u001b[0m         \u001b[0mbound\u001b[0m \u001b[0;34m=\u001b[0m \u001b[0mnew_sig\u001b[0m\u001b[0;34m.\u001b[0m\u001b[0mbind\u001b[0m\u001b[0;34m(\u001b[0m\u001b[0max\u001b[0m\u001b[0;34m,\u001b[0m \u001b[0;34m*\u001b[0m\u001b[0margs\u001b[0m\u001b[0;34m,\u001b[0m \u001b[0;34m**\u001b[0m\u001b[0mkwargs\u001b[0m\u001b[0;34m)\u001b[0m\u001b[0;34m\u001b[0m\u001b[0;34m\u001b[0m\u001b[0m\n",
      "\u001b[0;32m~/opt/anaconda3/envs/powscen/lib/python3.8/site-packages/matplotlib/axes/_axes.py\u001b[0m in \u001b[0;36mhist\u001b[0;34m(self, x, bins, range, density, weights, cumulative, bottom, histtype, align, orientation, rwidth, log, color, label, stacked, **kwargs)\u001b[0m\n\u001b[1;32m   6757\u001b[0m             \u001b[0;31m# this will automatically overwrite bins,\u001b[0m\u001b[0;34m\u001b[0m\u001b[0;34m\u001b[0m\u001b[0;34m\u001b[0m\u001b[0m\n\u001b[1;32m   6758\u001b[0m             \u001b[0;31m# so that each histogram uses the same bins\u001b[0m\u001b[0;34m\u001b[0m\u001b[0;34m\u001b[0m\u001b[0;34m\u001b[0m\u001b[0m\n\u001b[0;32m-> 6759\u001b[0;31m             \u001b[0mm\u001b[0m\u001b[0;34m,\u001b[0m \u001b[0mbins\u001b[0m \u001b[0;34m=\u001b[0m \u001b[0mnp\u001b[0m\u001b[0;34m.\u001b[0m\u001b[0mhistogram\u001b[0m\u001b[0;34m(\u001b[0m\u001b[0mx\u001b[0m\u001b[0;34m[\u001b[0m\u001b[0mi\u001b[0m\u001b[0;34m]\u001b[0m\u001b[0;34m,\u001b[0m \u001b[0mbins\u001b[0m\u001b[0;34m,\u001b[0m \u001b[0mweights\u001b[0m\u001b[0;34m=\u001b[0m\u001b[0mw\u001b[0m\u001b[0;34m[\u001b[0m\u001b[0mi\u001b[0m\u001b[0;34m]\u001b[0m\u001b[0;34m,\u001b[0m \u001b[0;34m**\u001b[0m\u001b[0mhist_kwargs\u001b[0m\u001b[0;34m)\u001b[0m\u001b[0;34m\u001b[0m\u001b[0;34m\u001b[0m\u001b[0m\n\u001b[0m\u001b[1;32m   6760\u001b[0m             \u001b[0mtops\u001b[0m\u001b[0;34m.\u001b[0m\u001b[0mappend\u001b[0m\u001b[0;34m(\u001b[0m\u001b[0mm\u001b[0m\u001b[0;34m)\u001b[0m\u001b[0;34m\u001b[0m\u001b[0;34m\u001b[0m\u001b[0m\n\u001b[1;32m   6761\u001b[0m         \u001b[0mtops\u001b[0m \u001b[0;34m=\u001b[0m \u001b[0mnp\u001b[0m\u001b[0;34m.\u001b[0m\u001b[0marray\u001b[0m\u001b[0;34m(\u001b[0m\u001b[0mtops\u001b[0m\u001b[0;34m,\u001b[0m \u001b[0mfloat\u001b[0m\u001b[0;34m)\u001b[0m  \u001b[0;31m# causes problems later if it's an int\u001b[0m\u001b[0;34m\u001b[0m\u001b[0;34m\u001b[0m\u001b[0m\n",
      "\u001b[0;32m<__array_function__ internals>\u001b[0m in \u001b[0;36mhistogram\u001b[0;34m(*args, **kwargs)\u001b[0m\n",
      "\u001b[0;32m~/opt/anaconda3/envs/powscen/lib/python3.8/site-packages/numpy/lib/histograms.py\u001b[0m in \u001b[0;36mhistogram\u001b[0;34m(a, bins, range, normed, weights, density)\u001b[0m\n\u001b[1;32m    791\u001b[0m     \u001b[0ma\u001b[0m\u001b[0;34m,\u001b[0m \u001b[0mweights\u001b[0m \u001b[0;34m=\u001b[0m \u001b[0m_ravel_and_check_weights\u001b[0m\u001b[0;34m(\u001b[0m\u001b[0ma\u001b[0m\u001b[0;34m,\u001b[0m \u001b[0mweights\u001b[0m\u001b[0;34m)\u001b[0m\u001b[0;34m\u001b[0m\u001b[0;34m\u001b[0m\u001b[0m\n\u001b[1;32m    792\u001b[0m \u001b[0;34m\u001b[0m\u001b[0m\n\u001b[0;32m--> 793\u001b[0;31m     \u001b[0mbin_edges\u001b[0m\u001b[0;34m,\u001b[0m \u001b[0muniform_bins\u001b[0m \u001b[0;34m=\u001b[0m \u001b[0m_get_bin_edges\u001b[0m\u001b[0;34m(\u001b[0m\u001b[0ma\u001b[0m\u001b[0;34m,\u001b[0m \u001b[0mbins\u001b[0m\u001b[0;34m,\u001b[0m \u001b[0mrange\u001b[0m\u001b[0;34m,\u001b[0m \u001b[0mweights\u001b[0m\u001b[0;34m)\u001b[0m\u001b[0;34m\u001b[0m\u001b[0;34m\u001b[0m\u001b[0m\n\u001b[0m\u001b[1;32m    794\u001b[0m \u001b[0;34m\u001b[0m\u001b[0m\n\u001b[1;32m    795\u001b[0m     \u001b[0;31m# Histogram is an integer or a float array depending on the weights.\u001b[0m\u001b[0;34m\u001b[0m\u001b[0;34m\u001b[0m\u001b[0;34m\u001b[0m\u001b[0m\n",
      "\u001b[0;32m~/opt/anaconda3/envs/powscen/lib/python3.8/site-packages/numpy/lib/histograms.py\u001b[0m in \u001b[0;36m_get_bin_edges\u001b[0;34m(a, bins, range, weights)\u001b[0m\n\u001b[1;32m    424\u001b[0m             \u001b[0;32mraise\u001b[0m \u001b[0mValueError\u001b[0m\u001b[0;34m(\u001b[0m\u001b[0;34m'`bins` must be positive, when an integer'\u001b[0m\u001b[0;34m)\u001b[0m\u001b[0;34m\u001b[0m\u001b[0;34m\u001b[0m\u001b[0m\n\u001b[1;32m    425\u001b[0m \u001b[0;34m\u001b[0m\u001b[0m\n\u001b[0;32m--> 426\u001b[0;31m         \u001b[0mfirst_edge\u001b[0m\u001b[0;34m,\u001b[0m \u001b[0mlast_edge\u001b[0m \u001b[0;34m=\u001b[0m \u001b[0m_get_outer_edges\u001b[0m\u001b[0;34m(\u001b[0m\u001b[0ma\u001b[0m\u001b[0;34m,\u001b[0m \u001b[0mrange\u001b[0m\u001b[0;34m)\u001b[0m\u001b[0;34m\u001b[0m\u001b[0;34m\u001b[0m\u001b[0m\n\u001b[0m\u001b[1;32m    427\u001b[0m \u001b[0;34m\u001b[0m\u001b[0m\n\u001b[1;32m    428\u001b[0m     \u001b[0;32melif\u001b[0m \u001b[0mnp\u001b[0m\u001b[0;34m.\u001b[0m\u001b[0mndim\u001b[0m\u001b[0;34m(\u001b[0m\u001b[0mbins\u001b[0m\u001b[0;34m)\u001b[0m \u001b[0;34m==\u001b[0m \u001b[0;36m1\u001b[0m\u001b[0;34m:\u001b[0m\u001b[0;34m\u001b[0m\u001b[0;34m\u001b[0m\u001b[0m\n",
      "\u001b[0;32m~/opt/anaconda3/envs/powscen/lib/python3.8/site-packages/numpy/lib/histograms.py\u001b[0m in \u001b[0;36m_get_outer_edges\u001b[0;34m(a, range)\u001b[0m\n\u001b[1;32m    313\u001b[0m                 'max must be larger than min in range parameter.')\n\u001b[1;32m    314\u001b[0m         \u001b[0;32mif\u001b[0m \u001b[0;32mnot\u001b[0m \u001b[0;34m(\u001b[0m\u001b[0mnp\u001b[0m\u001b[0;34m.\u001b[0m\u001b[0misfinite\u001b[0m\u001b[0;34m(\u001b[0m\u001b[0mfirst_edge\u001b[0m\u001b[0;34m)\u001b[0m \u001b[0;32mand\u001b[0m \u001b[0mnp\u001b[0m\u001b[0;34m.\u001b[0m\u001b[0misfinite\u001b[0m\u001b[0;34m(\u001b[0m\u001b[0mlast_edge\u001b[0m\u001b[0;34m)\u001b[0m\u001b[0;34m)\u001b[0m\u001b[0;34m:\u001b[0m\u001b[0;34m\u001b[0m\u001b[0;34m\u001b[0m\u001b[0m\n\u001b[0;32m--> 315\u001b[0;31m             raise ValueError(\n\u001b[0m\u001b[1;32m    316\u001b[0m                 \"supplied range of [{}, {}] is not finite\".format(first_edge, last_edge))\n\u001b[1;32m    317\u001b[0m     \u001b[0;32melif\u001b[0m \u001b[0ma\u001b[0m\u001b[0;34m.\u001b[0m\u001b[0msize\u001b[0m \u001b[0;34m==\u001b[0m \u001b[0;36m0\u001b[0m\u001b[0;34m:\u001b[0m\u001b[0;34m\u001b[0m\u001b[0;34m\u001b[0m\u001b[0m\n",
      "\u001b[0;31mValueError\u001b[0m: supplied range of [-3.090232306167813, inf] is not finite"
     ]
    },
    {
     "data": {
      "image/png": "[encoded data removed]",
      "text/plain": [
       "<Figure size 432x288 with 1 Axes>"
      ]
     },
     "metadata": {
      "needs_background": "light"
     },
     "output_type": "display_data"
    }
   ],
   "source": [
    "plt.hist(norm.ppf(f(arr)),bins=100)"
   ]
  },
  {
   "cell_type": "code",
   "execution_count": 64,
   "id": "1ab740c8",
   "metadata": {},
   "outputs": [],
   "source": [
    "# np.clip(f(arr),1e-4,0.9999)\n",
    "u = norm.ppf(f(arr).clip(1e-4,0.9999))"
   ]
  },
  {
   "cell_type": "code",
   "execution_count": 65,
   "id": "99c40054",
   "metadata": {},
   "outputs": [
    {
     "ename": "TypeError",
     "evalue": "unsupported operand type(s) for -: 'ECDF' and 'float'",
     "output_type": "error",
     "traceback": [
      "\u001b[0;31m---------------------------------------------------------------------------\u001b[0m",
      "\u001b[0;31mTypeError\u001b[0m                                 Traceback (most recent call last)",
      "\u001b[0;32m/var/folders/s_/n1m3rnq56951j2vyslszl3640000gp/T/ipykernel_62575/3241551509.py\u001b[0m in \u001b[0;36m<module>\u001b[0;34m\u001b[0m\n\u001b[0;32m----> 1\u001b[0;31m \u001b[0mnorm\u001b[0m\u001b[0;34m.\u001b[0m\u001b[0mcdf\u001b[0m\u001b[0;34m(\u001b[0m\u001b[0mf\u001b[0m\u001b[0;34m,\u001b[0m\u001b[0mu\u001b[0m\u001b[0;34m)\u001b[0m\u001b[0;34m\u001b[0m\u001b[0;34m\u001b[0m\u001b[0m\n\u001b[0m",
      "\u001b[0;32m~/opt/anaconda3/envs/powscen/lib/python3.8/site-packages/scipy/stats/_distn_infrastructure.py\u001b[0m in \u001b[0;36mcdf\u001b[0;34m(self, x, *args, **kwds)\u001b[0m\n\u001b[1;32m   1951\u001b[0m         \u001b[0m_a\u001b[0m\u001b[0;34m,\u001b[0m \u001b[0m_b\u001b[0m \u001b[0;34m=\u001b[0m \u001b[0mself\u001b[0m\u001b[0;34m.\u001b[0m\u001b[0m_get_support\u001b[0m\u001b[0;34m(\u001b[0m\u001b[0;34m*\u001b[0m\u001b[0margs\u001b[0m\u001b[0;34m)\u001b[0m\u001b[0;34m\u001b[0m\u001b[0;34m\u001b[0m\u001b[0m\n\u001b[1;32m   1952\u001b[0m         \u001b[0mdtyp\u001b[0m \u001b[0;34m=\u001b[0m \u001b[0mnp\u001b[0m\u001b[0;34m.\u001b[0m\u001b[0mfind_common_type\u001b[0m\u001b[0;34m(\u001b[0m\u001b[0;34m[\u001b[0m\u001b[0mx\u001b[0m\u001b[0;34m.\u001b[0m\u001b[0mdtype\u001b[0m\u001b[0;34m,\u001b[0m \u001b[0mnp\u001b[0m\u001b[0;34m.\u001b[0m\u001b[0mfloat64\u001b[0m\u001b[0;34m]\u001b[0m\u001b[0;34m,\u001b[0m \u001b[0;34m[\u001b[0m\u001b[0;34m]\u001b[0m\u001b[0;34m)\u001b[0m\u001b[0;34m\u001b[0m\u001b[0;34m\u001b[0m\u001b[0m\n\u001b[0;32m-> 1953\u001b[0;31m         \u001b[0mx\u001b[0m \u001b[0;34m=\u001b[0m \u001b[0mnp\u001b[0m\u001b[0;34m.\u001b[0m\u001b[0masarray\u001b[0m\u001b[0;34m(\u001b[0m\u001b[0;34m(\u001b[0m\u001b[0mx\u001b[0m \u001b[0;34m-\u001b[0m \u001b[0mloc\u001b[0m\u001b[0;34m)\u001b[0m\u001b[0;34m/\u001b[0m\u001b[0mscale\u001b[0m\u001b[0;34m,\u001b[0m \u001b[0mdtype\u001b[0m\u001b[0;34m=\u001b[0m\u001b[0mdtyp\u001b[0m\u001b[0;34m)\u001b[0m\u001b[0;34m\u001b[0m\u001b[0;34m\u001b[0m\u001b[0m\n\u001b[0m\u001b[1;32m   1954\u001b[0m         \u001b[0mcond0\u001b[0m \u001b[0;34m=\u001b[0m \u001b[0mself\u001b[0m\u001b[0;34m.\u001b[0m\u001b[0m_argcheck\u001b[0m\u001b[0;34m(\u001b[0m\u001b[0;34m*\u001b[0m\u001b[0margs\u001b[0m\u001b[0;34m)\u001b[0m \u001b[0;34m&\u001b[0m \u001b[0;34m(\u001b[0m\u001b[0mscale\u001b[0m \u001b[0;34m>\u001b[0m \u001b[0;36m0\u001b[0m\u001b[0;34m)\u001b[0m\u001b[0;34m\u001b[0m\u001b[0;34m\u001b[0m\u001b[0m\n\u001b[1;32m   1955\u001b[0m         \u001b[0mcond1\u001b[0m \u001b[0;34m=\u001b[0m \u001b[0mself\u001b[0m\u001b[0;34m.\u001b[0m\u001b[0m_open_support_mask\u001b[0m\u001b[0;34m(\u001b[0m\u001b[0mx\u001b[0m\u001b[0;34m,\u001b[0m \u001b[0;34m*\u001b[0m\u001b[0margs\u001b[0m\u001b[0;34m)\u001b[0m \u001b[0;34m&\u001b[0m \u001b[0;34m(\u001b[0m\u001b[0mscale\u001b[0m \u001b[0;34m>\u001b[0m \u001b[0;36m0\u001b[0m\u001b[0;34m)\u001b[0m\u001b[0;34m\u001b[0m\u001b[0;34m\u001b[0m\u001b[0m\n",
      "\u001b[0;31mTypeError\u001b[0m: unsupported operand type(s) for -: 'ECDF' and 'float'"
     ]
    }
   ],
   "source": [
    "norm.cdf(f,u)"
   ]
  },
  {
   "cell_type": "code",
   "execution_count": 67,
   "id": "937014a1",
   "metadata": {},
   "outputs": [
    {
     "name": "stdout",
     "output_type": "stream",
     "text": [
      "ES_PU_All.csv                 ES_Scoville_All.csv\r\n",
      "ES_PU_Coast.csv               ES_Scoville_Coast.csv\r\n",
      "ES_PU_East.csv                ES_Scoville_East.csv\r\n",
      "ES_PU_Far_West.csv            ES_Scoville_Far_West.csv\r\n",
      "ES_PU_North.csv               ES_Scoville_North.csv\r\n",
      "ES_PU_North_Central.csv       ES_Scoville_North_Central.csv\r\n",
      "ES_PU_South.csv               ES_Scoville_South.csv\r\n",
      "ES_PU_South_Central.csv       ES_Scoville_South_Central.csv\r\n",
      "ES_PU_West.csv                ES_Scoville_West.csv\r\n"
     ]
    }
   ],
   "source": [
    "!ls /Users/xy3134/Research/PERFORM/Data/Output/ES"
   ]
  },
  {
   "cell_type": "code",
   "execution_count": 68,
   "id": "bc77b00a",
   "metadata": {},
   "outputs": [],
   "source": [
    "es_dir = '/Users/xy3134/Research/PERFORM/Data/Output/ES/'"
   ]
  },
  {
   "cell_type": "code",
   "execution_count": 76,
   "id": "d6f576d5",
   "metadata": {},
   "outputs": [],
   "source": [
    "pu_df = pd.read_csv(es_dir+'ES_PU_ALL.csv',parse_dates=['Unnamed: 0'],index_col='Unnamed: 0')\n",
    "pu_df.index.name = 'Date'\n",
    "\n",
    "sv_df = pd.read_csv(es_dir+'ES_Scoville_All.csv',parse_dates=['Unnamed: 0'],index_col='Unnamed: 0')\n",
    "sv_df.index.name = 'Date'"
   ]
  },
  {
   "cell_type": "code",
   "execution_count": 81,
   "id": "ebc19eac",
   "metadata": {},
   "outputs": [],
   "source": [
    "es_df = pu_df.merge(sv_df,how='inner',left_on='Date',right_on='Date',suffixes=['_pu','_sv'])"
   ]
  },
  {
   "cell_type": "code",
   "execution_count": 92,
   "id": "a9517d44",
   "metadata": {},
   "outputs": [
    {
     "data": {
      "text/plain": [
       "[<matplotlib.lines.Line2D at 0x7f9e0be3b5e0>]"
      ]
     },
     "execution_count": 92,
     "metadata": {},
     "output_type": "execute_result"
    },
    {
     "data": {
      "image/png": "[encoded data removed]",
      "text/plain": [
       "<Figure size 432x288 with 1 Axes>"
      ]
     },
     "metadata": {
      "needs_background": "light"
     },
     "output_type": "display_data"
    }
   ],
   "source": [
    "asset_type = 'load'\n",
    "plt.plot((es_df[asset_type+'_pu']-es_df[asset_type+'_sv']).values)"
   ]
  },
  {
   "cell_type": "code",
   "execution_count": 96,
   "id": "6997c684",
   "metadata": {},
   "outputs": [],
   "source": [
    "percentile_dir = '/Users/xy3134/Research/PERFORM/Data/Output/Percentiles/'"
   ]
  },
  {
   "cell_type": "code",
   "execution_count": 99,
   "id": "58a2485f",
   "metadata": {},
   "outputs": [],
   "source": [
    "percentile_pu_df = pd.read_csv(percentile_dir+'Percentiles_PU_All.csv',parse_dates=['Unnamed: 0'],index_col='Unnamed: 0')\n",
    "percentile_pu_df.index.name = 'Time'"
   ]
  },
  {
   "cell_type": "code",
   "execution_count": 101,
   "id": "8841fd32",
   "metadata": {},
   "outputs": [],
   "source": [
    "percentile_sv_df = pd.read_csv(percentile_dir+'Percentiles_Scoville_All.csv',parse_dates=['Unnamed: 0'],index_col='Unnamed: 0')\n",
    "percentile_sv_df.index.name = 'Time'"
   ]
  },
  {
   "cell_type": "code",
   "execution_count": 107,
   "id": "c393d040",
   "metadata": {},
   "outputs": [
    {
     "data": {
      "text/plain": [
       "(array([784., 431., 341., 285., 250., 249., 265., 242., 239., 251., 246.,\n",
       "        252., 224., 236., 220., 278., 276., 251., 283., 288., 294., 320.,\n",
       "        310., 301., 313., 286., 290., 261., 245., 177.]),\n",
       " array([  0.        ,   3.33333333,   6.66666667,  10.        ,\n",
       "         13.33333333,  16.66666667,  20.        ,  23.33333333,\n",
       "         26.66666667,  30.        ,  33.33333333,  36.66666667,\n",
       "         40.        ,  43.33333333,  46.66666667,  50.        ,\n",
       "         53.33333333,  56.66666667,  60.        ,  63.33333333,\n",
       "         66.66666667,  70.        ,  73.33333333,  76.66666667,\n",
       "         80.        ,  83.33333333,  86.66666667,  90.        ,\n",
       "         93.33333333,  96.66666667, 100.        ]),\n",
       " <BarContainer object of 30 artists>)"
      ]
     },
     "execution_count": 107,
     "metadata": {},
     "output_type": "execute_result"
    },
    {
     "data": {
      "image/png": "[encoded data removed]",
      "text/plain": [
       "<Figure size 432x288 with 1 Axes>"
      ]
     },
     "metadata": {
      "needs_background": "light"
     },
     "output_type": "display_data"
    }
   ],
   "source": [
    "plt.hist(percentile_pu_df['wind'],bins=30)"
   ]
  },
  {
   "cell_type": "code",
   "execution_count": 108,
   "id": "cac620d1",
   "metadata": {},
   "outputs": [
    {
     "data": {
      "text/plain": [
       "(array([730., 353., 314., 250., 224., 215., 211., 208., 233., 218., 203.,\n",
       "        186., 220., 204., 229., 242., 246., 231., 271., 267., 276., 282.,\n",
       "        321., 318., 373., 342., 386., 352., 352., 503.]),\n",
       " array([  0.        ,   3.33333333,   6.66666667,  10.        ,\n",
       "         13.33333333,  16.66666667,  20.        ,  23.33333333,\n",
       "         26.66666667,  30.        ,  33.33333333,  36.66666667,\n",
       "         40.        ,  43.33333333,  46.66666667,  50.        ,\n",
       "         53.33333333,  56.66666667,  60.        ,  63.33333333,\n",
       "         66.66666667,  70.        ,  73.33333333,  76.66666667,\n",
       "         80.        ,  83.33333333,  86.66666667,  90.        ,\n",
       "         93.33333333,  96.66666667, 100.        ]),\n",
       " <BarContainer object of 30 artists>)"
      ]
     },
     "execution_count": 108,
     "metadata": {},
     "output_type": "execute_result"
    },
    {
     "data": {
      "image/png": "[encoded data removed]",
      "text/plain": [
       "<Figure size 432x288 with 1 Axes>"
      ]
     },
     "metadata": {
      "needs_background": "light"
     },
     "output_type": "display_data"
    }
   ],
   "source": [
    "plt.hist(percentile_sv_df['wind'],bins=30)"
   ]
  },
  {
   "cell_type": "code",
   "execution_count": 111,
   "id": "feed02f4",
   "metadata": {},
   "outputs": [
    {
     "data": {
      "text/html": [
       "<div>\n",
       "<style scoped>\n",
       "    .dataframe tbody tr th:only-of-type {\n",
       "        vertical-align: middle;\n",
       "    }\n",
       "\n",
       "    .dataframe tbody tr th {\n",
       "        vertical-align: top;\n",
       "    }\n",
       "\n",
       "    .dataframe thead th {\n",
       "        text-align: right;\n",
       "    }\n",
       "</style>\n",
       "<table border=\"1\" class=\"dataframe\">\n",
       "  <thead>\n",
       "    <tr style=\"text-align: right;\">\n",
       "      <th></th>\n",
       "      <th>load</th>\n",
       "      <th>solar</th>\n",
       "      <th>wind</th>\n",
       "    </tr>\n",
       "    <tr>\n",
       "      <th>Time</th>\n",
       "      <th></th>\n",
       "      <th></th>\n",
       "      <th></th>\n",
       "    </tr>\n",
       "  </thead>\n",
       "  <tbody>\n",
       "    <tr>\n",
       "      <th>20180102_0100</th>\n",
       "      <td>6.0</td>\n",
       "      <td>NaN</td>\n",
       "      <td>60.0</td>\n",
       "    </tr>\n",
       "    <tr>\n",
       "      <th>20180102_0200</th>\n",
       "      <td>18.9</td>\n",
       "      <td>NaN</td>\n",
       "      <td>61.7</td>\n",
       "    </tr>\n",
       "    <tr>\n",
       "      <th>20180102_0300</th>\n",
       "      <td>16.5</td>\n",
       "      <td>NaN</td>\n",
       "      <td>56.5</td>\n",
       "    </tr>\n",
       "    <tr>\n",
       "      <th>20180102_0400</th>\n",
       "      <td>18.1</td>\n",
       "      <td>NaN</td>\n",
       "      <td>54.8</td>\n",
       "    </tr>\n",
       "    <tr>\n",
       "      <th>20180102_0500</th>\n",
       "      <td>14.1</td>\n",
       "      <td>NaN</td>\n",
       "      <td>56.0</td>\n",
       "    </tr>\n",
       "    <tr>\n",
       "      <th>20180102_0600</th>\n",
       "      <td>3.3</td>\n",
       "      <td>NaN</td>\n",
       "      <td>50.8</td>\n",
       "    </tr>\n",
       "    <tr>\n",
       "      <th>20180102_0700</th>\n",
       "      <td>0.0</td>\n",
       "      <td>NaN</td>\n",
       "      <td>47.0</td>\n",
       "    </tr>\n",
       "    <tr>\n",
       "      <th>20180102_0800</th>\n",
       "      <td>0.0</td>\n",
       "      <td>10.4</td>\n",
       "      <td>33.5</td>\n",
       "    </tr>\n",
       "    <tr>\n",
       "      <th>20180102_0900</th>\n",
       "      <td>0.2</td>\n",
       "      <td>0.4</td>\n",
       "      <td>22.7</td>\n",
       "    </tr>\n",
       "    <tr>\n",
       "      <th>20180102_1000</th>\n",
       "      <td>0.3</td>\n",
       "      <td>0.0</td>\n",
       "      <td>34.6</td>\n",
       "    </tr>\n",
       "    <tr>\n",
       "      <th>20180102_1100</th>\n",
       "      <td>0.8</td>\n",
       "      <td>0.0</td>\n",
       "      <td>46.1</td>\n",
       "    </tr>\n",
       "    <tr>\n",
       "      <th>20180102_1200</th>\n",
       "      <td>0.9</td>\n",
       "      <td>0.0</td>\n",
       "      <td>46.9</td>\n",
       "    </tr>\n",
       "    <tr>\n",
       "      <th>20180102_1300</th>\n",
       "      <td>1.3</td>\n",
       "      <td>0.0</td>\n",
       "      <td>55.7</td>\n",
       "    </tr>\n",
       "    <tr>\n",
       "      <th>20180102_1400</th>\n",
       "      <td>2.1</td>\n",
       "      <td>0.0</td>\n",
       "      <td>66.2</td>\n",
       "    </tr>\n",
       "    <tr>\n",
       "      <th>20180102_1500</th>\n",
       "      <td>5.5</td>\n",
       "      <td>0.3</td>\n",
       "      <td>77.4</td>\n",
       "    </tr>\n",
       "    <tr>\n",
       "      <th>20180102_1600</th>\n",
       "      <td>13.8</td>\n",
       "      <td>1.2</td>\n",
       "      <td>86.5</td>\n",
       "    </tr>\n",
       "    <tr>\n",
       "      <th>20180102_1700</th>\n",
       "      <td>45.4</td>\n",
       "      <td>15.8</td>\n",
       "      <td>88.7</td>\n",
       "    </tr>\n",
       "    <tr>\n",
       "      <th>20180102_1800</th>\n",
       "      <td>17.7</td>\n",
       "      <td>45.1</td>\n",
       "      <td>84.8</td>\n",
       "    </tr>\n",
       "    <tr>\n",
       "      <th>20180102_1900</th>\n",
       "      <td>6.7</td>\n",
       "      <td>70.7</td>\n",
       "      <td>73.0</td>\n",
       "    </tr>\n",
       "    <tr>\n",
       "      <th>20180102_2000</th>\n",
       "      <td>8.7</td>\n",
       "      <td>NaN</td>\n",
       "      <td>56.2</td>\n",
       "    </tr>\n",
       "    <tr>\n",
       "      <th>20180102_2100</th>\n",
       "      <td>6.1</td>\n",
       "      <td>NaN</td>\n",
       "      <td>37.8</td>\n",
       "    </tr>\n",
       "    <tr>\n",
       "      <th>20180102_2200</th>\n",
       "      <td>4.3</td>\n",
       "      <td>NaN</td>\n",
       "      <td>34.9</td>\n",
       "    </tr>\n",
       "    <tr>\n",
       "      <th>20180102_2300</th>\n",
       "      <td>13.4</td>\n",
       "      <td>NaN</td>\n",
       "      <td>33.4</td>\n",
       "    </tr>\n",
       "    <tr>\n",
       "      <th>20180102_2400</th>\n",
       "      <td>54.7</td>\n",
       "      <td>NaN</td>\n",
       "      <td>37.4</td>\n",
       "    </tr>\n",
       "    <tr>\n",
       "      <th>20180103_0100</th>\n",
       "      <td>97.0</td>\n",
       "      <td>NaN</td>\n",
       "      <td>44.0</td>\n",
       "    </tr>\n",
       "    <tr>\n",
       "      <th>20180103_0200</th>\n",
       "      <td>98.1</td>\n",
       "      <td>NaN</td>\n",
       "      <td>59.0</td>\n",
       "    </tr>\n",
       "    <tr>\n",
       "      <th>20180103_0300</th>\n",
       "      <td>98.1</td>\n",
       "      <td>NaN</td>\n",
       "      <td>71.9</td>\n",
       "    </tr>\n",
       "    <tr>\n",
       "      <th>20180103_0400</th>\n",
       "      <td>98.3</td>\n",
       "      <td>NaN</td>\n",
       "      <td>75.0</td>\n",
       "    </tr>\n",
       "    <tr>\n",
       "      <th>20180103_0500</th>\n",
       "      <td>98.8</td>\n",
       "      <td>NaN</td>\n",
       "      <td>70.5</td>\n",
       "    </tr>\n",
       "    <tr>\n",
       "      <th>20180103_0600</th>\n",
       "      <td>97.1</td>\n",
       "      <td>NaN</td>\n",
       "      <td>70.1</td>\n",
       "    </tr>\n",
       "    <tr>\n",
       "      <th>20180103_0700</th>\n",
       "      <td>80.8</td>\n",
       "      <td>NaN</td>\n",
       "      <td>75.1</td>\n",
       "    </tr>\n",
       "    <tr>\n",
       "      <th>20180103_0800</th>\n",
       "      <td>44.9</td>\n",
       "      <td>62.8</td>\n",
       "      <td>74.0</td>\n",
       "    </tr>\n",
       "    <tr>\n",
       "      <th>20180103_0900</th>\n",
       "      <td>4.0</td>\n",
       "      <td>32.8</td>\n",
       "      <td>71.0</td>\n",
       "    </tr>\n",
       "    <tr>\n",
       "      <th>20180103_1000</th>\n",
       "      <td>0.4</td>\n",
       "      <td>68.5</td>\n",
       "      <td>87.3</td>\n",
       "    </tr>\n",
       "    <tr>\n",
       "      <th>20180103_1100</th>\n",
       "      <td>0.1</td>\n",
       "      <td>83.5</td>\n",
       "      <td>66.5</td>\n",
       "    </tr>\n",
       "    <tr>\n",
       "      <th>20180103_1200</th>\n",
       "      <td>0.3</td>\n",
       "      <td>79.6</td>\n",
       "      <td>44.5</td>\n",
       "    </tr>\n",
       "    <tr>\n",
       "      <th>20180103_1300</th>\n",
       "      <td>0.3</td>\n",
       "      <td>66.6</td>\n",
       "      <td>42.0</td>\n",
       "    </tr>\n",
       "    <tr>\n",
       "      <th>20180103_1400</th>\n",
       "      <td>0.2</td>\n",
       "      <td>67.1</td>\n",
       "      <td>33.0</td>\n",
       "    </tr>\n",
       "    <tr>\n",
       "      <th>20180103_1500</th>\n",
       "      <td>0.6</td>\n",
       "      <td>71.1</td>\n",
       "      <td>28.8</td>\n",
       "    </tr>\n",
       "    <tr>\n",
       "      <th>20180103_1600</th>\n",
       "      <td>0.8</td>\n",
       "      <td>83.3</td>\n",
       "      <td>24.0</td>\n",
       "    </tr>\n",
       "    <tr>\n",
       "      <th>20180103_1700</th>\n",
       "      <td>9.9</td>\n",
       "      <td>85.7</td>\n",
       "      <td>25.2</td>\n",
       "    </tr>\n",
       "    <tr>\n",
       "      <th>20180103_1800</th>\n",
       "      <td>27.6</td>\n",
       "      <td>98.3</td>\n",
       "      <td>17.1</td>\n",
       "    </tr>\n",
       "    <tr>\n",
       "      <th>20180103_1900</th>\n",
       "      <td>25.3</td>\n",
       "      <td>100.0</td>\n",
       "      <td>11.8</td>\n",
       "    </tr>\n",
       "    <tr>\n",
       "      <th>20180103_2000</th>\n",
       "      <td>28.4</td>\n",
       "      <td>NaN</td>\n",
       "      <td>4.3</td>\n",
       "    </tr>\n",
       "    <tr>\n",
       "      <th>20180103_2100</th>\n",
       "      <td>23.0</td>\n",
       "      <td>NaN</td>\n",
       "      <td>1.9</td>\n",
       "    </tr>\n",
       "    <tr>\n",
       "      <th>20180103_2200</th>\n",
       "      <td>14.5</td>\n",
       "      <td>NaN</td>\n",
       "      <td>1.3</td>\n",
       "    </tr>\n",
       "    <tr>\n",
       "      <th>20180103_2300</th>\n",
       "      <td>23.0</td>\n",
       "      <td>NaN</td>\n",
       "      <td>0.9</td>\n",
       "    </tr>\n",
       "    <tr>\n",
       "      <th>20180103_2400</th>\n",
       "      <td>51.4</td>\n",
       "      <td>NaN</td>\n",
       "      <td>2.0</td>\n",
       "    </tr>\n",
       "  </tbody>\n",
       "</table>\n",
       "</div>"
      ],
      "text/plain": [
       "               load  solar  wind\n",
       "Time                            \n",
       "20180102_0100   6.0    NaN  60.0\n",
       "20180102_0200  18.9    NaN  61.7\n",
       "20180102_0300  16.5    NaN  56.5\n",
       "20180102_0400  18.1    NaN  54.8\n",
       "20180102_0500  14.1    NaN  56.0\n",
       "20180102_0600   3.3    NaN  50.8\n",
       "20180102_0700   0.0    NaN  47.0\n",
       "20180102_0800   0.0   10.4  33.5\n",
       "20180102_0900   0.2    0.4  22.7\n",
       "20180102_1000   0.3    0.0  34.6\n",
       "20180102_1100   0.8    0.0  46.1\n",
       "20180102_1200   0.9    0.0  46.9\n",
       "20180102_1300   1.3    0.0  55.7\n",
       "20180102_1400   2.1    0.0  66.2\n",
       "20180102_1500   5.5    0.3  77.4\n",
       "20180102_1600  13.8    1.2  86.5\n",
       "20180102_1700  45.4   15.8  88.7\n",
       "20180102_1800  17.7   45.1  84.8\n",
       "20180102_1900   6.7   70.7  73.0\n",
       "20180102_2000   8.7    NaN  56.2\n",
       "20180102_2100   6.1    NaN  37.8\n",
       "20180102_2200   4.3    NaN  34.9\n",
       "20180102_2300  13.4    NaN  33.4\n",
       "20180102_2400  54.7    NaN  37.4\n",
       "20180103_0100  97.0    NaN  44.0\n",
       "20180103_0200  98.1    NaN  59.0\n",
       "20180103_0300  98.1    NaN  71.9\n",
       "20180103_0400  98.3    NaN  75.0\n",
       "20180103_0500  98.8    NaN  70.5\n",
       "20180103_0600  97.1    NaN  70.1\n",
       "20180103_0700  80.8    NaN  75.1\n",
       "20180103_0800  44.9   62.8  74.0\n",
       "20180103_0900   4.0   32.8  71.0\n",
       "20180103_1000   0.4   68.5  87.3\n",
       "20180103_1100   0.1   83.5  66.5\n",
       "20180103_1200   0.3   79.6  44.5\n",
       "20180103_1300   0.3   66.6  42.0\n",
       "20180103_1400   0.2   67.1  33.0\n",
       "20180103_1500   0.6   71.1  28.8\n",
       "20180103_1600   0.8   83.3  24.0\n",
       "20180103_1700   9.9   85.7  25.2\n",
       "20180103_1800  27.6   98.3  17.1\n",
       "20180103_1900  25.3  100.0  11.8\n",
       "20180103_2000  28.4    NaN   4.3\n",
       "20180103_2100  23.0    NaN   1.9\n",
       "20180103_2200  14.5    NaN   1.3\n",
       "20180103_2300  23.0    NaN   0.9\n",
       "20180103_2400  51.4    NaN   2.0"
      ]
     },
     "execution_count": 111,
     "metadata": {},
     "output_type": "execute_result"
    }
   ],
   "source": [
    "percentile_pu_df.head(48)"
   ]
  },
  {
   "cell_type": "code",
   "execution_count": null,
   "id": "01a95448",
   "metadata": {},
   "outputs": [],
   "source": []
  }
 ],
 "metadata": {
  "kernelspec": {
   "display_name": "Python 3 (ipykernel)",
   "language": "python",
   "name": "python3"
  },
  "language_info": {
   "codemirror_mode": {
    "name": "ipython",
    "version": 3
   },
   "file_extension": ".py",
   "mimetype": "text/x-python",
   "name": "python",
   "nbconvert_exporter": "python",
   "pygments_lexer": "ipython3",
   "version": "3.8.10"
  }
 },
 "nbformat": 4,
 "nbformat_minor": 5
}
