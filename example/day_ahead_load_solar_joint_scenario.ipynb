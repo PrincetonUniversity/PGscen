{
 "cells": [
  {
   "cell_type": "code",
   "execution_count": 1,
   "id": "3e712b53",
   "metadata": {},
   "outputs": [],
   "source": [
    "import pandas as pd\n",
    "import numpy as np\n",
    "import matplotlib.pyplot as plt\n",
    "from pgscen.iso.ercot import create_day_ahead_load_solar_joint_scenario"
   ]
  },
  {
   "cell_type": "code",
   "execution_count": 2,
   "id": "e90c0089",
   "metadata": {},
   "outputs": [],
   "source": [
    "load_zone_actual_df = pd.read_csv('../data/Load/ERCOT/Actual/load_actual_1h_zone_2017_2018_utc.csv',\n",
    "                                 parse_dates=['Time'],index_col='Time')\n",
    "load_zone_forecast_df = pd.read_csv('../data/Load/ERCOT/Day-ahead/load_day_ahead_forecast_zone_2017_2018_utc.csv',\n",
    "                                   parse_dates=['Issue_time','Forecast_time'])\n",
    "load_zone_list = load_zone_actual_df.columns.tolist()"
   ]
  },
  {
   "cell_type": "code",
   "execution_count": 3,
   "id": "12483d8c",
   "metadata": {},
   "outputs": [],
   "source": [
    "solar_meta_df = pd.read_excel('../data/MetaData/solar_meta.xlsx')"
   ]
  },
  {
   "cell_type": "code",
   "execution_count": 4,
   "id": "ebd6870b",
   "metadata": {},
   "outputs": [],
   "source": [
    "solar_site_actual_df = pd.read_csv('../data/Solar/NREL/Actual/solar_actual_1h_site_2017_2018_utc.csv',\n",
    "                                  parse_dates=['Time'],index_col='Time')\n",
    "\n",
    "solar_site_forecast_df = pd.read_csv('../data/Solar/NREL/Day-ahead/solar_day_ahead_forecast_site_2017_2018_utc.csv',\n",
    "                                  parse_dates=['Issue_time','Forecast_time'])\n",
    "\n",
    "solar_site_list = solar_site_actual_df.columns.tolist()"
   ]
  },
  {
   "cell_type": "code",
   "execution_count": 5,
   "id": "87a9fb74",
   "metadata": {},
   "outputs": [],
   "source": [
    "nscen = 1000\n",
    "scenario_start_time = pd.to_datetime('2018-10-01 06:00:00',utc=True)\n",
    "output_dir = '/Users/xy3134/Research/PERFORM/Data/GEMINI_scenario/test/'"
   ]
  },
  {
   "cell_type": "code",
   "execution_count": 6,
   "id": "fb8585f7",
   "metadata": {},
   "outputs": [],
   "source": [
    "load_zone_hist_actual_df = load_zone_actual_df[load_zone_actual_df.index<scenario_start_time]\n",
    "load_zone_hist_forecast_df = load_zone_forecast_df[load_zone_forecast_df['Forecast_time']<scenario_start_time]\n",
    "\n",
    "load_zone_future_actual_df = load_zone_actual_df[load_zone_actual_df.index>=scenario_start_time]\n",
    "load_zone_future_forecast_df = load_zone_forecast_df[load_zone_forecast_df['Forecast_time']>=scenario_start_time]"
   ]
  },
  {
   "cell_type": "code",
   "execution_count": 7,
   "id": "2a73d40b",
   "metadata": {},
   "outputs": [],
   "source": [
    "solar_site_hist_actual_df = solar_site_actual_df[solar_site_actual_df.index<scenario_start_time]\n",
    "solar_site_hist_forecast_df = solar_site_forecast_df[solar_site_forecast_df['Forecast_time']<scenario_start_time]\n",
    "\n",
    "solar_site_future_actual_df = solar_site_actual_df[solar_site_actual_df.index>=scenario_start_time]\n",
    "solar_site_future_forecast_df = solar_site_forecast_df[solar_site_forecast_df['Forecast_time']>=scenario_start_time]"
   ]
  },
  {
   "cell_type": "code",
   "execution_count": 8,
   "id": "7b3c3032",
   "metadata": {},
   "outputs": [
    {
     "name": "stdout",
     "output_type": "stream",
     "text": [
      "(1000, 88)\n",
      "7 17\n"
     ]
    }
   ],
   "source": [
    "se = create_day_ahead_load_solar_joint_scenario(nscen,scenario_start_time,load_zone_list,\n",
    "        load_zone_hist_forecast_df,load_zone_hist_actual_df,solar_meta_df,solar_site_list,\n",
    "        solar_site_hist_forecast_df,solar_site_hist_actual_df,load_zone_future_forecast_df,\n",
    "        solar_site_future_forecast_df,load_future_actual_df=load_zone_future_actual_df,\n",
    "        solar_future_actual_df=solar_site_future_actual_df,output_dir=output_dir,return_engine=True)"
   ]
  },
  {
   "cell_type": "code",
   "execution_count": 11,
   "id": "f87acb3e",
   "metadata": {},
   "outputs": [
    {
     "name": "stdout",
     "output_type": "stream",
     "text": [
      "Adamstown_Solar.csv               Mustang_Creek_Solar.csv\r\n",
      "Agate_Solar.csv                   Myrtle_Solar.csv\r\n",
      "Angelina_Solar.csv                Nazareth_Solar.csv\r\n",
      "Angelo_Solar.csv                  Neeley_Solar.csv\r\n",
      "Angus_Solar.csv                   Noble_Solar.csv\r\n",
      "Anson_Solar.csv                   Normande_Solar_Farm.csv\r\n",
      "Anson_Solar_Center,_Phase_II.csv  Norton_Solar.csv\r\n",
      "Anson_Solar_Center,_Phase_III.csv Oberon_Solar.csv\r\n",
      "Aragorn_Solar.csv                 Obsidian_Solar.csv\r\n",
      "Arroyo_Del_Bisonte_Solar.csv      Opal_Solar.csv\r\n",
      "Arroyo_Solar.csv                  Owego_Solar.csv\r\n",
      "Atascosa_I_Solar.csv              Owens_Solar.csv\r\n",
      "Bacon_Switch_Solar.csv            Oxbow_Solar.csv\r\n",
      "Basalt_Solar.csv                  Oxy_Solar.csv\r\n",
      "Bestla_Solar.csv                  Pflugerville_2_Solar.csv\r\n",
      "Blackwater_Draw_Solar.csv         Pflugerville_Solar.csv\r\n",
      "BlueBell_Solar.csv                Phoebe_Solar.csv\r\n",
      "Blue_Bell_Solar_II.csv            Phoenix_Solar.csv\r\n",
      "Blue_Jay_Solar.csv                Pine_Forest_Solar.csv\r\n",
      "Bluebonnet_Solar.csv              Pitts_Dudik_Solar.csv\r\n",
      "Bravepost_Solar.csv               Ponwar_Solar_Farm.csv\r\n",
      "Brightside_Solar.csv              Prickly_Pear.csv\r\n",
      "Brushy_Creek_Solar.csv            Prospero_Solar.csv\r\n",
      "Castro_Solar.csv                  Prospero_Solar_II.csv\r\n",
      "Charbray_Solar.csv                Quantum.csv\r\n",
      "Chatee_Solar.csv                  Quantum_Increase.csv\r\n",
      "Citrine_Solar.csv                 Queen_Solar.csv\r\n",
      "Concho_Valley_Solar.csv           RE_Maplewood_2a_Solar.csv\r\n",
      "Coniglio_Solar.csv                RE_Maplewood_2b_Solar.csv\r\n",
      "Corazon_Solar.csv                 RE_Maplewood_2c_Solar.csv\r\n",
      "Cottonwood_Bayou.csv              Radian.csv\r\n",
      "County_Line_Solar.csv             Radian_Increase.csv\r\n",
      "Crowded_Star_Solar.csv            Rambler_Solar.csv\r\n",
      "Cutlass_Solar.csv                 Ramsey_Solar.csv\r\n",
      "Danciger_Solar.csv                Rayos_Del_Sol.csv\r\n",
      "Danish_Fields_II.csv              Red_Holly_Solar.csv\r\n",
      "Danish_Fields_III.csv             Reiher_Solar.csv\r\n",
      "Danish_Fields_Solar.csv           Rippey_Solar.csv\r",
      "\r\n",
      "Dawn_Solar.csv                    Robles_Solar.csv\r\n",
      "Delilah_Solar_1.csv               Rodeo_Solar.csv\r\n",
      "Delilah_Solar_2.csv               Roseland.csv\r\n",
      "Delilah_Solar_3.csv               SP-Pecos_Bend_Solar_A.csv\r\n",
      "Desert_Rose.csv                   SP-Pecos_Bend_Solar_B.csv\r\n",
      "Dexter_Solar.csv                  SP_TX-12B_Phase_II.csv\r\n",
      "Diamondback_Solar.csv             SP_TX-12B_Phase_III.csv\r\n",
      "Double_R_Solar.csv                Samson_Solar.csv\r\n",
      "Dove_Run.csv                      Samson_Solar_2.csv\r\n",
      "EK_Tipton_Solar.csv               Samson_Solar_3.csv\r\n",
      "El_Zorro_Solar.csv                San_Bernard_Solar.csv\r\n",
      "Elara_Solar.csv                   Sandine_Solar.csv\r\n",
      "Elrond.csv                        Santa_Rita_Solar.csv\r\n",
      "Emerald_Grove_Solar.csv           Shakes_Solar.csv\r\n",
      "Eunice_Solar.csv                  Shorthorn_2_Solar.csv\r\n",
      "Fighting_Jays_Solar.csv           Signal_Ranch.csv\r\n",
      "Flag_City.csv                     Sisters_Solar.csv\r\n",
      "Flatland_Solar.csv                Smithland_Texas_Solar.csv\r\n",
      "Fluorite_Solar.csv                Soda_Lake_Solar_1.csv\r\n",
      "Fort_Bend_Solar.csv               Soda_Lake_Solar_2.csv\r\n",
      "Fowler_Ranch.csv                  Solemio.csv\r\n",
      "French_Goldston_Solar.csv         Space_City_Solar.csv\r\n",
      "Fronton_Solar.csv                 Spanish_Crown.csv\r\n",
      "Frye_Solar.csv                    Spectrum.csv\r\n",
      "GSE_Eleven.csv                    Spinel_Solar.csv\r\n",
      "Galloway_Solar.csv                Starr_Solar_Ranch.csv\r\n",
      "Garnet_Solar.csv                  Stillwater_Solar.csv\r\n",
      "Gold_Creek_Solar.csv              Strategic_Energy.csv\r\n",
      "Goodranch_Solar.csv               Sun_Valley.csv\r\n",
      "Greasewood_II.csv                 Sun_Valley_2.csv\r\n",
      "Greasewood_Solar.csv              Sunshine_Solar.csv\r\n",
      "Green_Holly_Solar.csv             Taygete_II_Solar.csv\r\n",
      "Greyhound_Solar.csv               Taygete_Solar.csv\r\n",
      "Greyhound_Solar_2.csv             Texana_Solar.csv\r\n",
      "HOVEY.csv                         Texas_Solar_Nova.csv\r\n",
      "Half_Moon_Solar.csv               Thickgrass_Solar.csv\r\n",
      "Hallmark_Solar.csv                Timberwolf_POI_A.csv\r\n",
      "Hecate_Solar.csv                  Tom_Green_Solar.csv\r\n",
      "Hill_Solar.csv                    Trevino_Solar.csv\r\n",
      "Holstein_2_Solar.csv              Tri-County_Solar.csv\r\n",
      "Holstein_Solar.csv                Tulsita_Solar.csv\r\n",
      "Hopkins.csv                       Tyson_Nick_Solar.csv\r\n",
      "Horizon_Solar.csv                 Ulysses_Solar.csv\r\n",
      "Horseshoe_Bend_Solar.csv          Upton_Solar.csv\r\n",
      "Howle_Solar.csv                   Vancourt.csv\r\n",
      "IP_Titan.csv                      Vision_Solar.csv\r\n",
      "Impact_Solar.csv                  Wagyu_Solar.csv\r\n",
      "Indigo_Solar.csv                  Wake_Solar.csv\r\n",
      "Inverter_Field_Solar.csv          Wang_Solar.csv\r\n",
      "Juno_Solar.csv                    West_of_Pecos_Solar.csv\r\n",
      "Kellam_Solar.csv                  Westoria_Solar.csv\r\n",
      "King_Mountain_Solar.csv           Whatley_Solar.csv\r\n",
      "Knickerbocker_Road_Solar.csv      Zier_Solar.csv\r\n",
      "Kochab_Solar.csv                  solar109.csv\r\n",
      "Lapetus_Solar_2.csv               solar21.csv\r\n",
      "Lily_Solar.csv                    solar22.csv\r\n",
      "Long_Draw_Solar.csv               solar286.csv\r\n",
      "Long_Point_Solar.csv              solar287.csv\r\n",
      "Longbow_Solar.csv                 solar288.csv\r\n",
      "Lueders_Solar.csv                 solar289.csv\r\n",
      "Lumina.csv                        solar290.csv\r\n",
      "Lunis_Creek_Solar_1.csv           solar291.csv\r\n",
      "Lunis_Creek_Solar_2.csv           solar3.csv\r\n",
      "M-Bar_Solar.csv                   solar362.csv\r\n",
      "Maleza_Solar.csv                  solar363.csv\r\n",
      "March_Road_Solar.csv              solar364.csv\r\n",
      "Markum_Solar.csv                  solar365.csv\r\n",
      "Mercury_Solar.csv                 solar433.csv\r\n",
      "Millhouse_Solar.csv               solar434.csv\r\n",
      "Misae_Solar.csv                   solar435.csv\r\n",
      "Misae_Solar_II.csv                solar436.csv\r\n",
      "Morada_Del_Sol_Solar.csv          solar437.csv\r\n",
      "Morrow_Lake_Solar.csv             solar438.csv\r\n",
      "Morrow_Lake_Solar_II.csv          solar509.csv\r\n",
      "Murphy_Lake_Solar.csv             solar530.csv\r\n"
     ]
    }
   ],
   "source": [
    "!ls /Users/xy3134/Research/PERFORM/Data/GEMINI_scenario/test/20181001/solar/"
   ]
  },
  {
   "cell_type": "code",
   "execution_count": 23,
   "id": "e8a31fa1",
   "metadata": {},
   "outputs": [],
   "source": [
    "df = pd.read_csv('/Users/xy3134/Research/PERFORM/Data/GEMINI_scenario/test/20181001/solar/Adamstown_Solar.csv')"
   ]
  },
  {
   "cell_type": "code",
   "execution_count": 26,
   "id": "e813ba6b",
   "metadata": {},
   "outputs": [
    {
     "data": {
      "text/plain": [
       "(array([ 13.,  19.,   8.,  19.,  18.,  28.,  19.,  22.,  28.,  19.,  31.,\n",
       "         31.,  20.,  30.,  59.,  53.,  74., 123.,  92.,  48.,  68.,  46.,\n",
       "         37.,  27.,  35.,  16.,   8.,   7.,   0.,   4.]),\n",
       " array([  0.        ,   8.33333333,  16.66666667,  25.        ,\n",
       "         33.33333333,  41.66666667,  50.        ,  58.33333333,\n",
       "         66.66666667,  75.        ,  83.33333333,  91.66666667,\n",
       "        100.        , 108.33333333, 116.66666667, 125.        ,\n",
       "        133.33333333, 141.66666667, 150.        , 158.33333333,\n",
       "        166.66666667, 175.        , 183.33333333, 191.66666667,\n",
       "        200.        , 208.33333333, 216.66666667, 225.        ,\n",
       "        233.33333333, 241.66666667, 250.        ]),\n",
       " <BarContainer object of 30 artists>)"
      ]
     },
     "execution_count": 26,
     "metadata": {},
     "output_type": "execute_result"
    },
    {
     "data": {
      "image/png": "[encoded data removed]",
      "text/plain": [
       "<Figure size 432x288 with 1 Axes>"
      ]
     },
     "metadata": {
      "needs_background": "light"
     },
     "output_type": "display_data"
    }
   ],
   "source": [
    "plt.hist(df['1700'],bins=30)"
   ]
  },
  {
   "cell_type": "code",
   "execution_count": 35,
   "id": "7dd92e8d",
   "metadata": {},
   "outputs": [
    {
     "data": {
      "text/plain": [
       "(array([ 9.,  3.,  6., 14., 12., 13., 10., 11., 18., 14., 16., 15., 15.,\n",
       "        17., 30., 33., 46., 72., 45., 40., 28., 23., 21., 17.,  8., 10.,\n",
       "         4.,  5.,  1.,  2.]),\n",
       " array([-140.67248775, -132.1551777 , -123.63786765, -115.1205576 ,\n",
       "        -106.60324755,  -98.0859375 ,  -89.56862745,  -81.0513174 ,\n",
       "         -72.53400735,  -64.0166973 ,  -55.49938725,  -46.98207721,\n",
       "         -38.46476716,  -29.94745711,  -21.43014706,  -12.91283701,\n",
       "          -4.39552696,    4.12178309,   12.63909314,   21.15640319,\n",
       "          29.67371324,   38.19102328,   46.70833333,   55.22564338,\n",
       "          63.74295343,   72.26026348,   80.77757353,   89.29488358,\n",
       "          97.81219363,  106.32950368,  114.84681373]),\n",
       " <BarContainer object of 30 artists>)"
      ]
     },
     "execution_count": 35,
     "metadata": {},
     "output_type": "execute_result"
    },
    {
     "data": {
      "image/png": "[encoded data removed]",
      "text/plain": [
       "<Figure size 432x288 with 1 Axes>"
      ]
     },
     "metadata": {
      "needs_background": "light"
     },
     "output_type": "display_data"
    }
   ],
   "source": [
    "plt.hist(se.gemini_dict[0]['solar_generator'].conditional_gpd_dict['Adamstown Solar_4'].slots['data'],bins=30)"
   ]
  },
  {
   "cell_type": "code",
   "execution_count": 44,
   "id": "9efad15e",
   "metadata": {},
   "outputs": [],
   "source": [
    "from statsmodels.distributions.empirical_distribution import ECDF\n",
    "from scipy.stats import norm"
   ]
  },
  {
   "cell_type": "code",
   "execution_count": 38,
   "id": "3fba04db",
   "metadata": {},
   "outputs": [],
   "source": [
    "arr = np.random.randn(1000)"
   ]
  },
  {
   "cell_type": "code",
   "execution_count": 40,
   "id": "7474cc2f",
   "metadata": {},
   "outputs": [],
   "source": [
    "f = ECDF(arr)"
   ]
  },
  {
   "cell_type": "code",
   "execution_count": 46,
   "id": "225c77dc",
   "metadata": {},
   "outputs": [
    {
     "ename": "ValueError",
     "evalue": "supplied range of [-3.090232306167813, inf] is not finite",
     "output_type": "error",
     "traceback": [
      "\u001b[0;31m---------------------------------------------------------------------------\u001b[0m",
      "\u001b[0;31mValueError\u001b[0m                                Traceback (most recent call last)",
      "\u001b[0;32m/var/folders/s_/n1m3rnq56951j2vyslszl3640000gp/T/ipykernel_62575/768231791.py\u001b[0m in \u001b[0;36m<module>\u001b[0;34m\u001b[0m\n\u001b[0;32m----> 1\u001b[0;31m \u001b[0mplt\u001b[0m\u001b[0;34m.\u001b[0m\u001b[0mhist\u001b[0m\u001b[0;34m(\u001b[0m\u001b[0mnorm\u001b[0m\u001b[0;34m.\u001b[0m\u001b[0mppf\u001b[0m\u001b[0;34m(\u001b[0m\u001b[0mf\u001b[0m\u001b[0;34m(\u001b[0m\u001b[0marr\u001b[0m\u001b[0;34m)\u001b[0m\u001b[0;34m)\u001b[0m\u001b[0;34m,\u001b[0m\u001b[0mbins\u001b[0m\u001b[0;34m=\u001b[0m\u001b[0;36m100\u001b[0m\u001b[0;34m)\u001b[0m\u001b[0;34m\u001b[0m\u001b[0;34m\u001b[0m\u001b[0m\n\u001b[0m",
      "\u001b[0;32m~/opt/anaconda3/envs/powscen/lib/python3.8/site-packages/matplotlib/pyplot.py\u001b[0m in \u001b[0;36mhist\u001b[0;34m(x, bins, range, density, weights, cumulative, bottom, histtype, align, orientation, rwidth, log, color, label, stacked, data, **kwargs)\u001b[0m\n\u001b[1;32m   2851\u001b[0m         \u001b[0morientation\u001b[0m\u001b[0;34m=\u001b[0m\u001b[0;34m'vertical'\u001b[0m\u001b[0;34m,\u001b[0m \u001b[0mrwidth\u001b[0m\u001b[0;34m=\u001b[0m\u001b[0;32mNone\u001b[0m\u001b[0;34m,\u001b[0m \u001b[0mlog\u001b[0m\u001b[0;34m=\u001b[0m\u001b[0;32mFalse\u001b[0m\u001b[0;34m,\u001b[0m \u001b[0mcolor\u001b[0m\u001b[0;34m=\u001b[0m\u001b[0;32mNone\u001b[0m\u001b[0;34m,\u001b[0m\u001b[0;34m\u001b[0m\u001b[0;34m\u001b[0m\u001b[0m\n\u001b[1;32m   2852\u001b[0m         label=None, stacked=False, *, data=None, **kwargs):\n\u001b[0;32m-> 2853\u001b[0;31m     return gca().hist(\n\u001b[0m\u001b[1;32m   2854\u001b[0m         \u001b[0mx\u001b[0m\u001b[0;34m,\u001b[0m \u001b[0mbins\u001b[0m\u001b[0;34m=\u001b[0m\u001b[0mbins\u001b[0m\u001b[0;34m,\u001b[0m \u001b[0mrange\u001b[0m\u001b[0;34m=\u001b[0m\u001b[0mrange\u001b[0m\u001b[0;34m,\u001b[0m \u001b[0mdensity\u001b[0m\u001b[0;34m=\u001b[0m\u001b[0mdensity\u001b[0m\u001b[0;34m,\u001b[0m \u001b[0mweights\u001b[0m\u001b[0;34m=\u001b[0m\u001b[0mweights\u001b[0m\u001b[0;34m,\u001b[0m\u001b[0;34m\u001b[0m\u001b[0;34m\u001b[0m\u001b[0m\n\u001b[1;32m   2855\u001b[0m         \u001b[0mcumulative\u001b[0m\u001b[0;34m=\u001b[0m\u001b[0mcumulative\u001b[0m\u001b[0;34m,\u001b[0m \u001b[0mbottom\u001b[0m\u001b[0;34m=\u001b[0m\u001b[0mbottom\u001b[0m\u001b[0;34m,\u001b[0m \u001b[0mhisttype\u001b[0m\u001b[0;34m=\u001b[0m\u001b[0mhisttype\u001b[0m\u001b[0;34m,\u001b[0m\u001b[0;34m\u001b[0m\u001b[0;34m\u001b[0m\u001b[0m\n",
      "\u001b[0;32m~/opt/anaconda3/envs/powscen/lib/python3.8/site-packages/matplotlib/__init__.py\u001b[0m in \u001b[0;36minner\u001b[0;34m(ax, data, *args, **kwargs)\u001b[0m\n\u001b[1;32m   1359\u001b[0m     \u001b[0;32mdef\u001b[0m \u001b[0minner\u001b[0m\u001b[0;34m(\u001b[0m\u001b[0max\u001b[0m\u001b[0;34m,\u001b[0m \u001b[0;34m*\u001b[0m\u001b[0margs\u001b[0m\u001b[0;34m,\u001b[0m \u001b[0mdata\u001b[0m\u001b[0;34m=\u001b[0m\u001b[0;32mNone\u001b[0m\u001b[0;34m,\u001b[0m \u001b[0;34m**\u001b[0m\u001b[0mkwargs\u001b[0m\u001b[0;34m)\u001b[0m\u001b[0;34m:\u001b[0m\u001b[0;34m\u001b[0m\u001b[0;34m\u001b[0m\u001b[0m\n\u001b[1;32m   1360\u001b[0m         \u001b[0;32mif\u001b[0m \u001b[0mdata\u001b[0m \u001b[0;32mis\u001b[0m \u001b[0;32mNone\u001b[0m\u001b[0;34m:\u001b[0m\u001b[0;34m\u001b[0m\u001b[0;34m\u001b[0m\u001b[0m\n\u001b[0;32m-> 1361\u001b[0;31m             \u001b[0;32mreturn\u001b[0m \u001b[0mfunc\u001b[0m\u001b[0;34m(\u001b[0m\u001b[0max\u001b[0m\u001b[0;34m,\u001b[0m \u001b[0;34m*\u001b[0m\u001b[0mmap\u001b[0m\u001b[0;34m(\u001b[0m\u001b[0msanitize_sequence\u001b[0m\u001b[0;34m,\u001b[0m \u001b[0margs\u001b[0m\u001b[0;34m)\u001b[0m\u001b[0;34m,\u001b[0m \u001b[0;34m**\u001b[0m\u001b[0mkwargs\u001b[0m\u001b[0;34m)\u001b[0m\u001b[0;34m\u001b[0m\u001b[0;34m\u001b[0m\u001b[0m\n\u001b[0m\u001b[1;32m   1362\u001b[0m \u001b[0;34m\u001b[0m\u001b[0m\n\u001b[1;32m   1363\u001b[0m         \u001b[0mbound\u001b[0m \u001b[0;34m=\u001b[0m \u001b[0mnew_sig\u001b[0m\u001b[0;34m.\u001b[0m\u001b[0mbind\u001b[0m\u001b[0;34m(\u001b[0m\u001b[0max\u001b[0m\u001b[0;34m,\u001b[0m \u001b[0;34m*\u001b[0m\u001b[0margs\u001b[0m\u001b[0;34m,\u001b[0m \u001b[0;34m**\u001b[0m\u001b[0mkwargs\u001b[0m\u001b[0;34m)\u001b[0m\u001b[0;34m\u001b[0m\u001b[0;34m\u001b[0m\u001b[0m\n",
      "\u001b[0;32m~/opt/anaconda3/envs/powscen/lib/python3.8/site-packages/matplotlib/axes/_axes.py\u001b[0m in \u001b[0;36mhist\u001b[0;34m(self, x, bins, range, density, weights, cumulative, bottom, histtype, align, orientation, rwidth, log, color, label, stacked, **kwargs)\u001b[0m\n\u001b[1;32m   6757\u001b[0m             \u001b[0;31m# this will automatically overwrite bins,\u001b[0m\u001b[0;34m\u001b[0m\u001b[0;34m\u001b[0m\u001b[0;34m\u001b[0m\u001b[0m\n\u001b[1;32m   6758\u001b[0m             \u001b[0;31m# so that each histogram uses the same bins\u001b[0m\u001b[0;34m\u001b[0m\u001b[0;34m\u001b[0m\u001b[0;34m\u001b[0m\u001b[0m\n\u001b[0;32m-> 6759\u001b[0;31m             \u001b[0mm\u001b[0m\u001b[0;34m,\u001b[0m \u001b[0mbins\u001b[0m \u001b[0;34m=\u001b[0m \u001b[0mnp\u001b[0m\u001b[0;34m.\u001b[0m\u001b[0mhistogram\u001b[0m\u001b[0;34m(\u001b[0m\u001b[0mx\u001b[0m\u001b[0;34m[\u001b[0m\u001b[0mi\u001b[0m\u001b[0;34m]\u001b[0m\u001b[0;34m,\u001b[0m \u001b[0mbins\u001b[0m\u001b[0;34m,\u001b[0m \u001b[0mweights\u001b[0m\u001b[0;34m=\u001b[0m\u001b[0mw\u001b[0m\u001b[0;34m[\u001b[0m\u001b[0mi\u001b[0m\u001b[0;34m]\u001b[0m\u001b[0;34m,\u001b[0m \u001b[0;34m**\u001b[0m\u001b[0mhist_kwargs\u001b[0m\u001b[0;34m)\u001b[0m\u001b[0;34m\u001b[0m\u001b[0;34m\u001b[0m\u001b[0m\n\u001b[0m\u001b[1;32m   6760\u001b[0m             \u001b[0mtops\u001b[0m\u001b[0;34m.\u001b[0m\u001b[0mappend\u001b[0m\u001b[0;34m(\u001b[0m\u001b[0mm\u001b[0m\u001b[0;34m)\u001b[0m\u001b[0;34m\u001b[0m\u001b[0;34m\u001b[0m\u001b[0m\n\u001b[1;32m   6761\u001b[0m         \u001b[0mtops\u001b[0m \u001b[0;34m=\u001b[0m \u001b[0mnp\u001b[0m\u001b[0;34m.\u001b[0m\u001b[0marray\u001b[0m\u001b[0;34m(\u001b[0m\u001b[0mtops\u001b[0m\u001b[0;34m,\u001b[0m \u001b[0mfloat\u001b[0m\u001b[0;34m)\u001b[0m  \u001b[0;31m# causes problems later if it's an int\u001b[0m\u001b[0;34m\u001b[0m\u001b[0;34m\u001b[0m\u001b[0m\n",
      "\u001b[0;32m<__array_function__ internals>\u001b[0m in \u001b[0;36mhistogram\u001b[0;34m(*args, **kwargs)\u001b[0m\n",
      "\u001b[0;32m~/opt/anaconda3/envs/powscen/lib/python3.8/site-packages/numpy/lib/histograms.py\u001b[0m in \u001b[0;36mhistogram\u001b[0;34m(a, bins, range, normed, weights, density)\u001b[0m\n\u001b[1;32m    791\u001b[0m     \u001b[0ma\u001b[0m\u001b[0;34m,\u001b[0m \u001b[0mweights\u001b[0m \u001b[0;34m=\u001b[0m \u001b[0m_ravel_and_check_weights\u001b[0m\u001b[0;34m(\u001b[0m\u001b[0ma\u001b[0m\u001b[0;34m,\u001b[0m \u001b[0mweights\u001b[0m\u001b[0;34m)\u001b[0m\u001b[0;34m\u001b[0m\u001b[0;34m\u001b[0m\u001b[0m\n\u001b[1;32m    792\u001b[0m \u001b[0;34m\u001b[0m\u001b[0m\n\u001b[0;32m--> 793\u001b[0;31m     \u001b[0mbin_edges\u001b[0m\u001b[0;34m,\u001b[0m \u001b[0muniform_bins\u001b[0m \u001b[0;34m=\u001b[0m \u001b[0m_get_bin_edges\u001b[0m\u001b[0;34m(\u001b[0m\u001b[0ma\u001b[0m\u001b[0;34m,\u001b[0m \u001b[0mbins\u001b[0m\u001b[0;34m,\u001b[0m \u001b[0mrange\u001b[0m\u001b[0;34m,\u001b[0m \u001b[0mweights\u001b[0m\u001b[0;34m)\u001b[0m\u001b[0;34m\u001b[0m\u001b[0;34m\u001b[0m\u001b[0m\n\u001b[0m\u001b[1;32m    794\u001b[0m \u001b[0;34m\u001b[0m\u001b[0m\n\u001b[1;32m    795\u001b[0m     \u001b[0;31m# Histogram is an integer or a float array depending on the weights.\u001b[0m\u001b[0;34m\u001b[0m\u001b[0;34m\u001b[0m\u001b[0;34m\u001b[0m\u001b[0m\n",
      "\u001b[0;32m~/opt/anaconda3/envs/powscen/lib/python3.8/site-packages/numpy/lib/histograms.py\u001b[0m in \u001b[0;36m_get_bin_edges\u001b[0;34m(a, bins, range, weights)\u001b[0m\n\u001b[1;32m    424\u001b[0m             \u001b[0;32mraise\u001b[0m \u001b[0mValueError\u001b[0m\u001b[0;34m(\u001b[0m\u001b[0;34m'`bins` must be positive, when an integer'\u001b[0m\u001b[0;34m)\u001b[0m\u001b[0;34m\u001b[0m\u001b[0;34m\u001b[0m\u001b[0m\n\u001b[1;32m    425\u001b[0m \u001b[0;34m\u001b[0m\u001b[0m\n\u001b[0;32m--> 426\u001b[0;31m         \u001b[0mfirst_edge\u001b[0m\u001b[0;34m,\u001b[0m \u001b[0mlast_edge\u001b[0m \u001b[0;34m=\u001b[0m \u001b[0m_get_outer_edges\u001b[0m\u001b[0;34m(\u001b[0m\u001b[0ma\u001b[0m\u001b[0;34m,\u001b[0m \u001b[0mrange\u001b[0m\u001b[0;34m)\u001b[0m\u001b[0;34m\u001b[0m\u001b[0;34m\u001b[0m\u001b[0m\n\u001b[0m\u001b[1;32m    427\u001b[0m \u001b[0;34m\u001b[0m\u001b[0m\n\u001b[1;32m    428\u001b[0m     \u001b[0;32melif\u001b[0m \u001b[0mnp\u001b[0m\u001b[0;34m.\u001b[0m\u001b[0mndim\u001b[0m\u001b[0;34m(\u001b[0m\u001b[0mbins\u001b[0m\u001b[0;34m)\u001b[0m \u001b[0;34m==\u001b[0m \u001b[0;36m1\u001b[0m\u001b[0;34m:\u001b[0m\u001b[0;34m\u001b[0m\u001b[0;34m\u001b[0m\u001b[0m\n",
      "\u001b[0;32m~/opt/anaconda3/envs/powscen/lib/python3.8/site-packages/numpy/lib/histograms.py\u001b[0m in \u001b[0;36m_get_outer_edges\u001b[0;34m(a, range)\u001b[0m\n\u001b[1;32m    313\u001b[0m                 'max must be larger than min in range parameter.')\n\u001b[1;32m    314\u001b[0m         \u001b[0;32mif\u001b[0m \u001b[0;32mnot\u001b[0m \u001b[0;34m(\u001b[0m\u001b[0mnp\u001b[0m\u001b[0;34m.\u001b[0m\u001b[0misfinite\u001b[0m\u001b[0;34m(\u001b[0m\u001b[0mfirst_edge\u001b[0m\u001b[0;34m)\u001b[0m \u001b[0;32mand\u001b[0m \u001b[0mnp\u001b[0m\u001b[0;34m.\u001b[0m\u001b[0misfinite\u001b[0m\u001b[0;34m(\u001b[0m\u001b[0mlast_edge\u001b[0m\u001b[0;34m)\u001b[0m\u001b[0;34m)\u001b[0m\u001b[0;34m:\u001b[0m\u001b[0;34m\u001b[0m\u001b[0;34m\u001b[0m\u001b[0m\n\u001b[0;32m--> 315\u001b[0;31m             raise ValueError(\n\u001b[0m\u001b[1;32m    316\u001b[0m                 \"supplied range of [{}, {}] is not finite\".format(first_edge, last_edge))\n\u001b[1;32m    317\u001b[0m     \u001b[0;32melif\u001b[0m \u001b[0ma\u001b[0m\u001b[0;34m.\u001b[0m\u001b[0msize\u001b[0m \u001b[0;34m==\u001b[0m \u001b[0;36m0\u001b[0m\u001b[0;34m:\u001b[0m\u001b[0;34m\u001b[0m\u001b[0;34m\u001b[0m\u001b[0m\n",
      "\u001b[0;31mValueError\u001b[0m: supplied range of [-3.090232306167813, inf] is not finite"
     ]
    },
    {
     "data": {
      "image/png": "[encoded data removed]",
      "text/plain": [
       "<Figure size 432x288 with 1 Axes>"
      ]
     },
     "metadata": {
      "needs_background": "light"
     },
     "output_type": "display_data"
    }
   ],
   "source": [
    "plt.hist(norm.ppf(f(arr)),bins=100)"
   ]
  },
  {
   "cell_type": "code",
   "execution_count": 64,
   "id": "1ab740c8",
   "metadata": {},
   "outputs": [],
   "source": [
    "# np.clip(f(arr),1e-4,0.9999)\n",
    "u = norm.ppf(f(arr).clip(1e-4,0.9999))"
   ]
  },
  {
   "cell_type": "code",
   "execution_count": 65,
   "id": "99c40054",
   "metadata": {},
   "outputs": [
    {
     "ename": "TypeError",
     "evalue": "unsupported operand type(s) for -: 'ECDF' and 'float'",
     "output_type": "error",
     "traceback": [
      "\u001b[0;31m---------------------------------------------------------------------------\u001b[0m",
      "\u001b[0;31mTypeError\u001b[0m                                 Traceback (most recent call last)",
      "\u001b[0;32m/var/folders/s_/n1m3rnq56951j2vyslszl3640000gp/T/ipykernel_62575/3241551509.py\u001b[0m in \u001b[0;36m<module>\u001b[0;34m\u001b[0m\n\u001b[0;32m----> 1\u001b[0;31m \u001b[0mnorm\u001b[0m\u001b[0;34m.\u001b[0m\u001b[0mcdf\u001b[0m\u001b[0;34m(\u001b[0m\u001b[0mf\u001b[0m\u001b[0;34m,\u001b[0m\u001b[0mu\u001b[0m\u001b[0;34m)\u001b[0m\u001b[0;34m\u001b[0m\u001b[0;34m\u001b[0m\u001b[0m\n\u001b[0m",
      "\u001b[0;32m~/opt/anaconda3/envs/powscen/lib/python3.8/site-packages/scipy/stats/_distn_infrastructure.py\u001b[0m in \u001b[0;36mcdf\u001b[0;34m(self, x, *args, **kwds)\u001b[0m\n\u001b[1;32m   1951\u001b[0m         \u001b[0m_a\u001b[0m\u001b[0;34m,\u001b[0m \u001b[0m_b\u001b[0m \u001b[0;34m=\u001b[0m \u001b[0mself\u001b[0m\u001b[0;34m.\u001b[0m\u001b[0m_get_support\u001b[0m\u001b[0;34m(\u001b[0m\u001b[0;34m*\u001b[0m\u001b[0margs\u001b[0m\u001b[0;34m)\u001b[0m\u001b[0;34m\u001b[0m\u001b[0;34m\u001b[0m\u001b[0m\n\u001b[1;32m   1952\u001b[0m         \u001b[0mdtyp\u001b[0m \u001b[0;34m=\u001b[0m \u001b[0mnp\u001b[0m\u001b[0;34m.\u001b[0m\u001b[0mfind_common_type\u001b[0m\u001b[0;34m(\u001b[0m\u001b[0;34m[\u001b[0m\u001b[0mx\u001b[0m\u001b[0;34m.\u001b[0m\u001b[0mdtype\u001b[0m\u001b[0;34m,\u001b[0m \u001b[0mnp\u001b[0m\u001b[0;34m.\u001b[0m\u001b[0mfloat64\u001b[0m\u001b[0;34m]\u001b[0m\u001b[0;34m,\u001b[0m \u001b[0;34m[\u001b[0m\u001b[0;34m]\u001b[0m\u001b[0;34m)\u001b[0m\u001b[0;34m\u001b[0m\u001b[0;34m\u001b[0m\u001b[0m\n\u001b[0;32m-> 1953\u001b[0;31m         \u001b[0mx\u001b[0m \u001b[0;34m=\u001b[0m \u001b[0mnp\u001b[0m\u001b[0;34m.\u001b[0m\u001b[0masarray\u001b[0m\u001b[0;34m(\u001b[0m\u001b[0;34m(\u001b[0m\u001b[0mx\u001b[0m \u001b[0;34m-\u001b[0m \u001b[0mloc\u001b[0m\u001b[0;34m)\u001b[0m\u001b[0;34m/\u001b[0m\u001b[0mscale\u001b[0m\u001b[0;34m,\u001b[0m \u001b[0mdtype\u001b[0m\u001b[0;34m=\u001b[0m\u001b[0mdtyp\u001b[0m\u001b[0;34m)\u001b[0m\u001b[0;34m\u001b[0m\u001b[0;34m\u001b[0m\u001b[0m\n\u001b[0m\u001b[1;32m   1954\u001b[0m         \u001b[0mcond0\u001b[0m \u001b[0;34m=\u001b[0m \u001b[0mself\u001b[0m\u001b[0;34m.\u001b[0m\u001b[0m_argcheck\u001b[0m\u001b[0;34m(\u001b[0m\u001b[0;34m*\u001b[0m\u001b[0margs\u001b[0m\u001b[0;34m)\u001b[0m \u001b[0;34m&\u001b[0m \u001b[0;34m(\u001b[0m\u001b[0mscale\u001b[0m \u001b[0;34m>\u001b[0m \u001b[0;36m0\u001b[0m\u001b[0;34m)\u001b[0m\u001b[0;34m\u001b[0m\u001b[0;34m\u001b[0m\u001b[0m\n\u001b[1;32m   1955\u001b[0m         \u001b[0mcond1\u001b[0m \u001b[0;34m=\u001b[0m \u001b[0mself\u001b[0m\u001b[0;34m.\u001b[0m\u001b[0m_open_support_mask\u001b[0m\u001b[0;34m(\u001b[0m\u001b[0mx\u001b[0m\u001b[0;34m,\u001b[0m \u001b[0;34m*\u001b[0m\u001b[0margs\u001b[0m\u001b[0;34m)\u001b[0m \u001b[0;34m&\u001b[0m \u001b[0;34m(\u001b[0m\u001b[0mscale\u001b[0m \u001b[0;34m>\u001b[0m \u001b[0;36m0\u001b[0m\u001b[0;34m)\u001b[0m\u001b[0;34m\u001b[0m\u001b[0;34m\u001b[0m\u001b[0m\n",
      "\u001b[0;31mTypeError\u001b[0m: unsupported operand type(s) for -: 'ECDF' and 'float'"
     ]
    }
   ],
   "source": [
    "norm.cdf(f,u)"
   ]
  },
  {
   "cell_type": "code",
   "execution_count": 66,
   "id": "937014a1",
   "metadata": {},
   "outputs": [
    {
     "data": {
      "text/plain": [
       "<statsmodels.distributions.empirical_distribution.ECDF at 0x7f9e2d4fe760>"
      ]
     },
     "execution_count": 66,
     "metadata": {},
     "output_type": "execute_result"
    }
   ],
   "source": [
    "f"
   ]
  },
  {
   "cell_type": "code",
   "execution_count": null,
   "id": "d6f576d5",
   "metadata": {},
   "outputs": [],
   "source": []
  }
 ],
 "metadata": {
  "kernelspec": {
   "display_name": "Python 3 (ipykernel)",
   "language": "python",
   "name": "python3"
  },
  "language_info": {
   "codemirror_mode": {
    "name": "ipython",
    "version": 3
   },
   "file_extension": ".py",
   "mimetype": "text/x-python",
   "name": "python",
   "nbconvert_exporter": "python",
   "pygments_lexer": "ipython3",
   "version": "3.8.10"
  }
 },
 "nbformat": 4,
 "nbformat_minor": 5
}
