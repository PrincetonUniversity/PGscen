{
 "cells": [
  {
   "cell_type": "markdown",
   "metadata": {},
   "source": [
    "## Generating load scenarios using PGscen ##\n",
    "\n",
    "In this notebook we will use PGscen to create demand scenarios for the load zones in the Texas 7k power grid. This can also be done using the command line tool ```pgscen-load``` installed as part of PGscen."
   ]
  },
  {
   "cell_type": "code",
   "execution_count": null,
   "metadata": {},
   "outputs": [],
   "source": [
    "start_date = '2018-09-15'\n",
    "!pgscen-load {start_date} 3 -vv"
   ]
  },
  {
   "cell_type": "markdown",
   "metadata": {},
   "source": [
    "Here we will go through and explain the steps carried out by the above tool in generating scenarios for a single day, as well as show some of the characteristics of the model that PGscen implements.\n",
    "\n",
    "We begin by finding the folder in which input datasets are located, and where the output scenarios will be saved. We then choose the date for which scenarios will be generated. Although scenarios are generated starting at midnight local time, we normalize our data to UTC time, and our scenarios start at 6am UTC."
   ]
  },
  {
   "cell_type": "code",
   "execution_count": null,
   "metadata": {},
   "outputs": [],
   "source": [
    "from pathlib import Path\n",
    "\n",
    "cur_path = Path(\"day-ahead_load.ipynb\").parent.resolve()\n",
    "data_dir = Path(cur_path, '..', \"data\").resolve()\n",
    "print(\"The data folder we will use is: {}\".format(data_dir))\n",
    "\n",
    "import pandas as pd\n",
    "\n",
    "scenario_count = 1000\n",
    "scen_start_time = pd.to_datetime(' '.join([start_date, \"06:00:00\"]), utc=True)\n",
    "print(\"Scenarios will start at: {}\".format(scen_start_time))"
   ]
  },
  {
   "cell_type": "markdown",
   "metadata": {},
   "source": [
    "The next step is to load the actual demand observed for each load zone and the day-ahead forecasted demand. These two datasets are then split according to whether they came from before the day we want to generate scenarios for (```hist```) or after the scenario day (```futures```)."
   ]
  },
  {
   "cell_type": "code",
   "execution_count": null,
   "metadata": {},
   "outputs": [],
   "source": [
    "from pgscen.command_line import (\n",
    "    load_load_data, split_actuals_hist_future, split_forecasts_hist_future)\n",
    "from IPython.display import display\n",
    "\n",
    "\n",
    "scen_timesteps = pd.date_range(start=scen_start_time, periods=24, freq='H')\n",
    "\n",
    "load_zone_actual_df, load_zone_forecast_df = load_load_data()\n",
    "\n",
    "(load_zone_actual_hists,\n",
    "     load_zone_actual_futures) = split_actuals_hist_future(\n",
    "            load_zone_actual_df, scen_timesteps)\n",
    "\n",
    "(load_zone_forecast_hists,\n",
    "     load_zone_forecast_futures) = split_forecasts_hist_future(\n",
    "            load_zone_forecast_df, scen_timesteps)\n",
    "\n",
    "print(\"LOAD ACTUALS\")\n",
    "display(load_zone_actual_df.iloc[:5, :].round(1))\n",
    "print(\"\")\n",
    "print(\"LOAD FORECASTS\")\n",
    "display(load_zone_forecast_df.iloc[:5, :].round(1))\n",
    "print(\"\")\n",
    "\n",
    "import matplotlib.pyplot as plt\n",
    "from matplotlib.patches import Patch\n",
    "import matplotlib.dates as mdates\n",
    "%matplotlib inline\n",
    "plt.rcParams['figure.figsize'] = [19, 11]\n",
    "\n",
    "fig, (hist_ax, future_ax) = plt.subplots(figsize=(17, 6), nrows=1, ncols=2)\n",
    "title_args = dict(weight='semibold', size=27)\n",
    "actual_clr, fcst_clr = \"#430093\", \"#D9C800\"\n",
    "plt_asset = 'North_Central'\n",
    "\n",
    "hist_ax.set_title(\"History\", **title_args)\n",
    "hist_ax.plot(load_zone_actual_hists[plt_asset][-250:], c=actual_clr)\n",
    "hist_ax.plot(load_zone_forecast_hists['Forecast_time'][-250:],\n",
    "             load_zone_forecast_hists[plt_asset][-250:],\n",
    "             c=fcst_clr)\n",
    "hist_ax.xaxis.set_major_formatter(mdates.DateFormatter('%m/%d'))\n",
    "\n",
    "future_ax.set_title(\"Future\", **title_args)\n",
    "future_ax.plot(load_zone_actual_futures[plt_asset][:250], c=actual_clr)\n",
    "future_ax.plot(load_zone_forecast_futures['Forecast_time'][:250],\n",
    "               load_zone_forecast_futures[plt_asset][:250], c=fcst_clr)\n",
    "future_ax.xaxis.set_major_formatter(mdates.DateFormatter('%m/%d'))\n",
    "\n",
    "lgnd_ptchs = [Patch(color=actual_clr, alpha=0.53, label=\"Actuals\"),\n",
    "              Patch(color=fcst_clr, alpha=0.53, label=\"Forecasts\")]\n",
    "\n",
    "_ = fig.legend(handles=lgnd_ptchs, frameon=False, fontsize=17, ncol=2, loc=8,\n",
    "               bbox_to_anchor=(0.5, -0.04), handletextpad=0.7)"
   ]
  },
  {
   "cell_type": "markdown",
   "metadata": {},
   "source": [
    "We use the historical data to train our scenario GEMINI model, which is handled by our scenario engine. This model will fit a covariance matrix for the set of assets (in this case, load zones), and another covariance matrix for the set of time points for the day."
   ]
  },
  {
   "cell_type": "code",
   "execution_count": null,
   "metadata": {},
   "outputs": [],
   "source": [
    "from pgscen.engine import GeminiEngine\n",
    "\n",
    "ge = GeminiEngine(load_zone_actual_hists, load_zone_forecast_hists,\n",
    "                  scen_start_time, asset_type='load')\n",
    "ge.fit(asset_rho=0.05, horizon_rho=0.05)\n",
    "\n",
    "display(ge.model.asset_cov)\n",
    "display(ge.model.horizon_cov.iloc[:7, :7])"
   ]
  },
  {
   "cell_type": "markdown",
   "metadata": {},
   "source": [
    "We see, for example, that using a stronger regularization penalty for our LASSO model when fitting the model results in sparser covariance matrices."
   ]
  },
  {
   "cell_type": "code",
   "execution_count": null,
   "metadata": {},
   "outputs": [],
   "source": [
    "import seaborn as sns\n",
    "from ipywidgets import interact, FloatText\n",
    "from pgscen.utils.plot_utils import get_clustermat, cov_cmap\n",
    "\n",
    "\n",
    "def plot_zone_covars(rho):\n",
    "    ge.fit(asset_rho=rho, horizon_rho=rho)\n",
    "\n",
    "    fig, axarr = plt.subplots(figsize=(15, 7), nrows=1, ncols=2)\n",
    "    asset_clust = get_clustermat(ge.model.asset_cov)\n",
    "    asset_var = asset_clust.iloc[0, 0]\n",
    "    time_clust = get_clustermat(ge.model.horizon_cov)\n",
    "    time_var = time_clust.iloc[0, 0]\n",
    "\n",
    "    sns.heatmap(asset_clust, ax=axarr[0],\n",
    "                cmap=cov_cmap, vmin=-asset_var, vmax=asset_var, square=True)\n",
    "    sns.heatmap(time_clust, ax=axarr[1],\n",
    "                cmap=cov_cmap, vmin=-time_var, vmax=time_var, square=True)\n",
    "\n",
    "    asset_lbls = [asset.replace('_', ' ') for asset in asset_clust.index]\n",
    "    axarr[0].set_xticklabels(asset_lbls, rotation=31, ha='right', size=17)\n",
    "    axarr[0].set_yticklabels(asset_lbls, size=17)\n",
    "\n",
    "    time_lbls = [ge.scen_timesteps[int(lag.split('_')[1])].strftime(\"%H:%M\")\n",
    "                 for lag in time_clust.index]\n",
    "    axarr[1].set_xticklabels(time_lbls, rotation=90, size=13)\n",
    "    axarr[1].set_yticklabels(time_lbls, size=13)\n",
    "\n",
    "    axarr[0].set_title(\"Load Covariance\\n\", **title_args)\n",
    "    axarr[1].set_title(\"Timestep Covariance\\n\", **title_args)\n",
    "    plt.tight_layout(w_pad=7)    \n",
    "\n",
    "w = FloatText(value=0.05,\n",
    "              layout={'align_self': 'center'}, style={'description_width': 'initial'},\n",
    "              disabled=False)\n",
    "_ = interact(plot_zone_covars, rho=w)"
   ]
  },
  {
   "cell_type": "markdown",
   "metadata": {},
   "source": [
    "We can now use this fitted model to produce scenarios. This is done by producing deviations from the forecasted data for the given day using the distributions whose parameters were determined during the fitting step."
   ]
  },
  {
   "cell_type": "code",
   "execution_count": null,
   "metadata": {},
   "outputs": [],
   "source": [
    "ge.create_scenario(scenario_count, load_zone_forecast_futures,\n",
    "                   bin_width_ratio=0.1, min_sample_size=400)\n",
    "\n",
    "display(ge.scenarios['load']['Coast'].round(1))"
   ]
  },
  {
   "cell_type": "code",
   "execution_count": null,
   "metadata": {},
   "outputs": [],
   "source": [
    "from ipywidgets import Dropdown\n",
    "\n",
    "\n",
    "def plot_zone_scenarios(plt_zone):\n",
    "    fig, ax = plt.subplots(figsize=(15, 7))\n",
    "\n",
    "    for i in range(scenario_count):\n",
    "        plt.plot(ge.scenarios['load'].iloc[i][plt_zone],\n",
    "                 c='black', alpha=0.13, lw=0.2)\n",
    "\n",
    "    plt_fcst = ge.forecasts['load'][plt_zone]\n",
    "    plt.plot(plt_fcst, c=fcst_clr, alpha=0.47, lw=4.1)\n",
    "    plt.plot(load_zone_actual_futures.loc[plt_fcst.index, plt_zone],\n",
    "             c=actual_clr, alpha=0.47, lw=4.1)\n",
    "\n",
    "    quant_df = ge.scenarios['load'][plt_zone].quantile([0.25, 0.75])\n",
    "    ax.fill_between(quant_df.columns, quant_df.iloc[0], quant_df.iloc[1],\n",
    "                    color='red', alpha=0.31)\n",
    "\n",
    "    lgnd_ptchs = [Patch(color='black', alpha=0.23, label=\"Scenarios\"),\n",
    "                  Patch(color='red', alpha=0.41, label=\"Interquartile Range\"),\n",
    "                  Patch(color=fcst_clr, alpha=0.81, label=\"Forecast\"),\n",
    "                  Patch(color=actual_clr, alpha=0.81, label=\"Actual\")]\n",
    "\n",
    "    _ = plt.legend(handles=lgnd_ptchs, frameon=False, fontsize=17, ncol=4, loc=8,\n",
    "                   bbox_to_anchor=(0.5, -0.17), handletextpad=0.7)\n",
    "\n",
    "w = Dropdown(options=ge.asset_list, description=\"Scenarios for zone:\",\n",
    "             layout={'align_self': 'center'}, style={'description_width': 'initial'},\n",
    "             disabled=False)\n",
    "_ = interact(plot_zone_scenarios, plt_zone=w)"
   ]
  },
  {
   "cell_type": "markdown",
   "metadata": {},
   "source": [
    "Our final step is to save the generated scenarios to file. We include the actual and forecasted load demands in the saved data to facilitate downstream analyses."
   ]
  },
  {
   "cell_type": "code",
   "execution_count": null,
   "metadata": {},
   "outputs": [],
   "source": [
    "ge.write_to_csv(data_dir, load_zone_actual_futures, write_forecasts=True)\n",
    "!ls 20180815/load"
   ]
  }
 ],
 "metadata": {
  "kernelspec": {
   "display_name": "pgscen [~/.conda/envs/pgscen/]",
   "language": "python",
   "name": "conda_pgscen"
  },
  "language_info": {
   "codemirror_mode": {
    "name": "ipython",
    "version": 3
   },
   "file_extension": ".py",
   "mimetype": "text/x-python",
   "name": "python",
   "nbconvert_exporter": "python",
   "pygments_lexer": "ipython3",
   "version": "3.8.12"
  }
 },
 "nbformat": 4,
 "nbformat_minor": 4
}
