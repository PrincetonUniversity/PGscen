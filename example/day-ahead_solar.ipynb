{
 "cells": [
  {
   "cell_type": "markdown",
   "metadata": {},
   "source": [
    "## Generating solar scenarios using PGscen ##\n",
    "\n",
    "In this notebook we will use PGscen to create a thousand scenarios for photovoltaic generator output across the Texas 7k system. The output generated here can also be created using the ```pgscen-solar``` command line tool installed as part of PGscen.\n",
    "\n",
    "We begin by finding the folder in which input datasets are located, and where the output scenarios will be saved. We then choose the date for which scenarios will be generated. Although scenarios are generated starting at midnight local time, we normalize our data to UTC time, and our scenarios start at 6am UTC."
   ]
  },
  {
   "cell_type": "code",
   "execution_count": null,
   "metadata": {},
   "outputs": [],
   "source": [
    "from pathlib import Path\n",
    "\n",
    "cur_path = Path(\"day-ahead_solar.ipynb\").parent.resolve()\n",
    "data_dir = Path(cur_path, '..', \"data\").resolve()\n",
    "print(\"The data folder we will use is: {}\".format(data_dir))\n",
    "\n",
    "import pandas as pd\n",
    "\n",
    "scenario_count = 1000\n",
    "start_date = '2018-03-02'\n",
    "scen_start_time = pd.to_datetime(' '.join([start_date, \"06:00:00\"]), utc=True)\n",
    "print(\"Scenarios will start at: {}\".format(scen_start_time))"
   ]
  },
  {
   "cell_type": "markdown",
   "metadata": {},
   "source": [
    "The next step is to load the input datasets: the actual output for each photovoltaic generator, the day-ahead forecasted output, and the generator characteristics. The former two are then split according to whether they came from before the day we want to generate scenarios for (```hist```) or after the scenario day (```futures```)."
   ]
  },
  {
   "cell_type": "code",
   "execution_count": null,
   "metadata": {},
   "outputs": [],
   "source": [
    "from pgscen.command_line import (\n",
    "    load_solar_data, split_actuals_hist_future, split_forecasts_hist_future)\n",
    "\n",
    "(solar_site_actual_df, solar_site_forecast_df,\n",
    "     solar_meta_df) = load_solar_data(data_dir)\n",
    "\n",
    "(solar_site_actual_hists,\n",
    "     solar_site_actual_futures) = split_actuals_hist_future(\n",
    "            solar_site_actual_df, scen_start_time)\n",
    "\n",
    "(solar_site_forecast_hists,\n",
    "     solar_site_forecast_futures) = split_forecasts_hist_future(\n",
    "            solar_site_forecast_df, scen_start_time)\n",
    "\n",
    "print(\"SOLAR ACTUALS\")\n",
    "print(solar_site_actual_df.iloc[:5, [3, 101]])\n",
    "print(\"\")\n",
    "print(\"SOLAR FORECASTS\")\n",
    "print(solar_site_forecast_df.iloc[:5, [0, 1, 5, 103]])\n",
    "print(\"\")\n",
    "\n",
    "import matplotlib.pyplot as plt\n",
    "from matplotlib.patches import Patch\n",
    "import matplotlib.dates as mdates\n",
    "%matplotlib inline\n",
    "plt.rcParams['figure.figsize'] = [19, 11]\n",
    "\n",
    "fig, (hist_ax, future_ax) = plt.subplots(figsize=(13, 6), nrows=1, ncols=2)\n",
    "title_args = dict(weight='semibold', size=19)\n",
    "actual_clr, fcst_clr = \"#430093\", \"#D9C800\"\n",
    "plt_asset = 'Angelo Solar'\n",
    "\n",
    "hist_ax.set_title(\"History\", **title_args)\n",
    "hist_ax.plot(solar_site_actual_hists[plt_asset][-250:], c=actual_clr)\n",
    "hist_ax.plot(solar_site_forecast_hists['Forecast_time'][-250:],\n",
    "             solar_site_forecast_hists[plt_asset][-250:],\n",
    "             c=fcst_clr)\n",
    "hist_ax.xaxis.set_major_formatter(mdates.DateFormatter('%m/%d'))\n",
    "\n",
    "future_ax.set_title(\"Future\", **title_args)\n",
    "future_ax.plot(solar_site_actual_futures[plt_asset][:250], c=actual_clr)\n",
    "future_ax.plot(solar_site_forecast_futures['Forecast_time'][:250],\n",
    "               solar_site_forecast_futures[plt_asset][:250], c=fcst_clr)\n",
    "future_ax.xaxis.set_major_formatter(mdates.DateFormatter('%m/%d'))\n",
    "\n",
    "lgnd_ptchs = [Patch(color=actual_clr, alpha=0.53, label=\"Actuals\"),\n",
    "              Patch(color=fcst_clr, alpha=0.53, label=\"Forecasts\")]\n",
    "\n",
    "fig.legend(handles=lgnd_ptchs, frameon=False, fontsize=17, ncol=2, loc=8,\n",
    "           bbox_to_anchor=(0.5, -0.04), handletextpad=0.7)"
   ]
  },
  {
   "cell_type": "markdown",
   "metadata": {},
   "source": [
    "We are now ready to create a scenario engine, and instruct it to fit a set of models describing the historical generator output data. Note that this step may take around a minute to complete. "
   ]
  },
  {
   "cell_type": "code",
   "execution_count": null,
   "metadata": {},
   "outputs": [],
   "source": [
    "from pgscen.engine import SolarGeminiEngine\n",
    "\n",
    "se = SolarGeminiEngine(solar_site_actual_hists, solar_site_forecast_hists,\n",
    "                       scen_start_time, solar_meta_df)\n",
    "se.fit_solar_model()"
   ]
  },
  {
   "cell_type": "markdown",
   "metadata": {},
   "source": [
    "This includes a model for generator behavior during the daytime, as well as a series of conditional models describing dawn and dusk times which must be handled separately. Each of these models consists of a covariance matrix across all pairs of generators, and another covariance matrix across all pairs of day times included in the model."
   ]
  },
  {
   "cell_type": "code",
   "execution_count": null,
   "metadata": {},
   "outputs": [],
   "source": [
    "import seaborn as sns\n",
    "from scipy.spatial import distance\n",
    "from scipy.cluster.hierarchy import linkage, dendrogram\n",
    "\n",
    "cov_cmap = sns.diverging_palette(3, 237, s=81, l=43, sep=3, as_cmap=True)\n",
    "\n",
    "def get_clustermat(cov_mat):\n",
    "    clust_order = dendrogram(linkage(distance.pdist(cov_mat,\n",
    "                                                    metric='euclidean'),\n",
    "                                     method='centroid'),\n",
    "                             no_plot=True)['leaves']\n",
    "    \n",
    "    return cov_mat.iloc[clust_order, clust_order]\n",
    "    \n",
    "fig, axarr = plt.subplots(figsize=(15, 21),\n",
    "                          nrows=len(se.gemini_dict), ncols=2)\n",
    "\n",
    "day_model = se.gemini_dict['day']['gemini_model']\n",
    "sns.heatmap(get_clustermat(day_model.asset_cov),\n",
    "            ax=axarr[0, 0], cmap=cov_cmap, vmin=-1, vmax=1, square=True)\n",
    "sns.heatmap(get_clustermat(day_model.horizon_cov),\n",
    "            ax=axarr[0, 1], cmap=cov_cmap, vmin=-1, vmax=1, square=True)\n",
    "\n",
    "for i in range(se.cond_count):\n",
    "    cond_model = se.gemini_dict['cond', i]['gemini_model']\n",
    "    \n",
    "    sns.heatmap(get_clustermat(cond_model.asset_cov), ax=axarr[i + 1, 0],\n",
    "                cmap=cov_cmap, vmin=-1, vmax=1, square=True)\n",
    "    sns.heatmap(get_clustermat(cond_model.horizon_cov), ax=axarr[i + 1, 1],\n",
    "                cmap=cov_cmap, vmin=-1, vmax=1, square=True)\n",
    "\n",
    "axarr[0, 0].set_title(\"Generator Covariance\\n\", **title_args)\n",
    "axarr[0, 1].set_title(\"Timestep Covariance\\n\", **title_args)\n",
    "plt.tight_layout(w_pad=-2, h_pad=1.7)"
   ]
  },
  {
   "cell_type": "markdown",
   "metadata": {},
   "source": [
    "We are now ready to use these fitted models to generate scenarios. This is done by producing deviations from the forecasted data for the given day using distributions whose parameters were determined during the fitting step. Scenario generation can also take roughly a minute of runtime."
   ]
  },
  {
   "cell_type": "code",
   "execution_count": null,
   "metadata": {},
   "outputs": [],
   "source": [
    "se.create_solar_scenario(scenario_count, solar_site_forecast_futures)\n",
    "print(se.scenarios['solar'].iloc[:, [0, 301, 777, 1001]])"
   ]
  },
  {
   "cell_type": "code",
   "execution_count": null,
   "metadata": {},
   "outputs": [],
   "source": [
    "plt_asset = se.asset_list[17]\n",
    "\n",
    "for i in range(scenario_count):\n",
    "    plt.plot(se.scenarios['solar'].iloc[i][plt_asset],\n",
    "             c='black', alpha=0.11, lw=0.2)\n",
    "\n",
    "plt_fcst = se.forecasts['solar'][plt_asset]\n",
    "plt.plot(plt_fcst, c=fcst_clr, alpha=0.47, lw=7.1)\n",
    "plt.plot(solar_site_actual_futures.loc[plt_fcst.index, plt_asset],\n",
    "         c=actual_clr, alpha=0.47, lw=7.1)\n",
    "\n",
    "lgnd_ptchs = [Patch(color='black', alpha=0.23, label=\"Scenarios\"),\n",
    "              Patch(color=fcst_clr, alpha=0.81, label=\"Forecast\"),\n",
    "              Patch(color=actual_clr, alpha=0.81, label=\"Actual\")]\n",
    "\n",
    "plt.legend(handles=lgnd_ptchs, frameon=False, fontsize=17, ncol=3, loc=8,\n",
    "           bbox_to_anchor=(0.5, -0.13), handletextpad=0.7)"
   ]
  },
  {
   "cell_type": "markdown",
   "metadata": {},
   "source": [
    "Our final step is to save the generated scenarios to file. We include the actual and forecasted generator outputs in the saved data to facilitate downstream analyses."
   ]
  },
  {
   "cell_type": "code",
   "execution_count": null,
   "metadata": {},
   "outputs": [],
   "source": [
    "se.write_to_csv(data_dir, {'solar': solar_site_actual_futures},\n",
    "                write_forecasts=True)"
   ]
  }
 ],
 "metadata": {
  "kernelspec": {
   "display_name": "pgscen [~/.conda/envs/pgscen/]",
   "language": "python",
   "name": "conda_pgscen"
  },
  "language_info": {
   "codemirror_mode": {
    "name": "ipython",
    "version": 3
   },
   "file_extension": ".py",
   "mimetype": "text/x-python",
   "name": "python",
   "nbconvert_exporter": "python",
   "pygments_lexer": "ipython3",
   "version": "3.8.12"
  }
 },
 "nbformat": 4,
 "nbformat_minor": 5
}
