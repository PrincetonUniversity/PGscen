{
 "cells": [
  {
   "cell_type": "code",
   "execution_count": 1,
   "id": "f5b397ab",
   "metadata": {},
   "outputs": [],
   "source": [
    "import pandas as pd\n",
    "import os"
   ]
  },
  {
   "cell_type": "code",
   "execution_count": 3,
   "id": "48c5c6f7",
   "metadata": {},
   "outputs": [],
   "source": [
    "#Example\n",
    "#UTC Time Zone\n",
    "#Coast: 05/12: move 10694.13 on 6:00 am to 10694.13 on 8:00am"
   ]
  },
  {
   "cell_type": "code",
   "execution_count": 6,
   "id": "256b8f7a",
   "metadata": {},
   "outputs": [],
   "source": [
    "os.chdir('/Users/jf3375/PycharmProjects/PGscen/data/Load/ERCOT/Actual')"
   ]
  },
  {
   "cell_type": "code",
   "execution_count": 7,
   "id": "af0cbc44",
   "metadata": {},
   "outputs": [],
   "source": [
    "actual = pd.read_csv('load_actual_1h_zone_2017_2018_utc.csv')"
   ]
  },
  {
   "cell_type": "code",
   "execution_count": 12,
   "id": "6d1ba574",
   "metadata": {},
   "outputs": [],
   "source": [
    "actual['Time'] = actual['Time'].shift(-2)"
   ]
  },
  {
   "cell_type": "code",
   "execution_count": 14,
   "id": "1dfa958b",
   "metadata": {},
   "outputs": [],
   "source": [
    "actual = actual.dropna()"
   ]
  },
  {
   "cell_type": "code",
   "execution_count": 19,
   "id": "811c3f79",
   "metadata": {},
   "outputs": [
    {
     "data": {
      "text/html": [
       "<div>\n",
       "<style scoped>\n",
       "    .dataframe tbody tr th:only-of-type {\n",
       "        vertical-align: middle;\n",
       "    }\n",
       "\n",
       "    .dataframe tbody tr th {\n",
       "        vertical-align: top;\n",
       "    }\n",
       "\n",
       "    .dataframe thead th {\n",
       "        text-align: right;\n",
       "    }\n",
       "</style>\n",
       "<table border=\"1\" class=\"dataframe\">\n",
       "  <thead>\n",
       "    <tr style=\"text-align: right;\">\n",
       "      <th></th>\n",
       "      <th>Time</th>\n",
       "      <th>Coast</th>\n",
       "      <th>East</th>\n",
       "      <th>Far_West</th>\n",
       "      <th>North</th>\n",
       "      <th>North_Central</th>\n",
       "      <th>South</th>\n",
       "      <th>South_Central</th>\n",
       "      <th>West</th>\n",
       "    </tr>\n",
       "  </thead>\n",
       "  <tbody>\n",
       "    <tr>\n",
       "      <th>11906</th>\n",
       "      <td>2018-05-12 08:00:00+00:00</td>\n",
       "      <td>10694.13</td>\n",
       "      <td>1288.6</td>\n",
       "      <td>2778.91</td>\n",
       "      <td>795.98</td>\n",
       "      <td>10486.3</td>\n",
       "      <td>2868.01</td>\n",
       "      <td>5550.79</td>\n",
       "      <td>1209.89</td>\n",
       "    </tr>\n",
       "  </tbody>\n",
       "</table>\n",
       "</div>"
      ],
      "text/plain": [
       "                            Time     Coast    East  Far_West   North  \\\n",
       "11906  2018-05-12 08:00:00+00:00  10694.13  1288.6   2778.91  795.98   \n",
       "\n",
       "       North_Central    South  South_Central     West  \n",
       "11906        10486.3  2868.01        5550.79  1209.89  "
      ]
     },
     "execution_count": 19,
     "metadata": {},
     "output_type": "execute_result"
    }
   ],
   "source": [
    "actual[actual['Time'] == '2018-05-12 08:00:00+00:00']"
   ]
  },
  {
   "cell_type": "code",
   "execution_count": 31,
   "id": "8bda78c3",
   "metadata": {},
   "outputs": [],
   "source": [
    "actual.to_csv('load_actual_1h_zone_2017_2018_utc_2hrahead.csv', index = False)"
   ]
  },
  {
   "cell_type": "code",
   "execution_count": 27,
   "id": "e29207e5",
   "metadata": {},
   "outputs": [],
   "source": [
    "#Forecast should not be changed because it is not shifted for 2 hrs\n",
    "os.chdir('/Users/jf3375/PycharmProjects/PGscen/data/Load/ERCOT/Day-ahead')"
   ]
  },
  {
   "cell_type": "code",
   "execution_count": 24,
   "id": "80c654d0",
   "metadata": {},
   "outputs": [],
   "source": [
    "forecast = pd.read_csv('load_day_ahead_forecast_zone_2017_2018_utc.csv')"
   ]
  },
  {
   "cell_type": "code",
   "execution_count": 28,
   "id": "9bb6b5d6",
   "metadata": {},
   "outputs": [],
   "source": [
    "forecast['Issue_time'] = forecast['Issue_time'].shift(-2)\n",
    "forecast['Forecast_time'] = forecast['Forecast_time'].shift(-2)"
   ]
  },
  {
   "cell_type": "code",
   "execution_count": 30,
   "id": "498857c3",
   "metadata": {},
   "outputs": [],
   "source": [
    "forecast = forecast.dropna()"
   ]
  },
  {
   "cell_type": "code",
   "execution_count": 32,
   "id": "a38ee9c0",
   "metadata": {},
   "outputs": [],
   "source": [
    "forecast.to_csv('load_day_ahead_forecast_zone_2017_2018_utc_2hrahead.csv', index = False)"
   ]
  },
  {
   "cell_type": "code",
   "execution_count": null,
   "id": "68418910",
   "metadata": {},
   "outputs": [],
   "source": []
  }
 ],
 "metadata": {
  "kernelspec": {
   "display_name": "Python 3 (ipykernel)",
   "language": "python",
   "name": "python3"
  },
  "language_info": {
   "codemirror_mode": {
    "name": "ipython",
    "version": 3
   },
   "file_extension": ".py",
   "mimetype": "text/x-python",
   "name": "python",
   "nbconvert_exporter": "python",
   "pygments_lexer": "ipython3",
   "version": "3.9.7"
  }
 },
 "nbformat": 4,
 "nbformat_minor": 5
}
