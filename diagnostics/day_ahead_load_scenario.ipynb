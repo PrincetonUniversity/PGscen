{
 "cells": [
  {
   "cell_type": "code",
   "execution_count": null,
   "metadata": {},
   "outputs": [],
   "source": [
    "from pathlib import Path\n",
    "import pandas as pd\n",
    "from pgscen.command_line import (\n",
    "    load_load_data, split_actuals_hist_future, split_forecasts_hist_future)\n",
    "\n",
    "\n",
    "cur_path = Path(\"day-ahead_load_scenario.ipynb\").parent.resolve()\n",
    "data_dir = Path(cur_path, '..', \"data\").resolve()\n",
    "load_zone_actual_df, load_zone_forecast_df = load_load_data()\n",
    "\n",
    "scenario_start_time = pd.to_datetime('2018-02-21 06:00:00',utc=True)\n",
    "scen_timesteps = pd.date_range(start=scenario_start_time,\n",
    "                               periods=24, freq='H')\n",
    "\n",
    "(load_zone_actual_hists,\n",
    "     load_zone_actual_futures) = split_actuals_hist_future(\n",
    "            load_zone_actual_df, scen_timesteps)\n",
    "\n",
    "(load_zone_forecast_hists,\n",
    "     load_zone_forecast_futures) = split_forecasts_hist_future(\n",
    "            load_zone_forecast_df, scen_timesteps)"
   ]
  },
  {
   "cell_type": "code",
   "execution_count": null,
   "metadata": {},
   "outputs": [],
   "source": [
    "from pgscen.engine import GeminiEngine\n",
    "\n",
    "scenario_count=1000\n",
    "\n",
    "ge = GeminiEngine(load_zone_actual_hists, load_zone_forecast_hists,\n",
    "                  scenario_start_time, asset_type='load')\n",
    "\n",
    "ge.fit(5e-2, 5e-2)\n",
    "ge.create_scenario(scenario_count, load_zone_forecast_futures,\n",
    "                   bin_width_ratio=0.1, min_sample_size=400)"
   ]
  },
  {
   "cell_type": "code",
   "execution_count": null,
   "metadata": {},
   "outputs": [],
   "source": [
    "ge.forecasts['load']['North']"
   ]
  },
  {
   "cell_type": "code",
   "execution_count": null,
   "metadata": {},
   "outputs": [],
   "source": [
    "df = ge.model.deviation_dict['North']\n",
    "cap = df['Forecast'].max()"
   ]
  },
  {
   "cell_type": "code",
   "execution_count": null,
   "metadata": {},
   "outputs": [],
   "source": [
    "(df['Forecast']-1698.4282).abs().sort_values().index[0:200]"
   ]
  },
  {
   "cell_type": "code",
   "execution_count": null,
   "metadata": {},
   "outputs": [],
   "source": [
    "df.iloc[[100, 101]]['Actual']"
   ]
  },
  {
   "cell_type": "code",
   "execution_count": null,
   "metadata": {},
   "outputs": [],
   "source": [
    "index = (df['Forecast']-1698.4282).abs().sort_values().index[0:200]"
   ]
  },
  {
   "cell_type": "code",
   "execution_count": null,
   "metadata": {},
   "outputs": [],
   "source": [
    "import matplotlib.pyplot as plt\n",
    "%matplotlib inline\n",
    "plt.rcParams['figure.figsize'] = [19, 11]\n",
    "\n",
    "_ = plt.hist(df.loc[index]['Deviation'], bins=30)"
   ]
  },
  {
   "cell_type": "code",
   "execution_count": null,
   "metadata": {},
   "outputs": [],
   "source": [
    "plt_asset, plt_ts = tuple(ge.model.conditional_gpd_dict.keys())[11]\n",
    "print('   '.join([plt_asset, str(plt_ts)]))\n",
    "\n",
    "_ = plt.hist(ge.model.conditional_gpd_dict[plt_asset, plt_ts].slots['data'],\n",
    "             bins=30)"
   ]
  },
  {
   "cell_type": "code",
   "execution_count": null,
   "metadata": {},
   "outputs": [],
   "source": [
    "for col in ge.model.scen_df['Coast'].columns:\n",
    "    plt.figure()\n",
    "    _ = plt.hist(ge.model.scen_deviation_df['North'][col], bins=30)"
   ]
  },
  {
   "cell_type": "code",
   "execution_count": null,
   "metadata": {},
   "outputs": [],
   "source": [
    "out_dir = Path(data_dir, '..')\n",
    "ge.write_to_csv(out_dir, load_zone_actual_futures, write_forecasts=True)\n",
    "!ls {Path(out_dir, \"20180221\")}"
   ]
  },
  {
   "cell_type": "code",
   "execution_count": null,
   "metadata": {},
   "outputs": [],
   "source": [
    "import numpy as np\n",
    "\n",
    "df = pd.read_csv(\"{}/20180221/load/South.csv\".format(out_dir))\n",
    "idx = np.random.randint(1000)\n",
    "plt.plot(df.iloc[2+idx,2:],label='scen')\n",
    "plt.plot(df.iloc[0,2:],label='act')\n",
    "plt.plot(df.iloc[1,2:],label='fcst')\n",
    "_ = plt.legend()"
   ]
  }
 ],
 "metadata": {
  "kernelspec": {
   "display_name": "pgscen [~/.conda/envs/pgscen/]",
   "language": "python",
   "name": "conda_pgscen"
  },
  "language_info": {
   "codemirror_mode": {
    "name": "ipython",
    "version": 3
   },
   "file_extension": ".py",
   "mimetype": "text/x-python",
   "name": "python",
   "nbconvert_exporter": "python",
   "pygments_lexer": "ipython3",
   "version": "3.8.12"
  }
 },
 "nbformat": 4,
 "nbformat_minor": 5
}
