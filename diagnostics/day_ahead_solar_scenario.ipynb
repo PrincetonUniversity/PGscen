{
 "cells": [
  {
   "cell_type": "code",
   "execution_count": null,
   "metadata": {},
   "outputs": [],
   "source": [
    "from pathlib import Path\n",
    "import pandas as pd\n",
    "from pgscen.command_line import (\n",
    "    load_solar_data, split_actuals_hist_future, split_forecasts_hist_future)\n",
    "\n",
    "\n",
    "cur_path = Path(\"day-ahead_load_scenario.ipynb\").parent.resolve()\n",
    "data_dir = Path(cur_path, '..', \"data\").resolve()\n",
    "(solar_site_actual_df, solar_site_forecast_df,\n",
    "     solar_meta_df) = load_solar_data()\n",
    "\n",
    "scenario_start_time = pd.to_datetime('2018-09-01 06:00:00',utc=True)\n",
    "scen_timesteps = pd.date_range(start=scenario_start_time,\n",
    "                               periods=24, freq='H')\n",
    "\n",
    "(solar_site_actual_hists,\n",
    "     solar_site_actual_futures) = split_actuals_hist_future(\n",
    "            solar_site_actual_df, scen_timesteps)\n",
    "\n",
    "(solar_site_forecast_hists,\n",
    "     solar_site_forecast_futures) = split_forecasts_hist_future(\n",
    "            solar_site_forecast_df, scen_timesteps)"
   ]
  },
  {
   "cell_type": "code",
   "execution_count": null,
   "metadata": {},
   "outputs": [],
   "source": [
    "from pgscen.engine import SolarGeminiEngine\n",
    "\n",
    "scenario_count = 1000\n",
    "\n",
    "se = SolarGeminiEngine(solar_site_actual_hists,\n",
    "                       solar_site_forecast_hists,\n",
    "                       scenario_start_time, solar_meta_df)\n",
    "\n",
    "se.fit_solar_model()\n",
    "se.create_solar_scenario(scenario_count, solar_site_forecast_futures)"
   ]
  },
  {
   "cell_type": "code",
   "execution_count": null,
   "metadata": {},
   "outputs": [],
   "source": [
    "out_dir = Path(data_dir, '..')\n",
    "se.write_to_csv(out_dir, {'solar': solar_site_actual_futures},\n",
    "                write_forecasts=True)\n",
    "\n",
    "df = pd.read_csv('{}/20180901/solar/Adamstown_Solar.csv'.format(out_dir))\n",
    "print(df)"
   ]
  },
  {
   "cell_type": "code",
   "execution_count": null,
   "metadata": {},
   "outputs": [],
   "source": [
    "import matplotlib.pyplot as plt\n",
    "%matplotlib inline\n",
    "plt.rcParams['figure.figsize'] = [19, 11]\n",
    "\n",
    "plt_ts = se.scen_timesteps[7]\n",
    "print(plt_ts)\n",
    "_ = plt.hist(se.scenarios['solar']['Adamstown Solar'][plt_ts], bins=30)"
   ]
  },
  {
   "cell_type": "code",
   "execution_count": null,
   "metadata": {},
   "outputs": [],
   "source": [
    "plt_asset, plt_ts = tuple(se.gemini_dict['day']['gemini_model'].conditional_gpd_dict.keys())[311]\n",
    "print('   '.join([plt_asset, str(plt_ts)]))\n",
    "\n",
    "_ = plt.hist(\n",
    "    se.gemini_dict['day']['gemini_model'].conditional_gpd_dict[\n",
    "        plt_asset, plt_ts].slots['data'],\n",
    "    bins=30\n",
    "    )"
   ]
  }
 ],
 "metadata": {
  "kernelspec": {
   "display_name": "pgscen [~/.conda/envs/pgscen/]",
   "language": "python",
   "name": "conda_pgscen"
  },
  "language_info": {
   "codemirror_mode": {
    "name": "ipython",
    "version": 3
   },
   "file_extension": ".py",
   "mimetype": "text/x-python",
   "name": "python",
   "nbconvert_exporter": "python",
   "pygments_lexer": "ipython3",
   "version": "3.8.12"
  }
 },
 "nbformat": 4,
 "nbformat_minor": 5
}
