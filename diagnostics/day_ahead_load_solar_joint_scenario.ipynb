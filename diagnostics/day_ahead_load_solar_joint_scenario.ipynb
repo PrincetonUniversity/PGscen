{
 "cells": [
  {
   "cell_type": "code",
   "execution_count": null,
   "metadata": {},
   "outputs": [],
   "source": [
    "from pathlib import Path\n",
    "import pandas as pd\n",
    "from pgscen.command_line import (load_load_data, load_solar_data,\n",
    "                                 split_actuals_hist_future,\n",
    "                                 split_forecasts_hist_future)\n",
    "\n",
    "\n",
    "cur_path = Path(\"day-ahead_load_scenario.ipynb\").parent.resolve()\n",
    "data_dir = Path(cur_path, '..', \"data\").resolve()\n",
    "load_zone_actual_df, load_zone_forecast_df = load_load_data()\n",
    "(solar_site_actual_df, solar_site_forecast_df,\n",
    "            solar_meta_df) = load_solar_data()\n",
    "\n",
    "scenario_start_time = pd.to_datetime('2018-10-01 06:00:00',utc=True)\n",
    "scen_timesteps = pd.date_range(start=scenario_start_time,\n",
    "                               periods=24, freq='H')\n",
    "\n",
    "(load_zone_actual_hists,\n",
    "     load_zone_actual_futures) = split_actuals_hist_future(\n",
    "            load_zone_actual_df, scen_timesteps)\n",
    "\n",
    "(load_zone_forecast_hists,\n",
    "     load_zone_forecast_futures) = split_forecasts_hist_future(\n",
    "            load_zone_forecast_df, scen_timesteps)\n",
    "\n",
    "(solar_site_actual_hists,\n",
    "     solar_site_actual_futures) = split_actuals_hist_future(\n",
    "            solar_site_actual_df, scen_timesteps)\n",
    "\n",
    "(solar_site_forecast_hists,\n",
    "     solar_site_forecast_futures) = split_forecasts_hist_future(\n",
    "            solar_site_forecast_df, scen_timesteps)"
   ]
  },
  {
   "cell_type": "code",
   "execution_count": null,
   "metadata": {},
   "outputs": [],
   "source": [
    "from pgscen.engine import SolarGeminiEngine\n",
    "\n",
    "scenario_count = 1000\n",
    "\n",
    "se = SolarGeminiEngine(solar_site_actual_hists,\n",
    "                       solar_site_forecast_hists,\n",
    "                       scenario_start_time, solar_meta_df)\n",
    "\n",
    "se.fit_load_solar_joint_model(load_zone_actual_hists,\n",
    "                              load_zone_forecast_hists)\n",
    "se.create_load_solar_joint_scenario(scenario_count,\n",
    "                                    load_zone_forecast_futures,\n",
    "                                    solar_site_forecast_futures)"
   ]
  },
  {
   "cell_type": "code",
   "execution_count": null,
   "metadata": {},
   "outputs": [],
   "source": [
    "out_dir = Path(data_dir, '..')\n",
    "se.write_to_csv(out_dir, {'load': load_zone_actual_futures,\n",
    "                          'solar': solar_site_actual_futures},\n",
    "                write_forecasts=True)\n",
    "!ls {Path(out_dir, \"20181001\", 'solar')}"
   ]
  },
  {
   "cell_type": "code",
   "execution_count": null,
   "metadata": {},
   "outputs": [],
   "source": [
    "df = pd.read_csv(\"{}/20181001/solar/Adamstown_Solar.csv\".format(out_dir))"
   ]
  },
  {
   "cell_type": "code",
   "execution_count": null,
   "metadata": {},
   "outputs": [],
   "source": [
    "import matplotlib.pyplot as plt\n",
    "%matplotlib inline\n",
    "plt.rcParams['figure.figsize'] = [19, 11]\n",
    "\n",
    "_ = plt.hist(df['1700'], bins=30)"
   ]
  },
  {
   "cell_type": "code",
   "execution_count": null,
   "metadata": {},
   "outputs": [],
   "source": [
    "df1 = pd.read_csv(\"{}/20181001/load/South_Central.csv\".format(out_dir))\n",
    "df2 = pd.read_csv(\"{}/20181001/load/Coast.csv\".format(out_dir))\n",
    "\n",
    "# df1 = pd.read_csv('/Users/xy3134/Research/PERFORM/Data/GEMINI_scenario/test/20180210/solar/solar290.csv')\n",
    "# df2 = pd.read_csv('/Users/xy3134/Research/PERFORM/Data/GEMINI_scenario/test/20180210/solar/solar291.csv')"
   ]
  },
  {
   "cell_type": "code",
   "execution_count": null,
   "metadata": {},
   "outputs": [],
   "source": [
    "plt.hist(df.iloc[2:, :]['1900'], bins=30)\n",
    "plt.vlines(df.iloc[0:1, :]['1900'], ymin=0, ymax=120, color='red')\n",
    "plt.vlines(df.iloc[1:2, :]['1900'], ymin=0, ymax=120, color='green')"
   ]
  },
  {
   "cell_type": "code",
   "execution_count": null,
   "metadata": {},
   "outputs": [],
   "source": [
    "import numpy as np\n",
    "\n",
    "idx = np.random.randint(1000)\n",
    "# idx = 200\n",
    "plt.plot(df1.iloc[0, 2:],label='actual')\n",
    "plt.plot(df1.iloc[1, 2:],label='forecast')\n",
    "plt.plot(df1.iloc[idx, 2:],label='scenario')\n",
    "plt.legend()"
   ]
  },
  {
   "cell_type": "code",
   "execution_count": null,
   "metadata": {},
   "outputs": [],
   "source": [
    "idx = 200\n",
    "plt.plot(df2.iloc[0,2:],label='actual')\n",
    "plt.plot(df2.iloc[1,2:],label='forecast')\n",
    "plt.plot(df2.iloc[idx,2:],label='scenario')\n",
    "plt.legend()"
   ]
  },
  {
   "cell_type": "code",
   "execution_count": null,
   "metadata": {},
   "outputs": [],
   "source": [
    "plt_asset, plt_ts = tuple(se.gemini_dict['day']['solar_model'].conditional_gpd_dict.keys())[204]\n",
    "print('   '.join([plt_asset, str(plt_ts)]))\n",
    "\n",
    "_ = plt.hist(\n",
    "    se.gemini_dict['day']['solar_model'].conditional_gpd_dict[\n",
    "        plt_asset, plt_ts].slots['data'],\n",
    "    bins=30\n",
    "    )"
   ]
  },
  {
   "cell_type": "code",
   "execution_count": null,
   "metadata": {},
   "outputs": [],
   "source": [
    "load_md = se.gemini_dict['day']['load_model']\n",
    "# df[df['1900']>18000]\n",
    "_ = plt.plot(load_md.scen_df.loc[893, 'Coast'])\n",
    "_ = plt.plot(load_md.scen_df.loc[342, 'Coast'])"
   ]
  },
  {
   "cell_type": "code",
   "execution_count": null,
   "metadata": {},
   "outputs": [],
   "source": [
    "plt_ts = load_md.scen_timesteps[3]\n",
    "print(plt_ts)\n",
    "\n",
    "_ = plt.hist(load_md.scen_df['Coast'][plt_ts], bins=30)"
   ]
  },
  {
   "cell_type": "code",
   "execution_count": null,
   "metadata": {},
   "outputs": [],
   "source": [
    "load_act_fcst_df = load_zone_actual_df.merge(\n",
    "    load_zone_forecast_df, how='inner',\n",
    "    left_on='Time', right_on='Forecast_time',\n",
    "    suffixes=['_Actual','_Forecast']\n",
    "    )\n",
    "\n",
    "df = load_act_fcst_df.loc[:, ['Coast_Actual', 'Coast_Forecast']]\n",
    "df['Deviation'] = df['Coast_Actual'] - df['Coast_Forecast']\n",
    "_ = plt.scatter(df['Coast_Forecast'], df['Deviation'])"
   ]
  },
  {
   "cell_type": "code",
   "execution_count": null,
   "metadata": {},
   "outputs": [],
   "source": [
    "joint_md = se.gemini_dict['day']['joint_model']\n",
    "\n",
    "cov = joint_md.asset_cov.values\n",
    "arr = (np.diag(1 / np.sqrt(np.diag(cov)))\n",
    "       @ cov @ np.diag(1 / np.sqrt(np.diag(cov))))\n",
    "\n",
    "corr = pd.DataFrame(data=arr,\n",
    "                    columns=joint_md.asset_cov.columns,\n",
    "                    index=joint_md.asset_cov.index)\n",
    "\n",
    "corr"
   ]
  },
  {
   "cell_type": "code",
   "execution_count": null,
   "metadata": {},
   "outputs": [],
   "source": [
    "import seaborn as sns\n",
    "from scipy.spatial import distance\n",
    "from scipy.cluster.hierarchy import linkage, dendrogram\n",
    "\n",
    "cov_cmap = sns.diverging_palette(3, 237, s=81, l=43, sep=3, as_cmap=True)\n",
    "\n",
    "def get_clustermat(cov_mat):\n",
    "    clust_order = dendrogram(linkage(distance.pdist(cov_mat,\n",
    "                                                    metric='euclidean'),\n",
    "                                     method='centroid'),\n",
    "                             no_plot=True)['leaves']\n",
    "    \n",
    "    return cov_mat.iloc[clust_order, clust_order]\n",
    "\n",
    "_ = sns.heatmap(get_clustermat(corr), cmap=cov_cmap, vmin=-1, vmax=1, square=True)"
   ]
  },
  {
   "cell_type": "code",
   "execution_count": null,
   "metadata": {},
   "outputs": [],
   "source": [
    "_ = sns.heatmap(joint_md.gauss_df)"
   ]
  },
  {
   "cell_type": "code",
   "execution_count": null,
   "metadata": {},
   "outputs": [],
   "source": [
    "from statsmodels.distributions.empirical_distribution import ECDF\n",
    "from scipy.stats import norm\n",
    "import numpy as np\n",
    "\n",
    "arr = np.random.randn(1000)\n",
    "f = ECDF(arr)\n",
    "_ = plt.hist(np.clip(norm.ppf(f(arr)), 0, 1), bins=100)"
   ]
  }
 ],
 "metadata": {
  "kernelspec": {
   "display_name": "pgscen [~/.conda/envs/pgscen/]",
   "language": "python",
   "name": "conda_pgscen"
  },
  "language_info": {
   "codemirror_mode": {
    "name": "ipython",
    "version": 3
   },
   "file_extension": ".py",
   "mimetype": "text/x-python",
   "name": "python",
   "nbconvert_exporter": "python",
   "pygments_lexer": "ipython3",
   "version": "3.8.12"
  }
 },
 "nbformat": 4,
 "nbformat_minor": 5
}
