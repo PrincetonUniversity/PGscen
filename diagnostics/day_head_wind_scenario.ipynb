{
 "cells": [
  {
   "cell_type": "code",
   "execution_count": null,
   "metadata": {},
   "outputs": [],
   "source": [
    "from pathlib import Path\n",
    "import pandas as pd\n",
    "from pgscen.command_line import (\n",
    "    load_wind_data, split_actuals_hist_future, split_forecasts_hist_future)\n",
    "\n",
    "\n",
    "cur_path = Path(\"day-ahead_wind_scenario.ipynb\").parent.resolve()\n",
    "data_dir = Path(cur_path, '..', \"data\").resolve()\n",
    "wind_site_actual_df, wind_site_forecast_df, wind_meta_df = load_wind_data()\n",
    "\n",
    "scenario_start_time = pd.to_datetime('2018-07-01 06:00:00',utc=True)\n",
    "scen_timesteps = pd.date_range(start=scenario_start_time,\n",
    "                               periods=24, freq='H')\n",
    "\n",
    "(wind_site_actual_hists,\n",
    "     wind_site_actual_futures) = split_actuals_hist_future(\n",
    "            wind_site_actual_df, scen_timesteps, in_sample=True)\n",
    "(wind_site_forecast_hists,\n",
    "     wind_site_forecast_futures) = split_forecasts_hist_future(\n",
    "            wind_site_forecast_df, scen_timesteps, in_sample=True)"
   ]
  },
  {
   "cell_type": "code",
   "execution_count": null,
   "metadata": {},
   "outputs": [],
   "source": [
    "from pgscen.engine import GeminiEngine\n",
    "\n",
    "scenario_count=1000\n",
    "\n",
    "ge = GeminiEngine(wind_site_actual_hists, wind_site_forecast_hists,\n",
    "                  scenario_start_time, wind_meta_df, 'wind')\n",
    "\n",
    "dist = ge.asset_distance().values\n",
    "ge.fit(dist / (10 * dist.max()), 5e-2)\n",
    "\n",
    "ge.create_scenario(scenario_count, wind_site_forecast_futures)"
   ]
  },
  {
   "cell_type": "code",
   "execution_count": null,
   "metadata": {},
   "outputs": [],
   "source": [
    "ge.model.hist_dev_df"
   ]
  },
  {
   "cell_type": "code",
   "execution_count": null,
   "metadata": {},
   "outputs": [],
   "source": [
    "import matplotlib.pyplot as plt\n",
    "%matplotlib inline\n",
    "plt.rcParams['figure.figsize'] = [19, 11]\n",
    "\n",
    "plt_asset = ge.asset_list[21]\n",
    "plt_ts = ge.scen_timesteps[18]\n",
    "print(\"{} at {}\".format(plt_asset, plt_ts))\n",
    "_ = plt.hist(ge.model.scen_df[plt_asset][plt_ts], bins=30)"
   ]
  },
  {
   "cell_type": "code",
   "execution_count": null,
   "metadata": {},
   "outputs": [],
   "source": [
    "out_dir = Path(data_dir, '..')\n",
    "ge.write_to_csv(out_dir, wind_site_actual_futures, write_forecasts=True)\n",
    "df = pd.read_csv(\"{}/20180701/wind/Wilson_Ranch.csv\".format(out_dir))\n",
    "print(df)"
   ]
  },
  {
   "cell_type": "code",
   "execution_count": null,
   "metadata": {},
   "outputs": [],
   "source": [
    "import numpy as np\n",
    "\n",
    "idx = np.random.randint(1000)\n",
    "plt.plot(df.iloc[0, 2:],label='actual')\n",
    "plt.plot(df.iloc[1, 2:],label='forecast')\n",
    "plt.plot(df.iloc[idx, 2:],label='scenario')\n",
    "_ = plt.legend()"
   ]
  },
  {
   "cell_type": "code",
   "execution_count": null,
   "metadata": {},
   "outputs": [],
   "source": [
    "_ = plt.hist(df.iloc[2:, :]['0600'],bins=30)"
   ]
  }
 ],
 "metadata": {
  "kernelspec": {
   "display_name": "pgscen [~/.conda/envs/pgscen/]",
   "language": "python",
   "name": "conda_pgscen"
  },
  "language_info": {
   "codemirror_mode": {
    "name": "ipython",
    "version": 3
   },
   "file_extension": ".py",
   "mimetype": "text/x-python",
   "name": "python",
   "nbconvert_exporter": "python",
   "pygments_lexer": "ipython3",
   "version": "3.8.12"
  }
 },
 "nbformat": 4,
 "nbformat_minor": 5
}
